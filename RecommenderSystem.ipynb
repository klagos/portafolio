{
  "nbformat": 4,
  "nbformat_minor": 0,
  "metadata": {
    "kernelspec": {
      "display_name": "Python 3",
      "language": "python",
      "name": "python3"
    },
    "language_info": {
      "codemirror_mode": {
        "name": "ipython",
        "version": 3
      },
      "file_extension": ".py",
      "mimetype": "text/x-python",
      "name": "python",
      "nbconvert_exporter": "python",
      "pygments_lexer": "ipython3",
      "version": "3.8.5"
    },
    "colab": {
      "name": "T3_Lagos_Navarro.ipynb",
      "provenance": [],
      "collapsed_sections": [],
      "toc_visible": true
    },
    "accelerator": "TPU"
  },
  "cells": [
    {
      "cell_type": "markdown",
      "metadata": {
        "id": "IbgBLGBlvbps"
      },
      "source": [
        "# Recommender Systems on MovieLens\n",
        "Authors: Kevin Lagos & Andrés Navarro"
      ]
    },
    {
      "cell_type": "code",
      "metadata": {
        "id": "UA1ISO4Svbp1"
      },
      "source": [
        "#Librerías \n",
        "import pandas as pd\n",
        "import numpy as np\n",
        "from sklearn.metrics.pairwise import cosine_similarity\n",
        "from sklearn.preprocessing import MinMaxScaler\n",
        "from sklearn.neighbors import NearestNeighbors\n",
        "import operator\n",
        "import random\n",
        "import matplotlib.pyplot as plt"
      ],
      "execution_count": null,
      "outputs": []
    },
    {
      "cell_type": "markdown",
      "metadata": {
        "id": "VuWnRojevbp2"
      },
      "source": [
        "## Datasets"
      ]
    },
    {
      "cell_type": "markdown",
      "metadata": {
        "id": "bIJnZh2Vvbp2"
      },
      "source": [
        "   ### 1. MovieLens: \n",
        "   Es uno de los datasets más populares de recomendación y recopila las preferencias de usuarios de internet con respecto a películas que son evaluadas de 0 a 5 estrellas. Este dataset ha sido utilizado en diversos estudios de investigación en áreas como la recomendación personalizada y la psicología social.  \n",
        "* <b>Archivos: </b>\n",
        "    - ML_ratings.csv: contiene los ratings dados por usuarios a películas. Se compone por las columnas user_id, movie_id y rating. \n",
        "    - movies.csv: contiene la metadata sobre las películas. Incluye las columnas movie_id, title y genres (donde se encuentran los géneros de la película separados por \"|\"). \n",
        " \n",
        "* <b>Cantidad de ratings</b>: 100836\n",
        "* <b>Cantidad de usuarios</b>: 610\n",
        "* <b>Cantidad de películas</b>: 9724\n",
        "* <b>Calificación</b> 0 a 5 (valores enteros) \n",
        "\n",
        "Referencias: [Movielens Dataset](https://grouplens.org/datasets/movielens/) \n",
        "   "
      ]
    },
    {
      "cell_type": "markdown",
      "metadata": {
        "id": "olluVr4a79LT"
      },
      "source": [
        "#### Preprocesamiento de datos"
      ]
    },
    {
      "cell_type": "code",
      "metadata": {
        "id": "qU0moaYlvbp3"
      },
      "source": [
        "#Carga de datos\n",
        "movies = pd.read_csv(\"ML_ratings.csv\")\n",
        "moviesIds = pd.read_csv(\"movies.csv\")"
      ],
      "execution_count": null,
      "outputs": []
    },
    {
      "cell_type": "markdown",
      "metadata": {
        "id": "slo5luSUvbp4"
      },
      "source": [
        "### 2. Book-Crossing: \n",
        "Es un datasets de ratings de libros recolectado por Cai-Nicolas Ziegler desde la <i>Book-Crossing community</i>. El dataset original contiene 1,149,780 ratings generados por 278,858 usuarios a 271,379 libros. \n",
        "\n",
        "* <b>Archivos</b>: \n",
        "    - BX_ratings.csv: contiene los ratings dados por usuarios a diferentes libros. Se compone de las columnas user_id, ISBN (identificador para los libros) y rating.\n",
        "    - books.csv: contiene los títulos de libros asociados a los códigos ISBN (utilizados como item_id). Se compone de las columnas ISBN y title. \n",
        "\n",
        "* <b>Cantidad de ratings</b>: 359263\n",
        "* <b>Cantidad de usuarios</b>: 10775\n",
        "* <b>Cantidad de libros</b>: 10773\n",
        "* <b>Calificación</b>: 0 a 10 (valores enteros)\n",
        "\n",
        "Referencias: [Book-Crossing Dataset](http://www2.informatik.uni-freiburg.de/~cziegler/BX/)"
      ]
    },
    {
      "cell_type": "markdown",
      "metadata": {
        "id": "QSImmnhfLBMw"
      },
      "source": [
        "#### Preprocesamiento de datos"
      ]
    },
    {
      "cell_type": "code",
      "metadata": {
        "id": "5qCq6dB-vbp6"
      },
      "source": [
        "# Carga de datos\n",
        "books = pd.read_csv(\"BX_ratings.csv\")\n",
        "booksIds = pd.read_csv(\"books.csv\")"
      ],
      "execution_count": null,
      "outputs": []
    },
    {
      "cell_type": "markdown",
      "metadata": {
        "id": "nSWShCZxvbp6"
      },
      "source": [
        "### 3. Jester: \n",
        "Es un dataset desarrollado por Ken Goldberg y su equipo en la Universidad de Berkeley, el cual contiene alrededor de 6 millones de ratings con respecto a 150 chistes cortos. \n",
        "* <b>Archivos</b>:\n",
        "    - JT_ratings.csv: contiene los ratings dados por usuarios a diferentes chistes cortos. Se compone por las columnas joke_id, user_id y rating. \n",
        "    - jokes.csv: contiene \n",
        "\n",
        "* <b>Cantidad de ratings</b>: 199900\n",
        "* <b>Cantidad de usuarios</b>: 1999\n",
        "* <b>Cantidad de chistes</b>: 100 \n",
        "* <b>Calificación</b>: -10 a 10 (valores reales)\n",
        "    \n",
        "Referencias: [Jester Dataset](http://eigentaste.berkeley.edu/dataset/)"
      ]
    },
    {
      "cell_type": "code",
      "metadata": {
        "id": "t_ryferevbp7",
        "outputId": "d76c7abf-18e1-4086-e685-ae900f26b7ec"
      },
      "source": [
        "df = pd.read_csv(\"JT_ratings.csv\")\n",
        "df.head()"
      ],
      "execution_count": null,
      "outputs": [
        {
          "output_type": "execute_result",
          "data": {
            "text/html": [
              "<div>\n",
              "<style scoped>\n",
              "    .dataframe tbody tr th:only-of-type {\n",
              "        vertical-align: middle;\n",
              "    }\n",
              "\n",
              "    .dataframe tbody tr th {\n",
              "        vertical-align: top;\n",
              "    }\n",
              "\n",
              "    .dataframe thead th {\n",
              "        text-align: right;\n",
              "    }\n",
              "</style>\n",
              "<table border=\"1\" class=\"dataframe\">\n",
              "  <thead>\n",
              "    <tr style=\"text-align: right;\">\n",
              "      <th></th>\n",
              "      <th>joke_id</th>\n",
              "      <th>user_id</th>\n",
              "      <th>rating</th>\n",
              "    </tr>\n",
              "  </thead>\n",
              "  <tbody>\n",
              "    <tr>\n",
              "      <th>0</th>\n",
              "      <td>0</td>\n",
              "      <td>1</td>\n",
              "      <td>5.10</td>\n",
              "    </tr>\n",
              "    <tr>\n",
              "      <th>1</th>\n",
              "      <td>1</td>\n",
              "      <td>1</td>\n",
              "      <td>4.90</td>\n",
              "    </tr>\n",
              "    <tr>\n",
              "      <th>2</th>\n",
              "      <td>2</td>\n",
              "      <td>1</td>\n",
              "      <td>1.75</td>\n",
              "    </tr>\n",
              "    <tr>\n",
              "      <th>3</th>\n",
              "      <td>3</td>\n",
              "      <td>1</td>\n",
              "      <td>-4.17</td>\n",
              "    </tr>\n",
              "    <tr>\n",
              "      <th>4</th>\n",
              "      <td>4</td>\n",
              "      <td>1</td>\n",
              "      <td>5.15</td>\n",
              "    </tr>\n",
              "  </tbody>\n",
              "</table>\n",
              "</div>"
            ],
            "text/plain": [
              "   joke_id  user_id  rating\n",
              "0        0        1    5.10\n",
              "1        1        1    4.90\n",
              "2        2        1    1.75\n",
              "3        3        1   -4.17\n",
              "4        4        1    5.15"
            ]
          },
          "metadata": {
            "tags": []
          },
          "execution_count": 8
        }
      ]
    },
    {
      "cell_type": "markdown",
      "metadata": {
        "id": "IGOYw8wSvbp7"
      },
      "source": [
        "## Instrucciones"
      ]
    },
    {
      "cell_type": "markdown",
      "metadata": {
        "id": "Wt4D0JoOvbp8"
      },
      "source": [
        "<img src=\"https://media.springernature.com/lw685/springer-static/image/art%3A10.1007%2Fs11227-020-03266-2/MediaObjects/11227_2020_3266_Fig1_HTML.png\" title=\"Title text\" width=\"60%\" />\n",
        "<center> <i> Figura 1. Collaborative Filtering. </i> </center>"
      ]
    },
    {
      "cell_type": "markdown",
      "metadata": {
        "id": "GUXa1Ihnvbp8"
      },
      "source": [
        "## 1. User based Collaborative Filtering"
      ]
    },
    {
      "cell_type": "code",
      "metadata": {
        "id": "20m0tlNiveza"
      },
      "source": [
        "#Obtencion de la similaridad de coseno de un usuario con el resto\n",
        "def getCosSim(matrix, user):\n",
        "  user1 = matrix[matrix.index == user].to_numpy()[0]\n",
        "  dicSims = dict()\n",
        "  otherUsers = matrix[matrix.index != user]\n",
        "\n",
        "  for index, row in otherUsers.iterrows():\n",
        "    user2 = matrix[matrix.index == index].to_numpy()[0]\n",
        "    user1NotNan = np.array([])\n",
        "    user2NotNan = np.array([])\n",
        "    for i in range(len(user1)):\n",
        "      if not np.isnan(user1[i]) and not np.isnan(user2[i]):\n",
        "        user1NotNan = np.append(user1NotNan, user1[i])\n",
        "        user2NotNan = np.append(user2NotNan, user2[i])\n",
        "    #Solo si la intersección entre estos no es vacia se calcula el coseno\n",
        "    if user1NotNan.size > 0:\n",
        "      norma = np.linalg.norm(user1NotNan) * np.linalg.norm(user2NotNan)\n",
        "      #Evitar que el denominador de la similaridad sea cero\n",
        "      if norma > 0:\n",
        "        cosineSim = np.sum(user1NotNan*user2NotNan) / norma\n",
        "        dicSims[index] = cosineSim\n",
        "  return dicSims\n",
        "\n",
        "#Obtencion de los ratings para peliculas/libros no vistas/os por un usuario dado\n",
        "def estimateRating(matrix, ratingMean, otherUsers, user):\n",
        "  mean = float(ratingMean[ratingMean[\"user_id\"] == user][\"rating_mean\"])\n",
        "  user1 = matrix[matrix.index == user]\n",
        "  moviesToCheck = list(user1.columns[np.isnan(user1.iloc[0])])\n",
        "  diccRatings = {}\n",
        "  #Obtener todas las peliculas que el usuario no ha dado rating\n",
        "  for movieId in moviesToCheck:\n",
        "    numerador = 0\n",
        "    denominador = 0\n",
        "    #Se recorren los vecinos más cercanos a este usuario\n",
        "    for userId, similitud in otherUsers:\n",
        "      value = matrix.loc[userId, movieId]\n",
        "      if not np.isnan(value):\n",
        "        numerador += value * similitud\n",
        "        denominador += similitud\n",
        "    if denominador != 0:  \n",
        "      diccRatings[movieId] = mean + numerador/denominador\n",
        "  return diccRatings\n",
        "\n",
        "# Porcentaje de sparsity de la matriz\n",
        "def getSparsity(dataF):\n",
        "  dimx = dataF.shape[0]\n",
        "  dimy = dataF.shape[1]\n",
        "  missingValsCount = sum(dataF.isnull().sum(axis=0))\n",
        "  return (missingValsCount/(dimx * dimy))"
      ],
      "execution_count": null,
      "outputs": []
    },
    {
      "cell_type": "markdown",
      "metadata": {
        "id": "v0U3q5TqpGGk"
      },
      "source": [
        "### Movies Dataset"
      ]
    },
    {
      "cell_type": "markdown",
      "metadata": {
        "id": "UE_2Jb4U8raV"
      },
      "source": [
        "Debido a que tenemos un mayor conocimiento de películas de super-héroes se decidió clasificar 10 películas de esta índole, para ver si, efectivamente, se logran dar recomendaciones de películas similares. Sin embargo, se trata de no tener ninguna inclinación específica respecto a algún género presente en el dataset (a pesar de que seguramente se repetirán algunos), o por ejemplo, películas producidas sólo por Marvel o sólo de animación. También se intentó incluir películas antiguas.\n",
        "\n",
        "| movie_id | título | géneros | calificación |\n",
        "|----------|--------|---------|--------------|\n",
        "| 122912   | Avengers: Infinity War - Part I (2018)        |    Action\\|Adventure\\|Sci-Fi      |       5.0       |\n",
        "|  2640    | Superman (1978)  |  Action\\|Adventure\\|Sci-Fi       | 4.0              |\n",
        "|     27311      |    Batman Beyond: Return of the Joker (2000)     |   Action\\|Animation\\|Crime\\|Sci-Fi\\|Thriller      |  4.5            |\n",
        "|     153     |   Batman Forever (1995)     |    Action\\|Adventure\\|Comedy\\|Crime    |   2.0           |\n",
        "|  122926        |  Untitled Spider-Man Reboot (2017)      |  Action\\|Adventure\\|Fantasy       |   4.0           |\n",
        "| 106072         |   Thor: The Dark World (2013)     |   Action\\|Adventure\\|Fantasy\\|IMAX      |       3.0       |\n",
        "|       3213   |    Batman: Mask of the Phantasm     |   Animation\\|Children      |       3.5       |\n",
        "|     87430     |    Green Lantern (2011)    |    Action\\|Adventure\\|Sci-Fi     |     1.0         |\n",
        "|    58559      |     Dark Knight, The (2008)    |     Action\\|Crime\\|Drama\\|IMAX    |    5.0          |\n",
        "| 143355 |Wonder Woman (2017) |Action\\|Adventure\\|Fantasy | 4.5|\n",
        "\n",
        "\n",
        "\n",
        "\n"
      ]
    },
    {
      "cell_type": "code",
      "metadata": {
        "id": "1WAso61k7dUs"
      },
      "source": [
        "random.seed(2021)\n",
        "np.random.seed(2021)\n",
        "#Usuario creado\n",
        "userId = 777\n",
        "userMovies = [122912, 2640, 27311, 153, 122926, 106072, 3213,87430,58559,143355]\n",
        "userRatings = [5.0,4.0,4.5,2.0,4.0,3.0,3.5,1.0,5.0,4.5]\n",
        "#Nueva matriz para añadir al nuevo usuario\n",
        "moviesNewUser = movies\n",
        "\n",
        "for i in range(10):\n",
        "  dfTemp = pd.DataFrame([[userId, userMovies[i], userRatings[i]]], columns = [\"user_id\", \"movie_id\", \"rating\"], index=[i] )\n",
        "  moviesNewUser = moviesNewUser.append(dfTemp, ignore_index=True)\n"
      ],
      "execution_count": null,
      "outputs": []
    },
    {
      "cell_type": "code",
      "metadata": {
        "colab": {
          "base_uri": "https://localhost:8080/"
        },
        "id": "0yh-6__VQ37L",
        "outputId": "f098f94d-89f2-4c4e-95cc-e07526f82537"
      },
      "source": [
        "#Matrices pivot a usar\n",
        "user_item_matrix_og = movies.pivot(index = 'user_id', columns ='movie_id', values = 'rating')\n",
        "user_item_matrix_new = moviesNewUser.pivot(index = 'user_id', columns ='movie_id', values = 'rating')\n",
        "\n",
        "print(\"Porcentaje de sparsity para la matriz sin el usuario nuevo: \" + str(getSparsity(user_item_matrix_og)))\n",
        "print(\"Porcentaje de sparsity para la matriz con el usuario nuevo: \" + str(getSparsity(user_item_matrix_new)))\n",
        "\n"
      ],
      "execution_count": null,
      "outputs": [
        {
          "output_type": "stream",
          "text": [
            "Porcentaje de sparsity para la matriz sin el usuario nuevo: 0.9830003169443864\n",
            "Porcentaje de sparsity para la matriz con el usuario nuevo: 0.9830264565510546\n"
          ],
          "name": "stdout"
        }
      ]
    },
    {
      "cell_type": "code",
      "metadata": {
        "colab": {
          "base_uri": "https://localhost:8080/",
          "height": 274
        },
        "id": "bKK8HJW2ZUnA",
        "outputId": "501cd89a-9115-4a40-f6aa-4cbddf7fe7a2"
      },
      "source": [
        "#Rating promedio\n",
        "rating_mean= moviesNewUser.groupby(['user_id'], as_index = False, sort = False).mean().rename(columns = {'rating': 'rating_mean'})[['user_id','rating_mean']]\n",
        "#Mean centered rating\n",
        "adjusted_ratings = pd.merge(moviesNewUser,rating_mean,on = 'user_id', how = 'left', sort = False)\n",
        "adjusted_ratings['rating_adjusted']=adjusted_ratings['rating']-adjusted_ratings['rating_mean']\n",
        "#Pivoteo para dejar la matriz usuarios-items con los mean centered ratings\n",
        "adjusted_ratings = adjusted_ratings.pivot(index = 'user_id', columns ='movie_id', values = 'rating_adjusted')\n",
        "adjusted_ratings.head()"
      ],
      "execution_count": null,
      "outputs": [
        {
          "output_type": "execute_result",
          "data": {
            "text/html": [
              "<div>\n",
              "<style scoped>\n",
              "    .dataframe tbody tr th:only-of-type {\n",
              "        vertical-align: middle;\n",
              "    }\n",
              "\n",
              "    .dataframe tbody tr th {\n",
              "        vertical-align: top;\n",
              "    }\n",
              "\n",
              "    .dataframe thead th {\n",
              "        text-align: right;\n",
              "    }\n",
              "</style>\n",
              "<table border=\"1\" class=\"dataframe\">\n",
              "  <thead>\n",
              "    <tr style=\"text-align: right;\">\n",
              "      <th>movie_id</th>\n",
              "      <th>1</th>\n",
              "      <th>2</th>\n",
              "      <th>3</th>\n",
              "      <th>4</th>\n",
              "      <th>5</th>\n",
              "      <th>6</th>\n",
              "      <th>7</th>\n",
              "      <th>8</th>\n",
              "      <th>9</th>\n",
              "      <th>10</th>\n",
              "      <th>11</th>\n",
              "      <th>12</th>\n",
              "      <th>13</th>\n",
              "      <th>14</th>\n",
              "      <th>15</th>\n",
              "      <th>16</th>\n",
              "      <th>17</th>\n",
              "      <th>18</th>\n",
              "      <th>19</th>\n",
              "      <th>20</th>\n",
              "      <th>21</th>\n",
              "      <th>22</th>\n",
              "      <th>23</th>\n",
              "      <th>24</th>\n",
              "      <th>25</th>\n",
              "      <th>26</th>\n",
              "      <th>27</th>\n",
              "      <th>28</th>\n",
              "      <th>29</th>\n",
              "      <th>30</th>\n",
              "      <th>31</th>\n",
              "      <th>32</th>\n",
              "      <th>34</th>\n",
              "      <th>36</th>\n",
              "      <th>38</th>\n",
              "      <th>39</th>\n",
              "      <th>40</th>\n",
              "      <th>41</th>\n",
              "      <th>42</th>\n",
              "      <th>43</th>\n",
              "      <th>...</th>\n",
              "      <th>185135</th>\n",
              "      <th>185435</th>\n",
              "      <th>185473</th>\n",
              "      <th>185585</th>\n",
              "      <th>186587</th>\n",
              "      <th>187031</th>\n",
              "      <th>187541</th>\n",
              "      <th>187593</th>\n",
              "      <th>187595</th>\n",
              "      <th>187717</th>\n",
              "      <th>188189</th>\n",
              "      <th>188301</th>\n",
              "      <th>188675</th>\n",
              "      <th>188751</th>\n",
              "      <th>188797</th>\n",
              "      <th>188833</th>\n",
              "      <th>189043</th>\n",
              "      <th>189111</th>\n",
              "      <th>189333</th>\n",
              "      <th>189381</th>\n",
              "      <th>189547</th>\n",
              "      <th>189713</th>\n",
              "      <th>190183</th>\n",
              "      <th>190207</th>\n",
              "      <th>190209</th>\n",
              "      <th>190213</th>\n",
              "      <th>190215</th>\n",
              "      <th>190219</th>\n",
              "      <th>190221</th>\n",
              "      <th>191005</th>\n",
              "      <th>193565</th>\n",
              "      <th>193567</th>\n",
              "      <th>193571</th>\n",
              "      <th>193573</th>\n",
              "      <th>193579</th>\n",
              "      <th>193581</th>\n",
              "      <th>193583</th>\n",
              "      <th>193585</th>\n",
              "      <th>193587</th>\n",
              "      <th>193609</th>\n",
              "    </tr>\n",
              "    <tr>\n",
              "      <th>user_id</th>\n",
              "      <th></th>\n",
              "      <th></th>\n",
              "      <th></th>\n",
              "      <th></th>\n",
              "      <th></th>\n",
              "      <th></th>\n",
              "      <th></th>\n",
              "      <th></th>\n",
              "      <th></th>\n",
              "      <th></th>\n",
              "      <th></th>\n",
              "      <th></th>\n",
              "      <th></th>\n",
              "      <th></th>\n",
              "      <th></th>\n",
              "      <th></th>\n",
              "      <th></th>\n",
              "      <th></th>\n",
              "      <th></th>\n",
              "      <th></th>\n",
              "      <th></th>\n",
              "      <th></th>\n",
              "      <th></th>\n",
              "      <th></th>\n",
              "      <th></th>\n",
              "      <th></th>\n",
              "      <th></th>\n",
              "      <th></th>\n",
              "      <th></th>\n",
              "      <th></th>\n",
              "      <th></th>\n",
              "      <th></th>\n",
              "      <th></th>\n",
              "      <th></th>\n",
              "      <th></th>\n",
              "      <th></th>\n",
              "      <th></th>\n",
              "      <th></th>\n",
              "      <th></th>\n",
              "      <th></th>\n",
              "      <th></th>\n",
              "      <th></th>\n",
              "      <th></th>\n",
              "      <th></th>\n",
              "      <th></th>\n",
              "      <th></th>\n",
              "      <th></th>\n",
              "      <th></th>\n",
              "      <th></th>\n",
              "      <th></th>\n",
              "      <th></th>\n",
              "      <th></th>\n",
              "      <th></th>\n",
              "      <th></th>\n",
              "      <th></th>\n",
              "      <th></th>\n",
              "      <th></th>\n",
              "      <th></th>\n",
              "      <th></th>\n",
              "      <th></th>\n",
              "      <th></th>\n",
              "      <th></th>\n",
              "      <th></th>\n",
              "      <th></th>\n",
              "      <th></th>\n",
              "      <th></th>\n",
              "      <th></th>\n",
              "      <th></th>\n",
              "      <th></th>\n",
              "      <th></th>\n",
              "      <th></th>\n",
              "      <th></th>\n",
              "      <th></th>\n",
              "      <th></th>\n",
              "      <th></th>\n",
              "      <th></th>\n",
              "      <th></th>\n",
              "      <th></th>\n",
              "      <th></th>\n",
              "      <th></th>\n",
              "      <th></th>\n",
              "    </tr>\n",
              "  </thead>\n",
              "  <tbody>\n",
              "    <tr>\n",
              "      <th>1</th>\n",
              "      <td>-0.366379</td>\n",
              "      <td>NaN</td>\n",
              "      <td>-0.366379</td>\n",
              "      <td>NaN</td>\n",
              "      <td>NaN</td>\n",
              "      <td>-0.366379</td>\n",
              "      <td>NaN</td>\n",
              "      <td>NaN</td>\n",
              "      <td>NaN</td>\n",
              "      <td>NaN</td>\n",
              "      <td>NaN</td>\n",
              "      <td>NaN</td>\n",
              "      <td>NaN</td>\n",
              "      <td>NaN</td>\n",
              "      <td>NaN</td>\n",
              "      <td>NaN</td>\n",
              "      <td>NaN</td>\n",
              "      <td>NaN</td>\n",
              "      <td>NaN</td>\n",
              "      <td>NaN</td>\n",
              "      <td>NaN</td>\n",
              "      <td>NaN</td>\n",
              "      <td>NaN</td>\n",
              "      <td>NaN</td>\n",
              "      <td>NaN</td>\n",
              "      <td>NaN</td>\n",
              "      <td>NaN</td>\n",
              "      <td>NaN</td>\n",
              "      <td>NaN</td>\n",
              "      <td>NaN</td>\n",
              "      <td>NaN</td>\n",
              "      <td>NaN</td>\n",
              "      <td>NaN</td>\n",
              "      <td>NaN</td>\n",
              "      <td>NaN</td>\n",
              "      <td>NaN</td>\n",
              "      <td>NaN</td>\n",
              "      <td>NaN</td>\n",
              "      <td>NaN</td>\n",
              "      <td>NaN</td>\n",
              "      <td>...</td>\n",
              "      <td>NaN</td>\n",
              "      <td>NaN</td>\n",
              "      <td>NaN</td>\n",
              "      <td>NaN</td>\n",
              "      <td>NaN</td>\n",
              "      <td>NaN</td>\n",
              "      <td>NaN</td>\n",
              "      <td>NaN</td>\n",
              "      <td>NaN</td>\n",
              "      <td>NaN</td>\n",
              "      <td>NaN</td>\n",
              "      <td>NaN</td>\n",
              "      <td>NaN</td>\n",
              "      <td>NaN</td>\n",
              "      <td>NaN</td>\n",
              "      <td>NaN</td>\n",
              "      <td>NaN</td>\n",
              "      <td>NaN</td>\n",
              "      <td>NaN</td>\n",
              "      <td>NaN</td>\n",
              "      <td>NaN</td>\n",
              "      <td>NaN</td>\n",
              "      <td>NaN</td>\n",
              "      <td>NaN</td>\n",
              "      <td>NaN</td>\n",
              "      <td>NaN</td>\n",
              "      <td>NaN</td>\n",
              "      <td>NaN</td>\n",
              "      <td>NaN</td>\n",
              "      <td>NaN</td>\n",
              "      <td>NaN</td>\n",
              "      <td>NaN</td>\n",
              "      <td>NaN</td>\n",
              "      <td>NaN</td>\n",
              "      <td>NaN</td>\n",
              "      <td>NaN</td>\n",
              "      <td>NaN</td>\n",
              "      <td>NaN</td>\n",
              "      <td>NaN</td>\n",
              "      <td>NaN</td>\n",
              "    </tr>\n",
              "    <tr>\n",
              "      <th>2</th>\n",
              "      <td>NaN</td>\n",
              "      <td>NaN</td>\n",
              "      <td>NaN</td>\n",
              "      <td>NaN</td>\n",
              "      <td>NaN</td>\n",
              "      <td>NaN</td>\n",
              "      <td>NaN</td>\n",
              "      <td>NaN</td>\n",
              "      <td>NaN</td>\n",
              "      <td>NaN</td>\n",
              "      <td>NaN</td>\n",
              "      <td>NaN</td>\n",
              "      <td>NaN</td>\n",
              "      <td>NaN</td>\n",
              "      <td>NaN</td>\n",
              "      <td>NaN</td>\n",
              "      <td>NaN</td>\n",
              "      <td>NaN</td>\n",
              "      <td>NaN</td>\n",
              "      <td>NaN</td>\n",
              "      <td>NaN</td>\n",
              "      <td>NaN</td>\n",
              "      <td>NaN</td>\n",
              "      <td>NaN</td>\n",
              "      <td>NaN</td>\n",
              "      <td>NaN</td>\n",
              "      <td>NaN</td>\n",
              "      <td>NaN</td>\n",
              "      <td>NaN</td>\n",
              "      <td>NaN</td>\n",
              "      <td>NaN</td>\n",
              "      <td>NaN</td>\n",
              "      <td>NaN</td>\n",
              "      <td>NaN</td>\n",
              "      <td>NaN</td>\n",
              "      <td>NaN</td>\n",
              "      <td>NaN</td>\n",
              "      <td>NaN</td>\n",
              "      <td>NaN</td>\n",
              "      <td>NaN</td>\n",
              "      <td>...</td>\n",
              "      <td>NaN</td>\n",
              "      <td>NaN</td>\n",
              "      <td>NaN</td>\n",
              "      <td>NaN</td>\n",
              "      <td>NaN</td>\n",
              "      <td>NaN</td>\n",
              "      <td>NaN</td>\n",
              "      <td>NaN</td>\n",
              "      <td>NaN</td>\n",
              "      <td>NaN</td>\n",
              "      <td>NaN</td>\n",
              "      <td>NaN</td>\n",
              "      <td>NaN</td>\n",
              "      <td>NaN</td>\n",
              "      <td>NaN</td>\n",
              "      <td>NaN</td>\n",
              "      <td>NaN</td>\n",
              "      <td>NaN</td>\n",
              "      <td>NaN</td>\n",
              "      <td>NaN</td>\n",
              "      <td>NaN</td>\n",
              "      <td>NaN</td>\n",
              "      <td>NaN</td>\n",
              "      <td>NaN</td>\n",
              "      <td>NaN</td>\n",
              "      <td>NaN</td>\n",
              "      <td>NaN</td>\n",
              "      <td>NaN</td>\n",
              "      <td>NaN</td>\n",
              "      <td>NaN</td>\n",
              "      <td>NaN</td>\n",
              "      <td>NaN</td>\n",
              "      <td>NaN</td>\n",
              "      <td>NaN</td>\n",
              "      <td>NaN</td>\n",
              "      <td>NaN</td>\n",
              "      <td>NaN</td>\n",
              "      <td>NaN</td>\n",
              "      <td>NaN</td>\n",
              "      <td>NaN</td>\n",
              "    </tr>\n",
              "    <tr>\n",
              "      <th>3</th>\n",
              "      <td>NaN</td>\n",
              "      <td>NaN</td>\n",
              "      <td>NaN</td>\n",
              "      <td>NaN</td>\n",
              "      <td>NaN</td>\n",
              "      <td>NaN</td>\n",
              "      <td>NaN</td>\n",
              "      <td>NaN</td>\n",
              "      <td>NaN</td>\n",
              "      <td>NaN</td>\n",
              "      <td>NaN</td>\n",
              "      <td>NaN</td>\n",
              "      <td>NaN</td>\n",
              "      <td>NaN</td>\n",
              "      <td>NaN</td>\n",
              "      <td>NaN</td>\n",
              "      <td>NaN</td>\n",
              "      <td>NaN</td>\n",
              "      <td>NaN</td>\n",
              "      <td>NaN</td>\n",
              "      <td>NaN</td>\n",
              "      <td>NaN</td>\n",
              "      <td>NaN</td>\n",
              "      <td>NaN</td>\n",
              "      <td>NaN</td>\n",
              "      <td>NaN</td>\n",
              "      <td>NaN</td>\n",
              "      <td>NaN</td>\n",
              "      <td>NaN</td>\n",
              "      <td>NaN</td>\n",
              "      <td>-1.935897</td>\n",
              "      <td>NaN</td>\n",
              "      <td>NaN</td>\n",
              "      <td>NaN</td>\n",
              "      <td>NaN</td>\n",
              "      <td>NaN</td>\n",
              "      <td>NaN</td>\n",
              "      <td>NaN</td>\n",
              "      <td>NaN</td>\n",
              "      <td>NaN</td>\n",
              "      <td>...</td>\n",
              "      <td>NaN</td>\n",
              "      <td>NaN</td>\n",
              "      <td>NaN</td>\n",
              "      <td>NaN</td>\n",
              "      <td>NaN</td>\n",
              "      <td>NaN</td>\n",
              "      <td>NaN</td>\n",
              "      <td>NaN</td>\n",
              "      <td>NaN</td>\n",
              "      <td>NaN</td>\n",
              "      <td>NaN</td>\n",
              "      <td>NaN</td>\n",
              "      <td>NaN</td>\n",
              "      <td>NaN</td>\n",
              "      <td>NaN</td>\n",
              "      <td>NaN</td>\n",
              "      <td>NaN</td>\n",
              "      <td>NaN</td>\n",
              "      <td>NaN</td>\n",
              "      <td>NaN</td>\n",
              "      <td>NaN</td>\n",
              "      <td>NaN</td>\n",
              "      <td>NaN</td>\n",
              "      <td>NaN</td>\n",
              "      <td>NaN</td>\n",
              "      <td>NaN</td>\n",
              "      <td>NaN</td>\n",
              "      <td>NaN</td>\n",
              "      <td>NaN</td>\n",
              "      <td>NaN</td>\n",
              "      <td>NaN</td>\n",
              "      <td>NaN</td>\n",
              "      <td>NaN</td>\n",
              "      <td>NaN</td>\n",
              "      <td>NaN</td>\n",
              "      <td>NaN</td>\n",
              "      <td>NaN</td>\n",
              "      <td>NaN</td>\n",
              "      <td>NaN</td>\n",
              "      <td>NaN</td>\n",
              "    </tr>\n",
              "    <tr>\n",
              "      <th>4</th>\n",
              "      <td>NaN</td>\n",
              "      <td>NaN</td>\n",
              "      <td>NaN</td>\n",
              "      <td>NaN</td>\n",
              "      <td>NaN</td>\n",
              "      <td>NaN</td>\n",
              "      <td>NaN</td>\n",
              "      <td>NaN</td>\n",
              "      <td>NaN</td>\n",
              "      <td>NaN</td>\n",
              "      <td>NaN</td>\n",
              "      <td>NaN</td>\n",
              "      <td>NaN</td>\n",
              "      <td>NaN</td>\n",
              "      <td>NaN</td>\n",
              "      <td>NaN</td>\n",
              "      <td>NaN</td>\n",
              "      <td>NaN</td>\n",
              "      <td>NaN</td>\n",
              "      <td>NaN</td>\n",
              "      <td>-0.555556</td>\n",
              "      <td>NaN</td>\n",
              "      <td>NaN</td>\n",
              "      <td>NaN</td>\n",
              "      <td>NaN</td>\n",
              "      <td>NaN</td>\n",
              "      <td>NaN</td>\n",
              "      <td>NaN</td>\n",
              "      <td>NaN</td>\n",
              "      <td>NaN</td>\n",
              "      <td>NaN</td>\n",
              "      <td>-1.555556</td>\n",
              "      <td>NaN</td>\n",
              "      <td>NaN</td>\n",
              "      <td>NaN</td>\n",
              "      <td>NaN</td>\n",
              "      <td>NaN</td>\n",
              "      <td>NaN</td>\n",
              "      <td>NaN</td>\n",
              "      <td>NaN</td>\n",
              "      <td>...</td>\n",
              "      <td>NaN</td>\n",
              "      <td>NaN</td>\n",
              "      <td>NaN</td>\n",
              "      <td>NaN</td>\n",
              "      <td>NaN</td>\n",
              "      <td>NaN</td>\n",
              "      <td>NaN</td>\n",
              "      <td>NaN</td>\n",
              "      <td>NaN</td>\n",
              "      <td>NaN</td>\n",
              "      <td>NaN</td>\n",
              "      <td>NaN</td>\n",
              "      <td>NaN</td>\n",
              "      <td>NaN</td>\n",
              "      <td>NaN</td>\n",
              "      <td>NaN</td>\n",
              "      <td>NaN</td>\n",
              "      <td>NaN</td>\n",
              "      <td>NaN</td>\n",
              "      <td>NaN</td>\n",
              "      <td>NaN</td>\n",
              "      <td>NaN</td>\n",
              "      <td>NaN</td>\n",
              "      <td>NaN</td>\n",
              "      <td>NaN</td>\n",
              "      <td>NaN</td>\n",
              "      <td>NaN</td>\n",
              "      <td>NaN</td>\n",
              "      <td>NaN</td>\n",
              "      <td>NaN</td>\n",
              "      <td>NaN</td>\n",
              "      <td>NaN</td>\n",
              "      <td>NaN</td>\n",
              "      <td>NaN</td>\n",
              "      <td>NaN</td>\n",
              "      <td>NaN</td>\n",
              "      <td>NaN</td>\n",
              "      <td>NaN</td>\n",
              "      <td>NaN</td>\n",
              "      <td>NaN</td>\n",
              "    </tr>\n",
              "    <tr>\n",
              "      <th>5</th>\n",
              "      <td>0.363636</td>\n",
              "      <td>NaN</td>\n",
              "      <td>NaN</td>\n",
              "      <td>NaN</td>\n",
              "      <td>NaN</td>\n",
              "      <td>NaN</td>\n",
              "      <td>NaN</td>\n",
              "      <td>NaN</td>\n",
              "      <td>NaN</td>\n",
              "      <td>NaN</td>\n",
              "      <td>NaN</td>\n",
              "      <td>NaN</td>\n",
              "      <td>NaN</td>\n",
              "      <td>NaN</td>\n",
              "      <td>NaN</td>\n",
              "      <td>NaN</td>\n",
              "      <td>NaN</td>\n",
              "      <td>NaN</td>\n",
              "      <td>NaN</td>\n",
              "      <td>NaN</td>\n",
              "      <td>0.363636</td>\n",
              "      <td>NaN</td>\n",
              "      <td>NaN</td>\n",
              "      <td>NaN</td>\n",
              "      <td>NaN</td>\n",
              "      <td>NaN</td>\n",
              "      <td>NaN</td>\n",
              "      <td>NaN</td>\n",
              "      <td>NaN</td>\n",
              "      <td>NaN</td>\n",
              "      <td>NaN</td>\n",
              "      <td>NaN</td>\n",
              "      <td>0.363636</td>\n",
              "      <td>0.363636</td>\n",
              "      <td>NaN</td>\n",
              "      <td>-0.636364</td>\n",
              "      <td>NaN</td>\n",
              "      <td>NaN</td>\n",
              "      <td>NaN</td>\n",
              "      <td>NaN</td>\n",
              "      <td>...</td>\n",
              "      <td>NaN</td>\n",
              "      <td>NaN</td>\n",
              "      <td>NaN</td>\n",
              "      <td>NaN</td>\n",
              "      <td>NaN</td>\n",
              "      <td>NaN</td>\n",
              "      <td>NaN</td>\n",
              "      <td>NaN</td>\n",
              "      <td>NaN</td>\n",
              "      <td>NaN</td>\n",
              "      <td>NaN</td>\n",
              "      <td>NaN</td>\n",
              "      <td>NaN</td>\n",
              "      <td>NaN</td>\n",
              "      <td>NaN</td>\n",
              "      <td>NaN</td>\n",
              "      <td>NaN</td>\n",
              "      <td>NaN</td>\n",
              "      <td>NaN</td>\n",
              "      <td>NaN</td>\n",
              "      <td>NaN</td>\n",
              "      <td>NaN</td>\n",
              "      <td>NaN</td>\n",
              "      <td>NaN</td>\n",
              "      <td>NaN</td>\n",
              "      <td>NaN</td>\n",
              "      <td>NaN</td>\n",
              "      <td>NaN</td>\n",
              "      <td>NaN</td>\n",
              "      <td>NaN</td>\n",
              "      <td>NaN</td>\n",
              "      <td>NaN</td>\n",
              "      <td>NaN</td>\n",
              "      <td>NaN</td>\n",
              "      <td>NaN</td>\n",
              "      <td>NaN</td>\n",
              "      <td>NaN</td>\n",
              "      <td>NaN</td>\n",
              "      <td>NaN</td>\n",
              "      <td>NaN</td>\n",
              "    </tr>\n",
              "  </tbody>\n",
              "</table>\n",
              "<p>5 rows × 9724 columns</p>\n",
              "</div>"
            ],
            "text/plain": [
              "movie_id    1       2         3       4       ...  193583  193585  193587  193609\n",
              "user_id                                       ...                                \n",
              "1        -0.366379     NaN -0.366379     NaN  ...     NaN     NaN     NaN     NaN\n",
              "2              NaN     NaN       NaN     NaN  ...     NaN     NaN     NaN     NaN\n",
              "3              NaN     NaN       NaN     NaN  ...     NaN     NaN     NaN     NaN\n",
              "4              NaN     NaN       NaN     NaN  ...     NaN     NaN     NaN     NaN\n",
              "5         0.363636     NaN       NaN     NaN  ...     NaN     NaN     NaN     NaN\n",
              "\n",
              "[5 rows x 9724 columns]"
            ]
          },
          "metadata": {
            "tags": []
          },
          "execution_count": 10
        }
      ]
    },
    {
      "cell_type": "code",
      "metadata": {
        "colab": {
          "base_uri": "https://localhost:8080/",
          "height": 283
        },
        "id": "BRm17Zr10FSe",
        "outputId": "fa1cc34b-b6e2-4573-968d-e188e76fa70f"
      },
      "source": [
        "frecRating = user_item_matrix_new.count(axis=0)\n",
        "frecRating = frecRating.tolist()\n",
        "\n",
        "\n",
        "frecRating.sort()\n",
        "frecRating.reverse()\n",
        "plt.plot([x for x in range(0, len(frecRating))] ,frecRating)\n",
        "plt.title(\"Ítems ordenados de mayor a menor número de ratings\")\n",
        "plt.show()"
      ],
      "execution_count": null,
      "outputs": [
        {
          "output_type": "display_data",
          "data": {
            "image/png": "[encoded data removed]",
            "text/plain": [
              "<Figure size 432x288 with 1 Axes>"
            ]
          },
          "metadata": {
            "tags": [],
            "needs_background": "light"
          }
        }
      ]
    },
    {
      "cell_type": "code",
      "metadata": {
        "colab": {
          "base_uri": "https://localhost:8080/",
          "height": 296
        },
        "id": "RALuZWF6T53X",
        "outputId": "965faf93-6aa9-4115-d4a8-39a54766c298"
      },
      "source": [
        "#Calculo de similitudes para el nuevo usuario\n",
        "cosenoDic = getCosSim(user_item_matrix_new, 777)\n",
        "cosenoDicSorted = sorted(cosenoDic.items(), key=operator.itemgetter(1), reverse=True)\n",
        "\n",
        "#Grafico para visualizar la distancia coseno a este\n",
        "plt.plot([ (1- x[1]) for x in cosenoDicSorted])\n",
        "plt.xlabel(\"Usuarios ordenados de mayor a menor similaridad\")\n",
        "plt.ylabel(\"Distancia coseno a usuario objetivo\")\n",
        "plt.show()\n",
        "\n",
        "print(\"Cantidad de usuarios con similitud mayor a 0.99: \", len([ (1- x[1]) for x in cosenoDicSorted if x[1] > 0.99]))"
      ],
      "execution_count": null,
      "outputs": [
        {
          "output_type": "display_data",
          "data": {
            "image/png": "[encoded data removed]",
            "text/plain": [
              "<Figure size 432x288 with 1 Axes>"
            ]
          },
          "metadata": {
            "tags": [],
            "needs_background": "light"
          }
        },
        {
          "output_type": "stream",
          "text": [
            "Cantidad de usuarios con similitud mayor a 0.99:  244\n"
          ],
          "name": "stdout"
        }
      ]
    },
    {
      "cell_type": "code",
      "metadata": {
        "id": "3rRe2DP2eZ6n"
      },
      "source": [
        "#En base a 5 usuarios con similitud 1\n",
        "ratingsEstimadosK5 = estimateRating(adjusted_ratings, rating_mean, cosenoDicSorted[:5], 777)\n",
        "#En base a 24 usuarios con similitud 1\n",
        "ratingsEstimadosK24 = estimateRating(adjusted_ratings, rating_mean, cosenoDicSorted[:24], 777)\n",
        "#En base a 50 usuarios con similitud 1\n",
        "ratingsEstimadosK50 = estimateRating(adjusted_ratings, rating_mean, cosenoDicSorted[:50], 777)\n",
        "#En base a 100 usuarios con similitud 1\n",
        "ratingsEstimadosK100 = estimateRating(adjusted_ratings, rating_mean, cosenoDicSorted[:100], 777)\n",
        "#En base a 244 usuarios con similitud 1\n",
        "ratingsEstimadosK244 = estimateRating(adjusted_ratings, rating_mean, cosenoDicSorted[:244], 777)\n",
        "#En base a 260 usuarios con similitud mayor a 0.95, para no calcular los rating a partir de\n",
        "#similitude coseno igual a uno solamente\n",
        "ratingsEstimadosK260 = estimateRating(adjusted_ratings, rating_mean, cosenoDicSorted[:260], 777)\n",
        "\n",
        "ratingsTotales = [ratingsEstimadosK5, ratingsEstimadosK24, ratingsEstimadosK50, ratingsEstimadosK100, ratingsEstimadosK244, ratingsEstimadosK260]\n",
        "for i in range(len(ratingsTotales)):\n",
        "  ratingsTotales[i] = sorted(ratingsTotales[i].items(), key=operator.itemgetter(1), reverse=True)[:5]"
      ],
      "execution_count": null,
      "outputs": []
    },
    {
      "cell_type": "code",
      "metadata": {
        "colab": {
          "base_uri": "https://localhost:8080/"
        },
        "id": "p8noQdO2nPjg",
        "outputId": "a773fa69-537a-45df-b1bd-20d7e7c75133"
      },
      "source": [
        "kPrueba = [5, 24, 50, 100, 244, 260]\n",
        "\n",
        "for rating in range(len(ratingsTotales)):\n",
        "  print(\"------------ \\n K = \", kPrueba[rating])\n",
        "  print(\"Vecinos más cercanos: \\n\")\n",
        "  print(cosenoDicSorted[:kPrueba[rating]])\n",
        "  for movieId, sim in ratingsTotales[rating]:\n",
        "    print(moviesIds[moviesIds[\"movie_id\"] == movieId].to_string())"
      ],
      "execution_count": null,
      "outputs": [
        {
          "output_type": "stream",
          "text": [
            "------------ \n",
            " K =  5\n",
            "Vecinos más cercanos: \n",
            "\n",
            "[(1, 1.0), (2, 1.0), (5, 1.0), (6, 1.0), (7, 1.0)]\n",
            "      movie_id           title        genres\n",
            "1187      1584  Contact (1997)  Drama|Sci-Fi\n",
            "      movie_id                                        title                  genres\n",
            "1494      2019  Seven Samurai (Shichinin no samurai) (1954)  Action|Adventure|Drama\n",
            "      movie_id                                           title  genres\n",
            "2892      3869  Naked Gun 2 1/2: The Smell of Fear, The (1991)  Comedy\n",
            "      movie_id                                                 title                       genres\n",
            "3984      5618  Spirited Away (Sen to Chihiro no kamikakushi) (2001)  Adventure|Animation|Fantasy\n",
            "   movie_id                               title  genres\n",
            "4         5  Father of the Bride Part II (1995)  Comedy\n",
            "------------ \n",
            " K =  24\n",
            "Vecinos más cercanos: \n",
            "\n",
            "[(1, 1.0), (2, 1.0), (5, 1.0), (6, 1.0), (7, 1.0), (8, 1.0), (10, 1.0), (11, 1.0), (14, 1.0), (15, 1.0), (16, 1.0), (17, 1.0), (22, 1.0), (24, 1.0), (26, 1.0), (27, 1.0), (28, 1.0), (30, 1.0), (32, 1.0), (37, 1.0), (38, 1.0), (39, 1.0), (40, 1.0), (42, 1.0)]\n",
            "      movie_id                   title genres\n",
            "1429      1952  Midnight Cowboy (1969)  Drama\n",
            "      movie_id        title            genres\n",
            "1496      2021  Dune (1984)  Adventure|Sci-Fi\n",
            "      movie_id        title                genres\n",
            "5037      7842  Dune (2000)  Drama|Fantasy|Sci-Fi\n",
            "      movie_id        title                 genres\n",
            "6487     53123  Once (2006)  Drama|Musical|Romance\n",
            "      movie_id                         title        genres\n",
            "3018      4036  Shadow of the Vampire (2000)  Drama|Horror\n",
            "------------ \n",
            " K =  50\n",
            "Vecinos más cercanos: \n",
            "\n",
            "[(1, 1.0), (2, 1.0), (5, 1.0), (6, 1.0), (7, 1.0), (8, 1.0), (10, 1.0), (11, 1.0), (14, 1.0), (15, 1.0), (16, 1.0), (17, 1.0), (22, 1.0), (24, 1.0), (26, 1.0), (27, 1.0), (28, 1.0), (30, 1.0), (32, 1.0), (37, 1.0), (38, 1.0), (39, 1.0), (40, 1.0), (42, 1.0), (43, 1.0), (46, 1.0), (50, 1.0), (51, 1.0), (52, 1.0), (56, 1.0), (58, 1.0), (60, 1.0), (65, 1.0), (75, 1.0), (76, 1.0), (77, 1.0), (80, 1.0), (81, 1.0), (82, 1.0), (83, 1.0), (86, 1.0), (88, 1.0), (91, 1.0), (93, 1.0), (94, 1.0), (95, 1.0), (99, 1.0), (102, 1.0), (103, 1.0), (105, 1.0)]\n",
            "      movie_id                   title genres\n",
            "1429      1952  Midnight Cowboy (1969)  Drama\n",
            "      movie_id        title                genres\n",
            "5037      7842  Dune (2000)  Drama|Fantasy|Sci-Fi\n",
            "      movie_id        title                 genres\n",
            "6487     53123  Once (2006)  Drama|Musical|Romance\n",
            "      movie_id                         title        genres\n",
            "3018      4036  Shadow of the Vampire (2000)  Drama|Horror\n",
            "      movie_id                  title          genres\n",
            "5332      8869  First Daughter (2004)  Comedy|Romance\n",
            "------------ \n",
            " K =  100\n",
            "Vecinos más cercanos: \n",
            "\n",
            "[(1, 1.0), (2, 1.0), (5, 1.0), (6, 1.0), (7, 1.0), (8, 1.0), (10, 1.0), (11, 1.0), (14, 1.0), (15, 1.0), (16, 1.0), (17, 1.0), (22, 1.0), (24, 1.0), (26, 1.0), (27, 1.0), (28, 1.0), (30, 1.0), (32, 1.0), (37, 1.0), (38, 1.0), (39, 1.0), (40, 1.0), (42, 1.0), (43, 1.0), (46, 1.0), (50, 1.0), (51, 1.0), (52, 1.0), (56, 1.0), (58, 1.0), (60, 1.0), (65, 1.0), (75, 1.0), (76, 1.0), (77, 1.0), (80, 1.0), (81, 1.0), (82, 1.0), (83, 1.0), (86, 1.0), (88, 1.0), (91, 1.0), (93, 1.0), (94, 1.0), (95, 1.0), (99, 1.0), (102, 1.0), (103, 1.0), (105, 1.0), (107, 1.0), (109, 1.0), (111, 1.0), (112, 1.0), (115, 1.0), (117, 1.0), (118, 1.0), (119, 1.0), (122, 1.0), (126, 1.0), (130, 1.0), (131, 1.0), (132, 1.0), (133, 1.0), (134, 1.0), (136, 1.0), (139, 1.0), (140, 1.0), (141, 1.0), (144, 1.0), (145, 1.0), (152, 1.0), (153, 1.0), (154, 1.0), (155, 1.0), (162, 1.0), (164, 1.0), (170, 1.0), (173, 1.0), (174, 1.0), (176, 1.0), (179, 1.0), (182, 1.0), (186, 1.0), (189, 1.0), (191, 1.0), (196, 1.0), (197, 1.0), (198, 1.0), (200, 1.0), (201, 1.0), (202, 1.0), (204, 1.0), (211, 1.0), (213, 1.0), (220, 1.0), (222, 1.0), (223, 1.0), (226, 1.0), (227, 1.0)]\n",
            "      movie_id              title                genres\n",
            "7704     89904  The Artist (2011)  Comedy|Drama|Romance\n",
            "      movie_id                              title                 genres\n",
            "6645     56715  Wristcutters: A Love Story (2006)  Drama|Fantasy|Romance\n",
            "      movie_id        title genres\n",
            "9009    140174  Room (2015)  Drama\n",
            "      movie_id                     title genres\n",
            "9301    158966  Captain Fantastic (2016)  Drama\n",
            "      movie_id        title                genres\n",
            "5037      7842  Dune (2000)  Drama|Fantasy|Sci-Fi\n",
            "------------ \n",
            " K =  244\n",
            "Vecinos más cercanos: \n",
            "\n",
            "[(1, 1.0), (2, 1.0), (5, 1.0), (6, 1.0), (7, 1.0), (8, 1.0), (10, 1.0), (11, 1.0), (14, 1.0), (15, 1.0), (16, 1.0), (17, 1.0), (22, 1.0), (24, 1.0), (26, 1.0), (27, 1.0), (28, 1.0), (30, 1.0), (32, 1.0), (37, 1.0), (38, 1.0), (39, 1.0), (40, 1.0), (42, 1.0), (43, 1.0), (46, 1.0), (50, 1.0), (51, 1.0), (52, 1.0), (56, 1.0), (58, 1.0), (60, 1.0), (65, 1.0), (75, 1.0), (76, 1.0), (77, 1.0), (80, 1.0), (81, 1.0), (82, 1.0), (83, 1.0), (86, 1.0), (88, 1.0), (91, 1.0), (93, 1.0), (94, 1.0), (95, 1.0), (99, 1.0), (102, 1.0), (103, 1.0), (105, 1.0), (107, 1.0), (109, 1.0), (111, 1.0), (112, 1.0), (115, 1.0), (117, 1.0), (118, 1.0), (119, 1.0), (122, 1.0), (126, 1.0), (130, 1.0), (131, 1.0), (132, 1.0), (133, 1.0), (134, 1.0), (136, 1.0), (139, 1.0), (140, 1.0), (141, 1.0), (144, 1.0), (145, 1.0), (152, 1.0), (153, 1.0), (154, 1.0), (155, 1.0), (162, 1.0), (164, 1.0), (170, 1.0), (173, 1.0), (174, 1.0), (176, 1.0), (179, 1.0), (182, 1.0), (186, 1.0), (189, 1.0), (191, 1.0), (196, 1.0), (197, 1.0), (198, 1.0), (200, 1.0), (201, 1.0), (202, 1.0), (204, 1.0), (211, 1.0), (213, 1.0), (220, 1.0), (222, 1.0), (223, 1.0), (226, 1.0), (227, 1.0), (229, 1.0), (230, 1.0), (231, 1.0), (232, 1.0), (235, 1.0), (237, 1.0), (239, 1.0), (240, 1.0), (242, 1.0), (243, 1.0), (247, 1.0), (252, 1.0), (259, 1.0), (261, 1.0), (265, 1.0), (268, 1.0), (279, 1.0), (280, 1.0), (282, 1.0), (284, 1.0), (303, 1.0), (304, 1.0), (308, 1.0), (312, 1.0), (313, 1.0), (314, 1.0), (317, 1.0), (319, 1.0), (321, 1.0), (322, 1.0), (323, 1.0), (327, 1.0), (331, 1.0), (332, 1.0), (334, 1.0), (338, 1.0), (340, 1.0), (347, 1.0), (348, 1.0), (351, 1.0), (352, 1.0), (353, 1.0), (356, 1.0), (365, 1.0), (366, 1.0), (368, 1.0), (373, 1.0), (374, 1.0), (378, 1.0), (379, 1.0), (382, 1.0), (385, 1.0), (386, 1.0), (390, 1.0), (391, 1.0), (393, 1.0), (394, 1.0), (400, 1.0), (407, 1.0), (408, 1.0), (415, 1.0), (417, 1.0), (419, 1.0), (424, 1.0), (425, 1.0), (434, 1.0), (435, 1.0), (437, 1.0), (441, 1.0), (445, 1.0), (446, 1.0), (447, 1.0), (458, 1.0), (464, 1.0), (466, 1.0), (468, 1.0), (469, 1.0), (470, 1.0), (472, 1.0), (475, 1.0), (476, 1.0), (482, 1.0), (484, 1.0), (486, 1.0), (490, 1.0), (493, 1.0), (495, 1.0), (496, 1.0), (497, 1.0), (498, 1.0), (502, 1.0), (507, 1.0), (510, 1.0), (515, 1.0), (522, 1.0), (523, 1.0), (524, 1.0), (525, 1.0), (528, 1.0), (531, 1.0), (537, 1.0), (538, 1.0), (541, 1.0), (548, 1.0), (549, 1.0), (550, 1.0), (559, 1.0), (560, 1.0), (561, 1.0), (562, 1.0), (565, 1.0), (569, 1.0), (574, 1.0), (577, 1.0), (582, 1.0), (584, 1.0), (585, 1.0), (587, 1.0), (592, 1.0), (594, 1.0), (602, 1.0), (604, 1.0), (605, 1.0), (607, 1.0), (25, 0.9999999999999999), (57, 0.9999999999999998), (217, 0.9999999999999998), (603, 0.9999999999999998), (166, 0.9999274284261899), (125, 0.9999022100525726), (288, 0.9992559254895323), (64, 0.9990561583550595), (483, 0.9974990258803331), (305, 0.996683843958181), (219, 0.9965457582448797), (480, 0.9965457582448796), (307, 0.995310642389501), (590, 0.9946917938265512), (600, 0.9938837346736189), (98, 0.9938837346736188), (580, 0.9922778767136677), (357, 0.9919979117236188), (291, 0.9909924304103233), (596, 0.9906546699032397)]\n",
            "      movie_id             title                genres\n",
            "7621     87234  Submarine (2010)  Comedy|Drama|Romance\n",
            "      movie_id                                      title           genres\n",
            "8584    117192  Doctor Who: The Time of the Doctor (2013)  Adventure|Drama\n",
            "      movie_id                      title  genres\n",
            "5435     25947  Unfaithfully Yours (1948)  Comedy\n",
            "     movie_id                                 title  genres\n",
            "553       663  Kids in the Hall: Brain Candy (1996)  Comedy\n",
            "      movie_id         title  genres\n",
            "5658     27555  Fubar (2002)  Comedy\n",
            "------------ \n",
            " K =  260\n",
            "Vecinos más cercanos: \n",
            "\n",
            "[(1, 1.0), (2, 1.0), (5, 1.0), (6, 1.0), (7, 1.0), (8, 1.0), (10, 1.0), (11, 1.0), (14, 1.0), (15, 1.0), (16, 1.0), (17, 1.0), (22, 1.0), (24, 1.0), (26, 1.0), (27, 1.0), (28, 1.0), (30, 1.0), (32, 1.0), (37, 1.0), (38, 1.0), (39, 1.0), (40, 1.0), (42, 1.0), (43, 1.0), (46, 1.0), (50, 1.0), (51, 1.0), (52, 1.0), (56, 1.0), (58, 1.0), (60, 1.0), (65, 1.0), (75, 1.0), (76, 1.0), (77, 1.0), (80, 1.0), (81, 1.0), (82, 1.0), (83, 1.0), (86, 1.0), (88, 1.0), (91, 1.0), (93, 1.0), (94, 1.0), (95, 1.0), (99, 1.0), (102, 1.0), (103, 1.0), (105, 1.0), (107, 1.0), (109, 1.0), (111, 1.0), (112, 1.0), (115, 1.0), (117, 1.0), (118, 1.0), (119, 1.0), (122, 1.0), (126, 1.0), (130, 1.0), (131, 1.0), (132, 1.0), (133, 1.0), (134, 1.0), (136, 1.0), (139, 1.0), (140, 1.0), (141, 1.0), (144, 1.0), (145, 1.0), (152, 1.0), (153, 1.0), (154, 1.0), (155, 1.0), (162, 1.0), (164, 1.0), (170, 1.0), (173, 1.0), (174, 1.0), (176, 1.0), (179, 1.0), (182, 1.0), (186, 1.0), (189, 1.0), (191, 1.0), (196, 1.0), (197, 1.0), (198, 1.0), (200, 1.0), (201, 1.0), (202, 1.0), (204, 1.0), (211, 1.0), (213, 1.0), (220, 1.0), (222, 1.0), (223, 1.0), (226, 1.0), (227, 1.0), (229, 1.0), (230, 1.0), (231, 1.0), (232, 1.0), (235, 1.0), (237, 1.0), (239, 1.0), (240, 1.0), (242, 1.0), (243, 1.0), (247, 1.0), (252, 1.0), (259, 1.0), (261, 1.0), (265, 1.0), (268, 1.0), (279, 1.0), (280, 1.0), (282, 1.0), (284, 1.0), (303, 1.0), (304, 1.0), (308, 1.0), (312, 1.0), (313, 1.0), (314, 1.0), (317, 1.0), (319, 1.0), (321, 1.0), (322, 1.0), (323, 1.0), (327, 1.0), (331, 1.0), (332, 1.0), (334, 1.0), (338, 1.0), (340, 1.0), (347, 1.0), (348, 1.0), (351, 1.0), (352, 1.0), (353, 1.0), (356, 1.0), (365, 1.0), (366, 1.0), (368, 1.0), (373, 1.0), (374, 1.0), (378, 1.0), (379, 1.0), (382, 1.0), (385, 1.0), (386, 1.0), (390, 1.0), (391, 1.0), (393, 1.0), (394, 1.0), (400, 1.0), (407, 1.0), (408, 1.0), (415, 1.0), (417, 1.0), (419, 1.0), (424, 1.0), (425, 1.0), (434, 1.0), (435, 1.0), (437, 1.0), (441, 1.0), (445, 1.0), (446, 1.0), (447, 1.0), (458, 1.0), (464, 1.0), (466, 1.0), (468, 1.0), (469, 1.0), (470, 1.0), (472, 1.0), (475, 1.0), (476, 1.0), (482, 1.0), (484, 1.0), (486, 1.0), (490, 1.0), (493, 1.0), (495, 1.0), (496, 1.0), (497, 1.0), (498, 1.0), (502, 1.0), (507, 1.0), (510, 1.0), (515, 1.0), (522, 1.0), (523, 1.0), (524, 1.0), (525, 1.0), (528, 1.0), (531, 1.0), (537, 1.0), (538, 1.0), (541, 1.0), (548, 1.0), (549, 1.0), (550, 1.0), (559, 1.0), (560, 1.0), (561, 1.0), (562, 1.0), (565, 1.0), (569, 1.0), (574, 1.0), (577, 1.0), (582, 1.0), (584, 1.0), (585, 1.0), (587, 1.0), (592, 1.0), (594, 1.0), (602, 1.0), (604, 1.0), (605, 1.0), (607, 1.0), (25, 0.9999999999999999), (57, 0.9999999999999998), (217, 0.9999999999999998), (603, 0.9999999999999998), (166, 0.9999274284261899), (125, 0.9999022100525726), (288, 0.9992559254895323), (64, 0.9990561583550595), (483, 0.9974990258803331), (305, 0.996683843958181), (219, 0.9965457582448797), (480, 0.9965457582448796), (307, 0.995310642389501), (590, 0.9946917938265512), (600, 0.9938837346736189), (98, 0.9938837346736188), (580, 0.9922778767136677), (357, 0.9919979117236188), (291, 0.9909924304103233), (596, 0.9906546699032397), (586, 0.9893955808485873), (212, 0.9892306068805695), (18, 0.9888888888888889), (438, 0.9881720770692628), (339, 0.9881164689548823), (330, 0.9872411207126471), (477, 0.9847835588179369), (298, 0.9846397171503345), (294, 0.9838699100999074), (474, 0.9838699100999074), (597, 0.9838699100999074), (573, 0.9838662032939095), (160, 0.9836650340562108), (63, 0.9832820049844603), (610, 0.9820842820734641), (19, 0.9809737727905712)]\n",
            "      movie_id                                      title           genres\n",
            "8584    117192  Doctor Who: The Time of the Doctor (2013)  Adventure|Drama\n",
            "      movie_id                          title  genres\n",
            "2427      3235  Where the Buffalo Roam (1980)  Comedy\n",
            "      movie_id                      title  genres\n",
            "5435     25947  Unfaithfully Yours (1948)  Comedy\n",
            "      movie_id                      title genres\n",
            "3005      4021  Before Night Falls (2000)  Drama\n",
            "      movie_id         title  genres\n",
            "5658     27555  Fubar (2002)  Comedy\n"
          ],
          "name": "stdout"
        }
      ]
    },
    {
      "cell_type": "markdown",
      "metadata": {
        "id": "ZHxoMtQGpJLD"
      },
      "source": [
        "### Books Dataset"
      ]
    },
    {
      "cell_type": "markdown",
      "metadata": {
        "id": "YTc0leOU7PZn"
      },
      "source": [
        "Para el usuario que ha leído 10 libros, se decidió caracterizarlo como un lector de fantasía y magia, seleccionando libros de Harry Potter y el Señor de los Anillos. Se eligieron los libros con su nombre en inglés y, en el caso de que estuviese duplicado (como algunos de Harry Potter), se eligió el primero que aparecía en la lista.\n",
        "\n",
        "| ISBN | título |  calificación |\n",
        "|----------|--------|---------|\n",
        "| 0590353403| Harry Potter and the Sorcerer's Stone (Book 1)| 8.0|\n",
        "| 0439064872|Harry Potter and the Chamber of Secrets (Book 2) | 6.0|\n",
        "|0439136350 | Harry Potter and the Prisoner of Azkaban (Book 3)| 9.0|\n",
        "| 0439139597|Harry Potter and the Goblet of Fire (Book 4) | 10.0|\n",
        "| 043935806X| Harry Potter and the Order of the Phoenix (Book 5)| 8.0|\n",
        "|0064409430 |\"The Magician's Nephew (The Chronicles of Narnia, Book 1, Full-Color Collector's Edition)\" | 8.0|\n",
        "|0345339703 |\"The Fellowship of the Ring (The Lord of the Rings, Part 1)\" | 7.0|\n",
        "|0345339711 | \"The Two Towers (The Lord of the Rings, Part 2)\"| 8.0|\n",
        "|0345339738 | \"The Return of the King (The Lord of the Rings, Part 3)\"| 9.0|\n",
        "|0345324366 |The Complete Guide to Middle-Earth: From the Hobbit to the Silmarillion | 5.0|"
      ]
    },
    {
      "cell_type": "code",
      "metadata": {
        "id": "eaBqtRKaqo9P"
      },
      "source": [
        "# Usuario creado\n",
        "random.seed(2021)\n",
        "np.random.seed(2021)\n",
        "\n",
        "userId = 359263\n",
        "userBooks = [\"0590353403\", \"0439064872\", \"0439136350\", \"0439139597\", \"043935806X\", \"0064409430\", \"0345339703\", \"0345339711\", \"0345339738\", \"0345324366\"]\n",
        "userRatings = [8.0, 6.0, 9.0, 10.0, 8.0, 8.0, 7.0, 8.0, 9.0, 5.0]\n",
        "booksNewUser = books\n",
        "\n",
        "for i in range(10):\n",
        "  dfTemp = pd.DataFrame([[userId, userBooks[i], userRatings[i]]], columns = [\"user_id\", \"ISBN\", \"rating\"], index=[i] )\n",
        "  booksNewUser = booksNewUser.append(dfTemp, ignore_index=True)"
      ],
      "execution_count": null,
      "outputs": []
    },
    {
      "cell_type": "code",
      "metadata": {
        "colab": {
          "base_uri": "https://localhost:8080/"
        },
        "id": "S56-rPwzspjy",
        "outputId": "1d25ab07-97f4-4649-a7ff-2b2cb951f00a"
      },
      "source": [
        "#Matrices pivot a usar\n",
        "user_item_matrix_og = books.pivot(index = 'user_id', columns ='ISBN', values = 'rating')\n",
        "user_item_matrix_new = booksNewUser.pivot(index = 'user_id', columns ='ISBN', values = 'rating')\n",
        "\n",
        "print(\"Porcentaje de sparsity para la matriz sin el usuario nuevo: \" + str(getSparsity(user_item_matrix_og)))\n",
        "print(\"Porcentaje de sparsity para la matriz con el usuario nuevo: \" + str(getSparsity(user_item_matrix_new)))"
      ],
      "execution_count": null,
      "outputs": [
        {
          "output_type": "stream",
          "text": [
            "Porcentaje de sparsity para la matriz sin el usuario nuevo: 0.9969050149650142\n",
            "Porcentaje de sparsity para la matriz con el usuario nuevo: 0.9969057904736314\n"
          ],
          "name": "stdout"
        }
      ]
    },
    {
      "cell_type": "code",
      "metadata": {
        "colab": {
          "base_uri": "https://localhost:8080/",
          "height": 283
        },
        "id": "I4bEapH3t5EJ",
        "outputId": "3b22d161-df3b-452b-aa4f-67a60a7ea20f"
      },
      "source": [
        "frecRating = user_item_matrix_new.count(axis=0)\n",
        "frecRating = frecRating.tolist()\n",
        "\n",
        "frecRating.sort()\n",
        "frecRating.reverse()\n",
        "plt.title(\"Ítems ordenados de mayor a menor número de ratings\")\n",
        "plt.plot([x for x in range(0, len(frecRating))] ,frecRating)\n",
        "plt.show()"
      ],
      "execution_count": null,
      "outputs": [
        {
          "output_type": "display_data",
          "data": {
            "image/png": "[encoded data removed]",
            "text/plain": [
              "<Figure size 432x288 with 1 Axes>"
            ]
          },
          "metadata": {
            "tags": [],
            "needs_background": "light"
          }
        }
      ]
    },
    {
      "cell_type": "code",
      "metadata": {
        "id": "3k95gYA90xZe"
      },
      "source": [
        "#Rating promedio\n",
        "rating_mean_books = booksNewUser.groupby(['user_id'], as_index = False, sort = False).mean().rename(columns = {'rating': 'rating_mean'})[['user_id','rating_mean']]\n",
        "#Mean centered ratings\n",
        "adjusted_ratings = pd.merge(booksNewUser,rating_mean_books,on = 'user_id', how = 'left', sort = False)\n",
        "adjusted_ratings['rating_adjusted']=adjusted_ratings['rating']-adjusted_ratings['rating_mean']\n",
        "#Pivoteo para dejar la matriz usuarios-items con los mean centered ratings\n",
        "adjusted_ratings = adjusted_ratings.pivot(index = 'user_id', columns ='ISBN', values = 'rating_adjusted')"
      ],
      "execution_count": null,
      "outputs": []
    },
    {
      "cell_type": "code",
      "metadata": {
        "colab": {
          "base_uri": "https://localhost:8080/",
          "height": 296
        },
        "id": "199GVuHbuJSR",
        "outputId": "140baf61-c1b6-4d6c-aa0f-378393519d03"
      },
      "source": [
        "#Calculo de similitudes para el nuevo usuario\n",
        "cosenoDic = getCosSim(user_item_matrix_new, 359263)\n",
        "cosenoDicSorted = sorted(cosenoDic.items(), key=operator.itemgetter(1), reverse=True)\n",
        "\n",
        "#Grafico para visualizar la distancia coseno a este\n",
        "plt.plot([ (1- x[1]) for x in cosenoDicSorted])\n",
        "plt.xlabel(\"Usuarios ordenados de mayor a menor similaridad\")\n",
        "plt.ylabel(\"Distancia coseno a usuario objetivo\")\n",
        "plt.show()\n",
        "\n",
        "print(\"Cantidad de usuarios con similitud mayor a 0.99: \", len([ (1- x[1]) for x in cosenoDicSorted if x[1] > 0.99]))"
      ],
      "execution_count": null,
      "outputs": [
        {
          "output_type": "display_data",
          "data": {
            "image/png": "[encoded data removed]",
            "text/plain": [
              "<Figure size 432x288 with 1 Axes>"
            ]
          },
          "metadata": {
            "tags": [],
            "needs_background": "light"
          }
        },
        {
          "output_type": "stream",
          "text": [
            "Cantidad de usuarios con similitud mayor a 0.99:  343\n"
          ],
          "name": "stdout"
        }
      ]
    },
    {
      "cell_type": "code",
      "metadata": {
        "id": "_aT4rXJKzaQ9"
      },
      "source": [
        "#En base a 5 usuarios con similitud 1\n",
        "ratingsEstimadosK5 = estimateRating(adjusted_ratings, rating_mean_books, cosenoDicSorted[:5], 359263)\n",
        "#En base a 20 usuarios con similitud 1\n",
        "ratingsEstimadosK20 = estimateRating(adjusted_ratings, rating_mean_books, cosenoDicSorted[:20], 359263)\n",
        "#En base a 50 usuarios con similitud 1\n",
        "ratingsEstimadosK50 = estimateRating(adjusted_ratings, rating_mean_books, cosenoDicSorted[:50], 359263)\n",
        "#En base a 103 usuarios con similitud 1\n",
        "ratingsEstimadosK103 = estimateRating(adjusted_ratings, rating_mean_books, cosenoDicSorted[:103], 359263)\n",
        "#En base a 343 usuarios con similitud 1\n",
        "ratingsEstimadosK343 = estimateRating(adjusted_ratings, rating_mean_books, cosenoDicSorted[:343], 359263)\n",
        "#En base a 380usuarios con similitud mayor a 0.95, para no calcular los rating a partir de\n",
        "#similitude coseno igual a uno solamente\n",
        "ratingsEstimadosK380 = estimateRating(adjusted_ratings, rating_mean_books, cosenoDicSorted[:380], 359263)\n",
        "\n",
        "ratingsTotales = [ratingsEstimadosK5, ratingsEstimadosK20, ratingsEstimadosK50, ratingsEstimadosK103, ratingsEstimadosK343, ratingsEstimadosK380]\n",
        "for i in range(len(ratingsTotales)):\n",
        "  ratingsTotales[i] = sorted(ratingsTotales[i].items(), key=operator.itemgetter(1), reverse=True)[:5]"
      ],
      "execution_count": null,
      "outputs": []
    },
    {
      "cell_type": "code",
      "metadata": {
        "colab": {
          "base_uri": "https://localhost:8080/"
        },
        "id": "1tfqOqMHzr1I",
        "outputId": "d052e87b-fc0b-4316-b2ea-6561b1178398"
      },
      "source": [
        "kPrueba = [5, 20, 50, 103, 343, 380]\n",
        "\n",
        "for rating in range(len(ratingsTotales)):\n",
        "  print(\"------------ \\n K = \", kPrueba[rating])\n",
        "  print(\"Vecinos más cercanos: \\n\")\n",
        "  print(cosenoDicSorted[:kPrueba[rating]])\n",
        "  for ISBN, sim in ratingsTotales[rating]:\n",
        "    print(booksIds[booksIds[\"ISBN\"] == ISBN].to_string())\n"
      ],
      "execution_count": null,
      "outputs": [
        {
          "output_type": "stream",
          "text": [
            "------------ \n",
            " K =  5\n",
            "Vecinos más cercanos: \n",
            "\n",
            "[(638, 1.0), (2179, 1.0), (4600, 1.0), (4802, 1.0), (7346, 1.0)]\n",
            "             ISBN                                                                                                                                                                   title\n",
            "20315  0020868308  Mere Christianity: A revised and enlarged edition, with a new introduction, of the three books, The case for Christianity, Christian behaviour, and Beyond personality\n",
            "             ISBN                                          title\n",
            "10935  0140178406  Aunt Dimity's Death (Aunt Dimity (Paperback))\n",
            "            ISBN                                                     title\n",
            "7878  0140430725  Pride and Prejudice (The Penguin English Library, El 72)\n",
            "             ISBN                                                                title\n",
            "20368  0312966199  All Things Bright and Beautiful (All Things Bright &amp; Beautiful)\n",
            "          ISBN              title\n",
            "52  0440225701  The Street Lawyer\n",
            "------------ \n",
            " K =  20\n",
            "Vecinos más cercanos: \n",
            "\n",
            "[(638, 1.0), (2179, 1.0), (4600, 1.0), (4802, 1.0), (7346, 1.0), (8245, 1.0), (8253, 1.0), (9908, 1.0), (13082, 1.0), (13273, 1.0), (16777, 1.0), (16795, 1.0), (17667, 1.0), (18095, 1.0), (19336, 1.0), (21576, 1.0), (22625, 1.0), (22818, 1.0), (24186, 1.0), (25850, 1.0)]\n",
            "             ISBN                                                  title\n",
            "79370  0439425220  Harry Potter and the Chamber of Secrets Postcard Book\n",
            "            ISBN               title\n",
            "2037  0451151259  Eyes of the Dragon\n",
            "           ISBN           title\n",
            "480  0385503857  Oryx and Crake\n",
            "             ISBN                                                                                                                                                                              title\n",
            "16013  0762406984  The World's Shortest Stories of Love and Death: Passion, Betrayal, Suspicion, Revenge, All This and More in a New Collection of Amazing Short Stories-Each One Just 55 Words Long\n",
            "            ISBN                                       title\n",
            "3233  0375412824  The Dive From Clausen's Pier (Alex Awards)\n",
            "------------ \n",
            " K =  50\n",
            "Vecinos más cercanos: \n",
            "\n",
            "[(638, 1.0), (2179, 1.0), (4600, 1.0), (4802, 1.0), (7346, 1.0), (8245, 1.0), (8253, 1.0), (9908, 1.0), (13082, 1.0), (13273, 1.0), (16777, 1.0), (16795, 1.0), (17667, 1.0), (18095, 1.0), (19336, 1.0), (21576, 1.0), (22625, 1.0), (22818, 1.0), (24186, 1.0), (25850, 1.0), (25919, 1.0), (26057, 1.0), (28016, 1.0), (28150, 1.0), (28481, 1.0), (30445, 1.0), (30806, 1.0), (31393, 1.0), (32110, 1.0), (32122, 1.0), (33580, 1.0), (33816, 1.0), (36907, 1.0), (37208, 1.0), (38281, 1.0), (38762, 1.0), (40415, 1.0), (42798, 1.0), (43436, 1.0), (43642, 1.0), (44727, 1.0), (45064, 1.0), (45340, 1.0), (46690, 1.0), (47316, 1.0), (48494, 1.0), (48579, 1.0), (50612, 1.0), (51856, 1.0), (52021, 1.0)]\n",
            "             ISBN                                                  title\n",
            "79370  0439425220  Harry Potter and the Chamber of Secrets Postcard Book\n",
            "            ISBN               title\n",
            "2037  0451151259  Eyes of the Dragon\n",
            "             ISBN                title\n",
            "20176  0064400484  Trumpet of the Swan\n",
            "             ISBN          title\n",
            "10305  0064400565  Stuart Little\n",
            "             ISBN                                                     title\n",
            "36542  015668568X  Old Possum's Book of Practical Cats, Illustrated Edition\n",
            "------------ \n",
            " K =  103\n",
            "Vecinos más cercanos: \n",
            "\n",
            "[(638, 1.0), (2179, 1.0), (4600, 1.0), (4802, 1.0), (7346, 1.0), (8245, 1.0), (8253, 1.0), (9908, 1.0), (13082, 1.0), (13273, 1.0), (16777, 1.0), (16795, 1.0), (17667, 1.0), (18095, 1.0), (19336, 1.0), (21576, 1.0), (22625, 1.0), (22818, 1.0), (24186, 1.0), (25850, 1.0), (25919, 1.0), (26057, 1.0), (28016, 1.0), (28150, 1.0), (28481, 1.0), (30445, 1.0), (30806, 1.0), (31393, 1.0), (32110, 1.0), (32122, 1.0), (33580, 1.0), (33816, 1.0), (36907, 1.0), (37208, 1.0), (38281, 1.0), (38762, 1.0), (40415, 1.0), (42798, 1.0), (43436, 1.0), (43642, 1.0), (44727, 1.0), (45064, 1.0), (45340, 1.0), (46690, 1.0), (47316, 1.0), (48494, 1.0), (48579, 1.0), (50612, 1.0), (51856, 1.0), (52021, 1.0), (56447, 1.0), (56959, 1.0), (57105, 1.0), (60050, 1.0), (61901, 1.0), (63360, 1.0), (65487, 1.0), (68760, 1.0), (68811, 1.0), (69156, 1.0), (70014, 1.0), (74185, 1.0), (74665, 1.0), (76483, 1.0), (76576, 1.0), (76626, 1.0), (77526, 1.0), (81274, 1.0), (81560, 1.0), (81848, 1.0), (82825, 1.0), (86140, 1.0), (86392, 1.0), (87555, 1.0), (87712, 1.0), (87938, 1.0), (88320, 1.0), (90174, 1.0), (90653, 1.0), (93241, 1.0), (94787, 1.0), (95359, 1.0), (96054, 1.0), (97290, 1.0), (97945, 1.0), (98783, 1.0), (98904, 1.0), (99025, 1.0), (100578, 1.0), (101635, 1.0), (102505, 1.0), (103541, 1.0), (103577, 1.0), (104362, 1.0), (104636, 1.0), (105028, 1.0), (105054, 1.0), (105869, 1.0), (109461, 1.0), (110112, 1.0), (110265, 1.0), (110912, 1.0), (110934, 1.0)]\n",
            "             ISBN           title\n",
            "16105  006251279X  The Pilgrimage\n",
            "             ISBN            title\n",
            "18957  0140055770  My Uncle Oswald\n",
            "            ISBN            title\n",
            "4114  0060809833  Brave New World\n",
            "             ISBN                            title\n",
            "13197  0140043128  One Flew over the Cuckoo's Nest\n",
            "             ISBN                           title\n",
            "20139  0345350685  The Autobiography of Malcolm X\n",
            "------------ \n",
            " K =  343\n",
            "Vecinos más cercanos: \n",
            "\n",
            "[(638, 1.0), (2179, 1.0), (4600, 1.0), (4802, 1.0), (7346, 1.0), (8245, 1.0), (8253, 1.0), (9908, 1.0), (13082, 1.0), (13273, 1.0), (16777, 1.0), (16795, 1.0), (17667, 1.0), (18095, 1.0), (19336, 1.0), (21576, 1.0), (22625, 1.0), (22818, 1.0), (24186, 1.0), (25850, 1.0), (25919, 1.0), (26057, 1.0), (28016, 1.0), (28150, 1.0), (28481, 1.0), (30445, 1.0), (30806, 1.0), (31393, 1.0), (32110, 1.0), (32122, 1.0), (33580, 1.0), (33816, 1.0), (36907, 1.0), (37208, 1.0), (38281, 1.0), (38762, 1.0), (40415, 1.0), (42798, 1.0), (43436, 1.0), (43642, 1.0), (44727, 1.0), (45064, 1.0), (45340, 1.0), (46690, 1.0), (47316, 1.0), (48494, 1.0), (48579, 1.0), (50612, 1.0), (51856, 1.0), (52021, 1.0), (56447, 1.0), (56959, 1.0), (57105, 1.0), (60050, 1.0), (61901, 1.0), (63360, 1.0), (65487, 1.0), (68760, 1.0), (68811, 1.0), (69156, 1.0), (70014, 1.0), (74185, 1.0), (74665, 1.0), (76483, 1.0), (76576, 1.0), (76626, 1.0), (77526, 1.0), (81274, 1.0), (81560, 1.0), (81848, 1.0), (82825, 1.0), (86140, 1.0), (86392, 1.0), (87555, 1.0), (87712, 1.0), (87938, 1.0), (88320, 1.0), (90174, 1.0), (90653, 1.0), (93241, 1.0), (94787, 1.0), (95359, 1.0), (96054, 1.0), (97290, 1.0), (97945, 1.0), (98783, 1.0), (98904, 1.0), (99025, 1.0), (100578, 1.0), (101635, 1.0), (102505, 1.0), (103541, 1.0), (103577, 1.0), (104362, 1.0), (104636, 1.0), (105028, 1.0), (105054, 1.0), (105869, 1.0), (109461, 1.0), (110112, 1.0), (110265, 1.0), (110912, 1.0), (110934, 1.0), (110973, 1.0), (111166, 1.0), (113944, 1.0), (114178, 1.0), (114368, 1.0), (114446, 1.0), (115536, 1.0), (117652, 1.0), (120090, 1.0), (123608, 1.0), (124597, 1.0), (124717, 1.0), (126693, 1.0), (126697, 1.0), (126736, 1.0), (126814, 1.0), (127233, 1.0), (129074, 1.0), (130554, 1.0), (131046, 1.0), (132901, 1.0), (134434, 1.0), (135458, 1.0), (137589, 1.0), (140358, 1.0), (141511, 1.0), (142623, 1.0), (143163, 1.0), (144478, 1.0), (145369, 1.0), (145449, 1.0), (146803, 1.0), (147752, 1.0), (148028, 1.0), (149084, 1.0), (151263, 1.0), (151370, 1.0), (151503, 1.0), (151589, 1.0), (153054, 1.0), (153718, 1.0), (155778, 1.0), (155913, 1.0), (156243, 1.0), (156269, 1.0), (160393, 1.0), (161755, 1.0), (164728, 1.0), (165308, 1.0), (165758, 1.0), (166130, 1.0), (166828, 1.0), (168954, 1.0), (169249, 1.0), (172119, 1.0), (172512, 1.0), (173415, 1.0), (174179, 1.0), (174596, 1.0), (174791, 1.0), (175070, 1.0), (175287, 1.0), (175636, 1.0), (177432, 1.0), (179019, 1.0), (179501, 1.0), (180591, 1.0), (181176, 1.0), (183725, 1.0), (190708, 1.0), (190923, 1.0), (193499, 1.0), (194534, 1.0), (194803, 1.0), (196052, 1.0), (201475, 1.0), (201829, 1.0), (204359, 1.0), (205473, 1.0), (205980, 1.0), (206202, 1.0), (207246, 1.0), (207494, 1.0), (208829, 1.0), (211176, 1.0), (212797, 1.0), (213628, 1.0), (213638, 1.0), (216099, 1.0), (216466, 1.0), (217566, 1.0), (218552, 1.0), (219301, 1.0), (219590, 1.0), (223190, 1.0), (223431, 1.0), (223501, 1.0), (224138, 1.0), (227161, 1.0), (227836, 1.0), (228021, 1.0), (230374, 1.0), (231354, 1.0), (234399, 1.0), (235105, 1.0), (238889, 1.0), (238961, 1.0), (239609, 1.0), (240107, 1.0), (240401, 1.0), (240403, 1.0), (242409, 1.0), (243058, 1.0), (244420, 1.0), (244657, 1.0), (245346, 1.0), (245655, 1.0), (247429, 1.0), (247447, 1.0), (248718, 1.0), (248775, 1.0), (249628, 1.0), (250494, 1.0), (251394, 1.0), (254201, 1.0), (258614, 1.0), (259057, 1.0), (260067, 1.0), (261768, 1.0), (262118, 1.0), (265313, 1.0), (265498, 1.0), (265889, 1.0), (270326, 1.0), (271000, 1.0), (271306, 1.0), (271705, 1.0), (272786, 1.0), (273718, 1.0), (273976, 1.0), (274393, 1.0), (274618, 1.0), (276077, 1.0), (276313, 1.0), (240528, 0.9999999999999998), (169600, 0.9999809485706648), (81492, 0.9998377150265199), (225887, 0.9995120760870788), (278356, 0.9995120760870788), (224997, 0.999028234937562), (168047, 0.9986178293325098), (195374, 0.9986178293325098), (224303, 0.9986178293325098), (273089, 0.9986178293325098), (137742, 0.9985942544945724), (152468, 0.9985391319299896), (240700, 0.998530965365327), (225078, 0.9984639089193831), (227397, 0.9984038297885895), (275401, 0.9984038297885895), (138602, 0.9982743731749959), (141070, 0.9982743731749959), (142672, 0.9982743731749959), (177284, 0.9982743731749959), (179734, 0.9982743731749959), (182459, 0.9982743731749959), (182838, 0.9982743731749959), (225379, 0.9982743731749959), (229334, 0.9982743731749959), (68436, 0.9982743731749958), (133957, 0.9981394058523039), (23699, 0.9977851578566088), (50615, 0.9977851578566088), (209486, 0.9977851578566088), (52350, 0.9961359551705516), (169682, 0.996014155971203), (22252, 0.9959100033104784), (29526, 0.9959100033104784), (74056, 0.9959100033104784), (85367, 0.9959100033104784), (85993, 0.9959100033104784), (88122, 0.9959100033104784), (100227, 0.9959100033104784), (124876, 0.9959100033104784), (169192, 0.9959100033104784), (229768, 0.9959100033104784), (242106, 0.9959100033104784), (2033, 0.9955402169800049), (6431, 0.9955402169800049), (36003, 0.9955402169800049), (69389, 0.9955402169800049), (78553, 0.9955402169800049), (84479, 0.9955402169800049), (101851, 0.9955402169800049), (116904, 0.9955402169800049), (170634, 0.9955402169800049), (175003, 0.9955402169800049), (179978, 0.9955402169800049), (226965, 0.9955402169800049), (248477, 0.9955402169800049), (253482, 0.9955402169800049), (276165, 0.9955402169800049), (150896, 0.9952115912359735), (54898, 0.9948320067476139), (79475, 0.9948320067476139), (96744, 0.9948320067476139), (104880, 0.9948320067476139), (126388, 0.9948320067476139), (138543, 0.9948320067476139), (149483, 0.9948320067476139), (155495, 0.9948320067476139), (161872, 0.9948320067476139), (162738, 0.9948320067476139), (173343, 0.9948320067476139), (222488, 0.9948320067476139), (228579, 0.9948320067476139), (232106, 0.9948320067476139), (276050, 0.9948320067476139), (131238, 0.994475138121547), (268657, 0.9944373431070659), (105221, 0.994303570860166), (115572, 0.9939873882962967), (25409, 0.9938837346736188), (69697, 0.9938837346736188), (123257, 0.9938837346736188), (128434, 0.9938837346736188), (195904, 0.9938837346736188), (264525, 0.9938837346736188), (239423, 0.9938082266659076), (106768, 0.9927337820337083), (159506, 0.9923094191545647), (131154, 0.9922778767136677), (243294, 0.9922778767136677), (259901, 0.9922778767136677), (171295, 0.9921572222264535), (136491, 0.9921519965197831), (193469, 0.9911170088188719), (185176, 0.9909166958083866), (60707, 0.9906951425919995), (162639, 0.9906951425919995)]\n",
            "            ISBN            title\n",
            "9118  0399151648  Kate Remembered\n",
            "             ISBN            title\n",
            "18957  0140055770  My Uncle Oswald\n",
            "             ISBN                                                         title\n",
            "55749  0553265962  Tisha: The Story of a Young Teacher in the Alaska Wilderness\n",
            "            ISBN                                                           title\n",
            "7974  0140189645  The Crucible: A Play in Four Acts (Twentieth-Century Classics)\n",
            "             ISBN                                                             title\n",
            "26206  0786915749  Dragons of Autumn Twilight (Dragonlance: Dragonlance Chronicles)\n",
            "------------ \n",
            " K =  380\n",
            "Vecinos más cercanos: \n",
            "\n",
            "[(638, 1.0), (2179, 1.0), (4600, 1.0), (4802, 1.0), (7346, 1.0), (8245, 1.0), (8253, 1.0), (9908, 1.0), (13082, 1.0), (13273, 1.0), (16777, 1.0), (16795, 1.0), (17667, 1.0), (18095, 1.0), (19336, 1.0), (21576, 1.0), (22625, 1.0), (22818, 1.0), (24186, 1.0), (25850, 1.0), (25919, 1.0), (26057, 1.0), (28016, 1.0), (28150, 1.0), (28481, 1.0), (30445, 1.0), (30806, 1.0), (31393, 1.0), (32110, 1.0), (32122, 1.0), (33580, 1.0), (33816, 1.0), (36907, 1.0), (37208, 1.0), (38281, 1.0), (38762, 1.0), (40415, 1.0), (42798, 1.0), (43436, 1.0), (43642, 1.0), (44727, 1.0), (45064, 1.0), (45340, 1.0), (46690, 1.0), (47316, 1.0), (48494, 1.0), (48579, 1.0), (50612, 1.0), (51856, 1.0), (52021, 1.0), (56447, 1.0), (56959, 1.0), (57105, 1.0), (60050, 1.0), (61901, 1.0), (63360, 1.0), (65487, 1.0), (68760, 1.0), (68811, 1.0), (69156, 1.0), (70014, 1.0), (74185, 1.0), (74665, 1.0), (76483, 1.0), (76576, 1.0), (76626, 1.0), (77526, 1.0), (81274, 1.0), (81560, 1.0), (81848, 1.0), (82825, 1.0), (86140, 1.0), (86392, 1.0), (87555, 1.0), (87712, 1.0), (87938, 1.0), (88320, 1.0), (90174, 1.0), (90653, 1.0), (93241, 1.0), (94787, 1.0), (95359, 1.0), (96054, 1.0), (97290, 1.0), (97945, 1.0), (98783, 1.0), (98904, 1.0), (99025, 1.0), (100578, 1.0), (101635, 1.0), (102505, 1.0), (103541, 1.0), (103577, 1.0), (104362, 1.0), (104636, 1.0), (105028, 1.0), (105054, 1.0), (105869, 1.0), (109461, 1.0), (110112, 1.0), (110265, 1.0), (110912, 1.0), (110934, 1.0), (110973, 1.0), (111166, 1.0), (113944, 1.0), (114178, 1.0), (114368, 1.0), (114446, 1.0), (115536, 1.0), (117652, 1.0), (120090, 1.0), (123608, 1.0), (124597, 1.0), (124717, 1.0), (126693, 1.0), (126697, 1.0), (126736, 1.0), (126814, 1.0), (127233, 1.0), (129074, 1.0), (130554, 1.0), (131046, 1.0), (132901, 1.0), (134434, 1.0), (135458, 1.0), (137589, 1.0), (140358, 1.0), (141511, 1.0), (142623, 1.0), (143163, 1.0), (144478, 1.0), (145369, 1.0), (145449, 1.0), (146803, 1.0), (147752, 1.0), (148028, 1.0), (149084, 1.0), (151263, 1.0), (151370, 1.0), (151503, 1.0), (151589, 1.0), (153054, 1.0), (153718, 1.0), (155778, 1.0), (155913, 1.0), (156243, 1.0), (156269, 1.0), (160393, 1.0), (161755, 1.0), (164728, 1.0), (165308, 1.0), (165758, 1.0), (166130, 1.0), (166828, 1.0), (168954, 1.0), (169249, 1.0), (172119, 1.0), (172512, 1.0), (173415, 1.0), (174179, 1.0), (174596, 1.0), (174791, 1.0), (175070, 1.0), (175287, 1.0), (175636, 1.0), (177432, 1.0), (179019, 1.0), (179501, 1.0), (180591, 1.0), (181176, 1.0), (183725, 1.0), (190708, 1.0), (190923, 1.0), (193499, 1.0), (194534, 1.0), (194803, 1.0), (196052, 1.0), (201475, 1.0), (201829, 1.0), (204359, 1.0), (205473, 1.0), (205980, 1.0), (206202, 1.0), (207246, 1.0), (207494, 1.0), (208829, 1.0), (211176, 1.0), (212797, 1.0), (213628, 1.0), (213638, 1.0), (216099, 1.0), (216466, 1.0), (217566, 1.0), (218552, 1.0), (219301, 1.0), (219590, 1.0), (223190, 1.0), (223431, 1.0), (223501, 1.0), (224138, 1.0), (227161, 1.0), (227836, 1.0), (228021, 1.0), (230374, 1.0), (231354, 1.0), (234399, 1.0), (235105, 1.0), (238889, 1.0), (238961, 1.0), (239609, 1.0), (240107, 1.0), (240401, 1.0), (240403, 1.0), (242409, 1.0), (243058, 1.0), (244420, 1.0), (244657, 1.0), (245346, 1.0), (245655, 1.0), (247429, 1.0), (247447, 1.0), (248718, 1.0), (248775, 1.0), (249628, 1.0), (250494, 1.0), (251394, 1.0), (254201, 1.0), (258614, 1.0), (259057, 1.0), (260067, 1.0), (261768, 1.0), (262118, 1.0), (265313, 1.0), (265498, 1.0), (265889, 1.0), (270326, 1.0), (271000, 1.0), (271306, 1.0), (271705, 1.0), (272786, 1.0), (273718, 1.0), (273976, 1.0), (274393, 1.0), (274618, 1.0), (276077, 1.0), (276313, 1.0), (240528, 0.9999999999999998), (169600, 0.9999809485706648), (81492, 0.9998377150265199), (225887, 0.9995120760870788), (278356, 0.9995120760870788), (224997, 0.999028234937562), (168047, 0.9986178293325098), (195374, 0.9986178293325098), (224303, 0.9986178293325098), (273089, 0.9986178293325098), (137742, 0.9985942544945724), (152468, 0.9985391319299896), (240700, 0.998530965365327), (225078, 0.9984639089193831), (227397, 0.9984038297885895), (275401, 0.9984038297885895), (138602, 0.9982743731749959), (141070, 0.9982743731749959), (142672, 0.9982743731749959), (177284, 0.9982743731749959), (179734, 0.9982743731749959), (182459, 0.9982743731749959), (182838, 0.9982743731749959), (225379, 0.9982743731749959), (229334, 0.9982743731749959), (68436, 0.9982743731749958), (133957, 0.9981394058523039), (23699, 0.9977851578566088), (50615, 0.9977851578566088), (209486, 0.9977851578566088), (52350, 0.9961359551705516), (169682, 0.996014155971203), (22252, 0.9959100033104784), (29526, 0.9959100033104784), (74056, 0.9959100033104784), (85367, 0.9959100033104784), (85993, 0.9959100033104784), (88122, 0.9959100033104784), (100227, 0.9959100033104784), (124876, 0.9959100033104784), (169192, 0.9959100033104784), (229768, 0.9959100033104784), (242106, 0.9959100033104784), (2033, 0.9955402169800049), (6431, 0.9955402169800049), (36003, 0.9955402169800049), (69389, 0.9955402169800049), (78553, 0.9955402169800049), (84479, 0.9955402169800049), (101851, 0.9955402169800049), (116904, 0.9955402169800049), (170634, 0.9955402169800049), (175003, 0.9955402169800049), (179978, 0.9955402169800049), (226965, 0.9955402169800049), (248477, 0.9955402169800049), (253482, 0.9955402169800049), (276165, 0.9955402169800049), (150896, 0.9952115912359735), (54898, 0.9948320067476139), (79475, 0.9948320067476139), (96744, 0.9948320067476139), (104880, 0.9948320067476139), (126388, 0.9948320067476139), (138543, 0.9948320067476139), (149483, 0.9948320067476139), (155495, 0.9948320067476139), (161872, 0.9948320067476139), (162738, 0.9948320067476139), (173343, 0.9948320067476139), (222488, 0.9948320067476139), (228579, 0.9948320067476139), (232106, 0.9948320067476139), (276050, 0.9948320067476139), (131238, 0.994475138121547), (268657, 0.9944373431070659), (105221, 0.994303570860166), (115572, 0.9939873882962967), (25409, 0.9938837346736188), (69697, 0.9938837346736188), (123257, 0.9938837346736188), (128434, 0.9938837346736188), (195904, 0.9938837346736188), (264525, 0.9938837346736188), (239423, 0.9938082266659076), (106768, 0.9927337820337083), (159506, 0.9923094191545647), (131154, 0.9922778767136677), (243294, 0.9922778767136677), (259901, 0.9922778767136677), (171295, 0.9921572222264535), (136491, 0.9921519965197831), (193469, 0.9911170088188719), (185176, 0.9909166958083866), (60707, 0.9906951425919995), (162639, 0.9906951425919995), (10560, 0.9899494936611665), (28523, 0.9899494936611665), (35148, 0.9899494936611665), (88435, 0.9899494936611665), (99720, 0.9899494936611665), (183061, 0.9899494936611665), (199209, 0.9899494936611665), (208815, 0.9899494936611665), (220688, 0.9899494936611665), (182847, 0.9899383570969139), (23872, 0.9898030839149453), (263163, 0.9895329810632816), (30735, 0.9893878215831025), (67198, 0.9890707100936804), (233526, 0.9870756922535457), (212088, 0.9870244734726114), (91184, 0.9863939238321436), (232964, 0.9861802432588553), (57398, 0.9858435728860857), (147141, 0.9838699100999074), (76223, 0.9832820049844602), (102647, 0.9832820049844602), (153662, 0.9822725883129408), (66942, 0.980983571281032), (249958, 0.9798272520870256), (231081, 0.9794981525532237), (177375, 0.9701425001453319), (183284, 0.9701425001453319), (184532, 0.9701425001453319), (160434, 0.9699203487910768), (75819, 0.9694415576188405), (88733, 0.9667534561086187), (242083, 0.9647638212377322), (254859, 0.9639926182060736), (267830, 0.96), (49225, 0.9518605578567332), (240144, 0.9421683286017898)]\n",
            "            ISBN            title\n",
            "9118  0399151648  Kate Remembered\n",
            "             ISBN            title\n",
            "18957  0140055770  My Uncle Oswald\n",
            "             ISBN                                                         title\n",
            "55749  0553265962  Tisha: The Story of a Young Teacher in the Alaska Wilderness\n",
            "            ISBN                                                           title\n",
            "7974  0140189645  The Crucible: A Play in Four Acts (Twentieth-Century Classics)\n",
            "            ISBN                                                                   title\n",
            "9736  0425166929  One Last Time: A Psychic Medium Speaks to Those We Have Loved and Lost\n"
          ],
          "name": "stdout"
        }
      ]
    },
    {
      "cell_type": "markdown",
      "metadata": {
        "id": "0mJsxbcI_TMo"
      },
      "source": [
        "### Experimentos adicionales\n",
        "\n",
        "Se decidió realizar experimentos adicionales para probar otra forma de pre-procesar la matriz de usuarios-ítems, rellenando esta con ceros (y estandarizándola), para que así, al momento de calcular la similaridad, no sea calculada entre una cantidad reducida de valores para los ítems y se tome en consideración el vector completo, intentando mitigar, de esta manera, el problema de obtener demasiados valores igual a uno para la similaridad."
      ]
    },
    {
      "cell_type": "code",
      "metadata": {
        "id": "FKgOyKYzEt4s"
      },
      "source": [
        "#Funcion para recuperar las similaridades con esta nueva implementacion\n",
        "def getCosSimDicc(matrix, simMatrix, user):\n",
        "  diccSims = {}\n",
        "  posInSimMatrix = 0\n",
        "  userPos = 0\n",
        "  for index, row in matrix.iterrows():\n",
        "    if index == user:\n",
        "      userPos = posInSimMatrix\n",
        "    posInSimMatrix +=1\n",
        "  posInSimMatrix = 0\n",
        "  for index, row in matrix.iterrows():\n",
        "    if(index != user):\n",
        "      diccSims[index] =  simMatrix[userPos][posInSimMatrix]\n",
        "    posInSimMatrix +=1\n",
        "  return diccSims"
      ],
      "execution_count": null,
      "outputs": []
    },
    {
      "cell_type": "markdown",
      "metadata": {
        "id": "9gx88Hp-BA5P"
      },
      "source": [
        "#### Movies Dataset\n"
      ]
    },
    {
      "cell_type": "code",
      "metadata": {
        "id": "qN5RLDl9BD8k"
      },
      "source": [
        "#Matriz pivot a usar\n",
        "user_item_matrix_new = moviesNewUser.pivot(index = 'user_id', columns ='movie_id', values = 'rating').fillna(0)\n",
        "#Matriz estandarizada a [0, 1]\n",
        "for index, row in user_item_matrix_new.iterrows():\n",
        "  row= (row-row.min())/(row.max()-row.min())\n",
        "  user_item_matrix_new.loc[index] = row\n",
        "\n",
        "#Rating promedio\n",
        "rating_mean= moviesNewUser.groupby(['user_id'], as_index = False, sort = False).mean().rename(columns = {'rating': 'rating_mean'})[['user_id','rating_mean']]\n",
        "#Mean centered rating\n",
        "adjusted_ratings = pd.merge(moviesNewUser,rating_mean,on = 'user_id', how = 'left', sort = False)\n",
        "adjusted_ratings['rating_adjusted']=adjusted_ratings['rating']-adjusted_ratings['rating_mean']\n",
        "#Pivoteo para dejar la matriz usuarios-items con los mean centered ratings\n",
        "adjusted_ratings = adjusted_ratings.pivot(index = 'user_id', columns ='movie_id', values = 'rating_adjusted')"
      ],
      "execution_count": null,
      "outputs": []
    },
    {
      "cell_type": "code",
      "metadata": {
        "id": "Mfw_h35OBntW"
      },
      "source": [
        "#Dado que no se encuentran valores NaN, se puede calcular de forma más rápida la similaridad de coseno entre usuarios\n",
        "moviesSimMatrix = cosine_similarity(user_item_matrix_new)\n",
        "\n",
        "#En caso de obtener valores nan, debido a, por ejemplo, división por cero, se reemplaza la similaridad por cero\n",
        "moviesSimMatrix[np.isnan(moviesSimMatrix)] = 0"
      ],
      "execution_count": null,
      "outputs": []
    },
    {
      "cell_type": "code",
      "metadata": {
        "colab": {
          "base_uri": "https://localhost:8080/",
          "height": 296
        },
        "id": "MCe-8tiDLac9",
        "outputId": "f9d92db8-40a5-40a7-c650-6eef5f20e06a"
      },
      "source": [
        "cosenoDic = getCosSimDicc(user_item_matrix_new, moviesSimMatrix, 777)\n",
        "cosenoDicSorted = sorted(cosenoDic.items(), key=operator.itemgetter(1), reverse=True)\n",
        "\n",
        "#Grafico para visualizar la distancia coseno a este\n",
        "plt.plot([ (1- x[1]) for x in cosenoDicSorted])\n",
        "plt.xlabel(\"Usuarios ordenados de mayor a menor similaridad\")\n",
        "plt.ylabel(\"Distancia coseno a usuario objetivo\")\n",
        "plt.show()\n",
        "\n",
        "print(\"Cantidad de usuarios con similitud mayor a 0.10: \", len([ (1- x[1]) for x in cosenoDicSorted if x[1] > 0.10]))"
      ],
      "execution_count": null,
      "outputs": [
        {
          "output_type": "display_data",
          "data": {
            "image/png": "[encoded data removed]",
            "text/plain": [
              "<Figure size 432x288 with 1 Axes>"
            ]
          },
          "metadata": {
            "tags": [],
            "needs_background": "light"
          }
        },
        {
          "output_type": "stream",
          "text": [
            "Cantidad de usuarios con similitud mayor a 0.10:  10\n"
          ],
          "name": "stdout"
        }
      ]
    },
    {
      "cell_type": "code",
      "metadata": {
        "id": "t0sCQOVLMQ_3"
      },
      "source": [
        "#En base a 5 usuarios \n",
        "ratingsEstimadosK5 = estimateRating(adjusted_ratings, rating_mean, cosenoDicSorted[:5], 777)\n",
        "#En base a 24 usuarios \n",
        "ratingsEstimadosK24 = estimateRating(adjusted_ratings, rating_mean, cosenoDicSorted[:24], 777)\n",
        "#En base a 50 usuarios \n",
        "ratingsEstimadosK50 = estimateRating(adjusted_ratings, rating_mean, cosenoDicSorted[:50], 777)\n",
        "#En base a 100 usuarios \n",
        "ratingsEstimadosK100 = estimateRating(adjusted_ratings, rating_mean, cosenoDicSorted[:100], 777)\n",
        "#En base a 244 usuarios \n",
        "ratingsEstimadosK244 = estimateRating(adjusted_ratings, rating_mean, cosenoDicSorted[:244], 777)\n",
        "#En base a 260 usuarios\n",
        "ratingsEstimadosK260 = estimateRating(adjusted_ratings, rating_mean, cosenoDicSorted[:260], 777)\n",
        "\n",
        "ratingsTotales = [ratingsEstimadosK5, ratingsEstimadosK24, ratingsEstimadosK50, ratingsEstimadosK100, ratingsEstimadosK244, ratingsEstimadosK260]\n",
        "for i in range(len(ratingsTotales)):\n",
        "  ratingsTotales[i] = sorted(ratingsTotales[i].items(), key=operator.itemgetter(1), reverse=True)[:5]"
      ],
      "execution_count": null,
      "outputs": []
    },
    {
      "cell_type": "code",
      "metadata": {
        "colab": {
          "base_uri": "https://localhost:8080/"
        },
        "id": "7ZH2Gvd2SDVb",
        "outputId": "990449d2-74d0-4105-a809-3b341f8fa93a"
      },
      "source": [
        "kPrueba = [5, 24, 50, 100, 244, 260]\n",
        "\n",
        "for rating in range(len(ratingsTotales)):\n",
        "  print(\"------------ \\n K = \", kPrueba[rating])\n",
        "  print(\"Vecinos más cercanos: \\n\")\n",
        "  print(cosenoDicSorted[:kPrueba[rating]])\n",
        "  for movieId, sim in ratingsTotales[rating]:\n",
        "    print(moviesIds[moviesIds[\"movie_id\"] == movieId].to_string())"
      ],
      "execution_count": null,
      "outputs": [
        {
          "output_type": "stream",
          "text": [
            "------------ \n",
            " K =  5\n",
            "Vecinos más cercanos: \n",
            "\n",
            "[(25, 0.1667413696392527), (184, 0.15572140922183647), (596, 0.13426286672422408), (291, 0.12532116655178688), (60, 0.11531026764185304)]\n",
            "      movie_id              title                         genres\n",
            "1701      2288  Thing, The (1982)  Action|Horror|Sci-Fi|Thriller\n",
            "      movie_id                                     title                                    genres\n",
            "2260      3000  Princess Mononoke (Mononoke-hime) (1997)  Action|Adventure|Animation|Drama|Fantasy\n",
            "      movie_id                title                         genres\n",
            "3562      4878  Donnie Darko (2001)  Drama|Mystery|Sci-Fi|Thriller\n",
            "      movie_id                                         title                            genres\n",
            "4151      5971  My Neighbor Totoro (Tonari no Totoro) (1988)  Animation|Children|Drama|Fantasy\n",
            "      movie_id                                               title                               genres\n",
            "5791     31658  Howl's Moving Castle (Hauru no ugoku shiro) (2004)  Adventure|Animation|Fantasy|Romance\n",
            "------------ \n",
            " K =  24\n",
            "Vecinos más cercanos: \n",
            "\n",
            "[(25, 0.1667413696392527), (184, 0.15572140922183647), (596, 0.13426286672422408), (291, 0.12532116655178688), (60, 0.11531026764185304), (189, 0.11141205501986137), (231, 0.10553509301446441), (407, 0.10409637790228964), (567, 0.1034358293181015), (586, 0.10186380164014239), (380, 0.09869489238857128), (248, 0.09825700796406803), (496, 0.09636449313735963), (548, 0.09518522923610993), (98, 0.09459061480351269), (62, 0.09386048224129571), (549, 0.09145575089038474), (472, 0.09052294759606579), (77, 0.09050088765968459), (196, 0.08988968316207745), (2, 0.08507258488282232), (515, 0.08275690455951129), (65, 0.07785368088253504), (319, 0.07766958078476129)]\n",
            "      movie_id                                   title         genres\n",
            "1397      1916  Buffalo '66 (a.k.a. Buffalo 66) (1998)  Drama|Romance\n",
            "      movie_id                                                  title                       genres\n",
            "2453      3266  Man Bites Dog (C'est arrivé près de chez vous) (1992)  Comedy|Crime|Drama|Thriller\n",
            "      movie_id                               title     genres\n",
            "4590      6818  Come and See (Idi i smotri) (1985)  Drama|War\n",
            "      movie_id             title          genres\n",
            "5202      8477  Jetée, La (1962)  Romance|Sci-Fi\n",
            "      movie_id                                          title   genres\n",
            "5407     25771  Andalusian Dog, An (Chien andalou, Un) (1929)  Fantasy\n",
            "------------ \n",
            " K =  50\n",
            "Vecinos más cercanos: \n",
            "\n",
            "[(25, 0.1667413696392527), (184, 0.15572140922183647), (596, 0.13426286672422408), (291, 0.12532116655178688), (60, 0.11531026764185304), (189, 0.11141205501986137), (231, 0.10553509301446441), (407, 0.10409637790228964), (567, 0.1034358293181015), (586, 0.10186380164014239), (380, 0.09869489238857128), (248, 0.09825700796406803), (496, 0.09636449313735963), (548, 0.09518522923610993), (98, 0.09459061480351269), (62, 0.09386048224129571), (549, 0.09145575089038474), (472, 0.09052294759606579), (77, 0.09050088765968459), (196, 0.08988968316207745), (2, 0.08507258488282232), (515, 0.08275690455951129), (65, 0.07785368088253504), (319, 0.07766958078476129), (210, 0.07533801359702808), (550, 0.0739297022481231), (30, 0.07375004292484216), (212, 0.07363144293249248), (366, 0.07346455542414337), (502, 0.07275614039421821), (435, 0.07261903699275082), (261, 0.0701941076562393), (249, 0.0679823487729561), (573, 0.06746019255489241), (538, 0.06724014616366734), (441, 0.0666183488758043), (378, 0.065823494714618), (112, 0.06558730885581017), (88, 0.06536185050970311), (528, 0.0649585562640096), (233, 0.06428998049951282), (223, 0.062304030671002555), (400, 0.06183851154997707), (497, 0.06156378439743187), (582, 0.06040479323147053), (237, 0.05912238076499021), (305, 0.05785704480734925), (220, 0.05700821089387406), (73, 0.05662512904421263), (252, 0.05644108426868492)]\n",
            "      movie_id                                                  title                       genres\n",
            "2453      3266  Man Bites Dog (C'est arrivé près de chez vous) (1992)  Comedy|Crime|Drama|Thriller\n",
            "      movie_id             title          genres\n",
            "5202      8477  Jetée, La (1962)  Romance|Sci-Fi\n",
            "      movie_id                                          title   genres\n",
            "5407     25771  Andalusian Dog, An (Chien andalou, Un) (1929)  Fantasy\n",
            "      movie_id                                                    title        genres\n",
            "6051     40491  Match Factory Girl, The (Tulitikkutehtaan tyttö) (1990)  Comedy|Drama\n",
            "      movie_id                title                  genres\n",
            "7166     71899  Mary and Max (2009)  Animation|Comedy|Drama\n",
            "------------ \n",
            " K =  100\n",
            "Vecinos más cercanos: \n",
            "\n",
            "[(25, 0.1667413696392527), (184, 0.15572140922183647), (596, 0.13426286672422408), (291, 0.12532116655178688), (60, 0.11531026764185304), (189, 0.11141205501986137), (231, 0.10553509301446441), (407, 0.10409637790228964), (567, 0.1034358293181015), (586, 0.10186380164014239), (380, 0.09869489238857128), (248, 0.09825700796406803), (496, 0.09636449313735963), (548, 0.09518522923610993), (98, 0.09459061480351269), (62, 0.09386048224129571), (549, 0.09145575089038474), (472, 0.09052294759606579), (77, 0.09050088765968459), (196, 0.08988968316207745), (2, 0.08507258488282232), (515, 0.08275690455951129), (65, 0.07785368088253504), (319, 0.07766958078476129), (210, 0.07533801359702808), (550, 0.0739297022481231), (30, 0.07375004292484216), (212, 0.07363144293249248), (366, 0.07346455542414337), (502, 0.07275614039421821), (435, 0.07261903699275082), (261, 0.0701941076562393), (249, 0.0679823487729561), (573, 0.06746019255489241), (538, 0.06724014616366734), (441, 0.0666183488758043), (378, 0.065823494714618), (112, 0.06558730885581017), (88, 0.06536185050970311), (528, 0.0649585562640096), (233, 0.06428998049951282), (223, 0.062304030671002555), (400, 0.06183851154997707), (497, 0.06156378439743187), (582, 0.06040479323147053), (237, 0.05912238076499021), (305, 0.05785704480734925), (220, 0.05700821089387406), (73, 0.05662512904421263), (252, 0.05644108426868492), (131, 0.05618824110794832), (303, 0.05577235841593933), (86, 0.055623420055501256), (308, 0.05368595544117107), (531, 0.05343833396122023), (83, 0.053214643310763296), (348, 0.05301294845596586), (213, 0.05202872804601464), (599, 0.05108222421511319), (152, 0.050685066855549445), (164, 0.05041934055070254), (523, 0.050204624313910005), (160, 0.04969230408327203), (537, 0.04953687216315638), (16, 0.04949973888956601), (327, 0.04921529567847503), (211, 0.04911667978275475), (585, 0.04799760497926581), (234, 0.047233260399112784), (490, 0.0470256406669971), (292, 0.04531462530730505), (569, 0.04513511391108638), (227, 0.04494217415223544), (10, 0.044782992397732355), (328, 0.04450460294695173), (139, 0.044354730534575525), (393, 0.04434916869662167), (417, 0.044320003334637176), (204, 0.04394049296194886), (141, 0.04372425083832196), (493, 0.0437047962553009), (18, 0.04302284603515303), (561, 0.04302065016559556), (17, 0.04246298797893884), (24, 0.042379355486081446), (330, 0.04215664737299138), (331, 0.041900334270991844), (534, 0.04187032244634872), (408, 0.04158656692711303), (445, 0.0412663836116869), (415, 0.040881185984087694), (482, 0.040254355723530616), (52, 0.039766351251514495), (288, 0.03945425157335942), (125, 0.039190122741158046), (322, 0.03915358696987313), (274, 0.038656436729176534), (590, 0.03822973860738678), (22, 0.03763371966496245), (514, 0.03703687017644494)]\n",
            "      movie_id                                          title   genres\n",
            "5407     25771  Andalusian Dog, An (Chien andalou, Un) (1929)  Fantasy\n",
            "      movie_id                                                    title        genres\n",
            "6051     40491  Match Factory Girl, The (Tulitikkutehtaan tyttö) (1990)  Comedy|Drama\n",
            "      movie_id                             title                                 genres\n",
            "8079     99764  It's Such a Beautiful Day (2012)  Animation|Comedy|Drama|Fantasy|Sci-Fi\n",
            "      movie_id                     title            genres\n",
            "9170    148881  World of Tomorrow (2015)  Animation|Comedy\n",
            "    movie_id                                       title                         genres\n",
            "99       112  Rumble in the Bronx (Hont faan kui) (1995)  Action|Adventure|Comedy|Crime\n",
            "------------ \n",
            " K =  244\n",
            "Vecinos más cercanos: \n",
            "\n",
            "[(25, 0.1667413696392527), (184, 0.15572140922183647), (596, 0.13426286672422408), (291, 0.12532116655178688), (60, 0.11531026764185304), (189, 0.11141205501986137), (231, 0.10553509301446441), (407, 0.10409637790228964), (567, 0.1034358293181015), (586, 0.10186380164014239), (380, 0.09869489238857128), (248, 0.09825700796406803), (496, 0.09636449313735963), (548, 0.09518522923610993), (98, 0.09459061480351269), (62, 0.09386048224129571), (549, 0.09145575089038474), (472, 0.09052294759606579), (77, 0.09050088765968459), (196, 0.08988968316207745), (2, 0.08507258488282232), (515, 0.08275690455951129), (65, 0.07785368088253504), (319, 0.07766958078476129), (210, 0.07533801359702808), (550, 0.0739297022481231), (30, 0.07375004292484216), (212, 0.07363144293249248), (366, 0.07346455542414337), (502, 0.07275614039421821), (435, 0.07261903699275082), (261, 0.0701941076562393), (249, 0.0679823487729561), (573, 0.06746019255489241), (538, 0.06724014616366734), (441, 0.0666183488758043), (378, 0.065823494714618), (112, 0.06558730885581017), (88, 0.06536185050970311), (528, 0.0649585562640096), (233, 0.06428998049951282), (223, 0.062304030671002555), (400, 0.06183851154997707), (497, 0.06156378439743187), (582, 0.06040479323147053), (237, 0.05912238076499021), (305, 0.05785704480734925), (220, 0.05700821089387406), (73, 0.05662512904421263), (252, 0.05644108426868492), (131, 0.05618824110794832), (303, 0.05577235841593933), (86, 0.055623420055501256), (308, 0.05368595544117107), (531, 0.05343833396122023), (83, 0.053214643310763296), (348, 0.05301294845596586), (213, 0.05202872804601464), (599, 0.05108222421511319), (152, 0.050685066855549445), (164, 0.05041934055070254), (523, 0.050204624313910005), (160, 0.04969230408327203), (537, 0.04953687216315638), (16, 0.04949973888956601), (327, 0.04921529567847503), (211, 0.04911667978275475), (585, 0.04799760497926581), (234, 0.047233260399112784), (490, 0.0470256406669971), (292, 0.04531462530730505), (569, 0.04513511391108638), (227, 0.04494217415223544), (10, 0.044782992397732355), (328, 0.04450460294695173), (139, 0.044354730534575525), (393, 0.04434916869662167), (417, 0.044320003334637176), (204, 0.04394049296194886), (141, 0.04372425083832196), (493, 0.0437047962553009), (18, 0.04302284603515303), (561, 0.04302065016559556), (17, 0.04246298797893884), (24, 0.042379355486081446), (330, 0.04215664737299138), (331, 0.041900334270991844), (534, 0.04187032244634872), (408, 0.04158656692711303), (445, 0.0412663836116869), (415, 0.040881185984087694), (482, 0.040254355723530616), (52, 0.039766351251514495), (288, 0.03945425157335942), (125, 0.039190122741158046), (322, 0.03915358696987313), (274, 0.038656436729176534), (590, 0.03822973860738678), (22, 0.03763371966496245), (514, 0.03703687017644494), (80, 0.0370175558983322), (509, 0.03693949091135344), (432, 0.03665537160659263), (522, 0.03647296592107954), (63, 0.03561136503617631), (307, 0.035075440786590174), (247, 0.034831136133172416), (39, 0.03469856435181513), (434, 0.03425863130759206), (414, 0.034213560625829496), (259, 0.03420465064885814), (177, 0.03419418215491939), (130, 0.03405450288413476), (76, 0.03373651994562034), (19, 0.033525910215542944), (68, 0.03338480434015374), (477, 0.03325573858172098), (280, 0.03318617686044895), (279, 0.03305229257380433), (394, 0.03286992809345873), (382, 0.032616733291536006), (26, 0.032580319557486456), (282, 0.032532412329197236), (154, 0.032516350996868455), (351, 0.032418457247330106), (424, 0.03236069235461869), (438, 0.032161294761152086), (81, 0.032159910724211746), (21, 0.03197456749434671), (219, 0.031969885762805746), (298, 0.03139402380582364), (464, 0.031266579870761424), (507, 0.031176193595098697), (317, 0.030907388335651473), (483, 0.030844320320987953), (374, 0.030516906847688735), (27, 0.030492166748893497), (318, 0.030422736505814882), (134, 0.0304183059216076), (510, 0.030281139490572494), (495, 0.03019886579689607), (321, 0.03014086091515621), (294, 0.03013497180992907), (452, 0.030120198524882916), (126, 0.03003324855111747), (338, 0.029961449434823643), (166, 0.029928677998047798), (145, 0.029883958026275498), (119, 0.029852396529667386), (265, 0.02957188089924926), (356, 0.029489711886779266), (600, 0.02942502788435851), (419, 0.029193325350530815), (365, 0.029179739686869238), (466, 0.02905724034227221), (340, 0.029045336463452597), (570, 0.028986984622097825), (200, 0.028753022831653374), (390, 0.02868607412083947), (357, 0.02865596487270049), (334, 0.02862703264832568), (577, 0.02820089342065881), (99, 0.027813883072253524), (222, 0.027738744124335427), (95, 0.027504536463887612), (173, 0.027372943564569933), (332, 0.0273534727893407), (239, 0.026963304320401234), (486, 0.02650425149868929), (103, 0.02648709717880092), (186, 0.026476599689910264), (448, 0.026343796473023), (562, 0.02600873833144614), (475, 0.02597164812796218), (243, 0.025907916282788344), (489, 0.025793523072029263), (37, 0.025336818949700284), (574, 0.025269878756246145), (458, 0.02514808273885481), (56, 0.02498917329687891), (46, 0.024756710818317314), (268, 0.024690364977601634), (162, 0.024669014082153398), (132, 0.024570639085781266), (468, 0.02429577935456246), (50, 0.024034576979689738), (560, 0.023858314228139214), (610, 0.023402121937344478), (379, 0.023242549051998875), (339, 0.02313083619692486), (312, 0.0230721806324055), (217, 0.022866160435644975), (7, 0.022856780053989615), (462, 0.022536992536969846), (484, 0.02215752448086229), (51, 0.021778078234990065), (64, 0.021589580057009658), (352, 0.021562221141339304), (107, 0.021189874306857627), (57, 0.02112277207089234), (122, 0.020986112632719146), (232, 0.020914150567720356), (597, 0.02083710351561231), (135, 0.02079195883540919), (594, 0.02074316738777896), (94, 0.020569548013003272), (470, 0.020508017668712665), (170, 0.0203745715935426), (347, 0.020357120137155384), (525, 0.020279742880169423), (498, 0.01988598246420039), (176, 0.01978921311881694), (155, 0.01972547957769949), (5, 0.01969384286194485), (15, 0.019448998881634857), (1, 0.019403759575455364), (28, 0.01924686755654995), (102, 0.019062754226048147), (447, 0.01879480636171418), (111, 0.01839703035647723), (118, 0.017892122602432843), (198, 0.017606246043403922), (391, 0.0171227077743748), (580, 0.017069719764253925), (75, 0.017065627085610924), (555, 0.01695043193914688), (202, 0.016803689208596116), (43, 0.016684490356393824), (38, 0.016462547222578984), (235, 0.016245687515099663), (565, 0.016236836690408336), (229, 0.016054247982977072), (602, 0.015993683742136514), (230, 0.015877177441274863), (174, 0.015869420548853957), (11, 0.015795627958416547), (476, 0.015779368944371697), (179, 0.015396070536835353), (93, 0.015383833127486606), (368, 0.01535663910660826), (242, 0.01500090828561662), (201, 0.014835019411559541), (541, 0.014826174375563415), (313, 0.014607246872898723)]\n",
            "      movie_id                                                    title        genres\n",
            "6051     40491  Match Factory Girl, The (Tulitikkutehtaan tyttö) (1990)  Comedy|Drama\n",
            "      movie_id                     title            genres\n",
            "9170    148881  World of Tomorrow (2015)  Animation|Comedy\n",
            "      movie_id             title          genres\n",
            "5202      8477  Jetée, La (1962)  Romance|Sci-Fi\n",
            "    movie_id                      title         genres\n",
            "76        85  Angels and Insects (1995)  Drama|Romance\n",
            "      movie_id           title genres\n",
            "1722      2314  Beloved (1998)  Drama\n",
            "------------ \n",
            " K =  260\n",
            "Vecinos más cercanos: \n",
            "\n",
            "[(25, 0.1667413696392527), (184, 0.15572140922183647), (596, 0.13426286672422408), (291, 0.12532116655178688), (60, 0.11531026764185304), (189, 0.11141205501986137), (231, 0.10553509301446441), (407, 0.10409637790228964), (567, 0.1034358293181015), (586, 0.10186380164014239), (380, 0.09869489238857128), (248, 0.09825700796406803), (496, 0.09636449313735963), (548, 0.09518522923610993), (98, 0.09459061480351269), (62, 0.09386048224129571), (549, 0.09145575089038474), (472, 0.09052294759606579), (77, 0.09050088765968459), (196, 0.08988968316207745), (2, 0.08507258488282232), (515, 0.08275690455951129), (65, 0.07785368088253504), (319, 0.07766958078476129), (210, 0.07533801359702808), (550, 0.0739297022481231), (30, 0.07375004292484216), (212, 0.07363144293249248), (366, 0.07346455542414337), (502, 0.07275614039421821), (435, 0.07261903699275082), (261, 0.0701941076562393), (249, 0.0679823487729561), (573, 0.06746019255489241), (538, 0.06724014616366734), (441, 0.0666183488758043), (378, 0.065823494714618), (112, 0.06558730885581017), (88, 0.06536185050970311), (528, 0.0649585562640096), (233, 0.06428998049951282), (223, 0.062304030671002555), (400, 0.06183851154997707), (497, 0.06156378439743187), (582, 0.06040479323147053), (237, 0.05912238076499021), (305, 0.05785704480734925), (220, 0.05700821089387406), (73, 0.05662512904421263), (252, 0.05644108426868492), (131, 0.05618824110794832), (303, 0.05577235841593933), (86, 0.055623420055501256), (308, 0.05368595544117107), (531, 0.05343833396122023), (83, 0.053214643310763296), (348, 0.05301294845596586), (213, 0.05202872804601464), (599, 0.05108222421511319), (152, 0.050685066855549445), (164, 0.05041934055070254), (523, 0.050204624313910005), (160, 0.04969230408327203), (537, 0.04953687216315638), (16, 0.04949973888956601), (327, 0.04921529567847503), (211, 0.04911667978275475), (585, 0.04799760497926581), (234, 0.047233260399112784), (490, 0.0470256406669971), (292, 0.04531462530730505), (569, 0.04513511391108638), (227, 0.04494217415223544), (10, 0.044782992397732355), (328, 0.04450460294695173), (139, 0.044354730534575525), (393, 0.04434916869662167), (417, 0.044320003334637176), (204, 0.04394049296194886), (141, 0.04372425083832196), (493, 0.0437047962553009), (18, 0.04302284603515303), (561, 0.04302065016559556), (17, 0.04246298797893884), (24, 0.042379355486081446), (330, 0.04215664737299138), (331, 0.041900334270991844), (534, 0.04187032244634872), (408, 0.04158656692711303), (445, 0.0412663836116869), (415, 0.040881185984087694), (482, 0.040254355723530616), (52, 0.039766351251514495), (288, 0.03945425157335942), (125, 0.039190122741158046), (322, 0.03915358696987313), (274, 0.038656436729176534), (590, 0.03822973860738678), (22, 0.03763371966496245), (514, 0.03703687017644494), (80, 0.0370175558983322), (509, 0.03693949091135344), (432, 0.03665537160659263), (522, 0.03647296592107954), (63, 0.03561136503617631), (307, 0.035075440786590174), (247, 0.034831136133172416), (39, 0.03469856435181513), (434, 0.03425863130759206), (414, 0.034213560625829496), (259, 0.03420465064885814), (177, 0.03419418215491939), (130, 0.03405450288413476), (76, 0.03373651994562034), (19, 0.033525910215542944), (68, 0.03338480434015374), (477, 0.03325573858172098), (280, 0.03318617686044895), (279, 0.03305229257380433), (394, 0.03286992809345873), (382, 0.032616733291536006), (26, 0.032580319557486456), (282, 0.032532412329197236), (154, 0.032516350996868455), (351, 0.032418457247330106), (424, 0.03236069235461869), (438, 0.032161294761152086), (81, 0.032159910724211746), (21, 0.03197456749434671), (219, 0.031969885762805746), (298, 0.03139402380582364), (464, 0.031266579870761424), (507, 0.031176193595098697), (317, 0.030907388335651473), (483, 0.030844320320987953), (374, 0.030516906847688735), (27, 0.030492166748893497), (318, 0.030422736505814882), (134, 0.0304183059216076), (510, 0.030281139490572494), (495, 0.03019886579689607), (321, 0.03014086091515621), (294, 0.03013497180992907), (452, 0.030120198524882916), (126, 0.03003324855111747), (338, 0.029961449434823643), (166, 0.029928677998047798), (145, 0.029883958026275498), (119, 0.029852396529667386), (265, 0.02957188089924926), (356, 0.029489711886779266), (600, 0.02942502788435851), (419, 0.029193325350530815), (365, 0.029179739686869238), (466, 0.02905724034227221), (340, 0.029045336463452597), (570, 0.028986984622097825), (200, 0.028753022831653374), (390, 0.02868607412083947), (357, 0.02865596487270049), (334, 0.02862703264832568), (577, 0.02820089342065881), (99, 0.027813883072253524), (222, 0.027738744124335427), (95, 0.027504536463887612), (173, 0.027372943564569933), (332, 0.0273534727893407), (239, 0.026963304320401234), (486, 0.02650425149868929), (103, 0.02648709717880092), (186, 0.026476599689910264), (448, 0.026343796473023), (562, 0.02600873833144614), (475, 0.02597164812796218), (243, 0.025907916282788344), (489, 0.025793523072029263), (37, 0.025336818949700284), (574, 0.025269878756246145), (458, 0.02514808273885481), (56, 0.02498917329687891), (46, 0.024756710818317314), (268, 0.024690364977601634), (162, 0.024669014082153398), (132, 0.024570639085781266), (468, 0.02429577935456246), (50, 0.024034576979689738), (560, 0.023858314228139214), (610, 0.023402121937344478), (379, 0.023242549051998875), (339, 0.02313083619692486), (312, 0.0230721806324055), (217, 0.022866160435644975), (7, 0.022856780053989615), (462, 0.022536992536969846), (484, 0.02215752448086229), (51, 0.021778078234990065), (64, 0.021589580057009658), (352, 0.021562221141339304), (107, 0.021189874306857627), (57, 0.02112277207089234), (122, 0.020986112632719146), (232, 0.020914150567720356), (597, 0.02083710351561231), (135, 0.02079195883540919), (594, 0.02074316738777896), (94, 0.020569548013003272), (470, 0.020508017668712665), (170, 0.0203745715935426), (347, 0.020357120137155384), (525, 0.020279742880169423), (498, 0.01988598246420039), (176, 0.01978921311881694), (155, 0.01972547957769949), (5, 0.01969384286194485), (15, 0.019448998881634857), (1, 0.019403759575455364), (28, 0.01924686755654995), (102, 0.019062754226048147), (447, 0.01879480636171418), (111, 0.01839703035647723), (118, 0.017892122602432843), (198, 0.017606246043403922), (391, 0.0171227077743748), (580, 0.017069719764253925), (75, 0.017065627085610924), (555, 0.01695043193914688), (202, 0.016803689208596116), (43, 0.016684490356393824), (38, 0.016462547222578984), (235, 0.016245687515099663), (565, 0.016236836690408336), (229, 0.016054247982977072), (602, 0.015993683742136514), (230, 0.015877177441274863), (174, 0.015869420548853957), (11, 0.015795627958416547), (476, 0.015779368944371697), (179, 0.015396070536835353), (93, 0.015383833127486606), (368, 0.01535663910660826), (242, 0.01500090828561662), (201, 0.014835019411559541), (541, 0.014826174375563415), (313, 0.014607246872898723), (373, 0.014207353014148397), (353, 0.014201432049934532), (197, 0.013871569437467009), (604, 0.013826297913720961), (386, 0.013797718498725083), (284, 0.013713032008668847), (592, 0.013639049793302063), (14, 0.013355890447113475), (605, 0.013319356498587884), (109, 0.013257321642800267), (136, 0.0131479712373835), (425, 0.013118301208130304), (8, 0.012923750658054307), (608, 0.012871623534291752), (105, 0.012831469501717064), (584, 0.012697915043455974)]\n",
            "      movie_id                                                    title        genres\n",
            "6051     40491  Match Factory Girl, The (Tulitikkutehtaan tyttö) (1990)  Comedy|Drama\n",
            "      movie_id                     title            genres\n",
            "9170    148881  World of Tomorrow (2015)  Animation|Comedy\n",
            "      movie_id             title          genres\n",
            "5202      8477  Jetée, La (1962)  Romance|Sci-Fi\n",
            "    movie_id                      title         genres\n",
            "76        85  Angels and Insects (1995)  Drama|Romance\n",
            "      movie_id           title genres\n",
            "1722      2314  Beloved (1998)  Drama\n"
          ],
          "name": "stdout"
        }
      ]
    },
    {
      "cell_type": "markdown",
      "metadata": {
        "id": "UKBklV0KBFEo"
      },
      "source": [
        "#### Books Dataset"
      ]
    },
    {
      "cell_type": "code",
      "metadata": {
        "id": "67FXQeWUSflG"
      },
      "source": [
        "#Matriz pivot a usar\n",
        "user_item_matrix_new = booksNewUser.pivot(index = 'user_id', columns ='ISBN', values = 'rating').fillna(0)\n",
        "#Matriz estandarizada a [0, 1]\n",
        "for index, row in user_item_matrix_new.iterrows():\n",
        "  row= (row-row.min())/(row.max()-row.min())\n",
        "  user_item_matrix_new.loc[index] = row\n",
        "#En algunos casos luego de estandarizar existen valores NaN\n",
        "user_item_matrix_new = user_item_matrix_new.fillna(0)\n",
        "\n",
        "#Rating promedio\n",
        "rating_mean_books = booksNewUser.groupby(['user_id'], as_index = False, sort = False).mean().rename(columns = {'rating': 'rating_mean'})[['user_id','rating_mean']]\n",
        "#Mean centered ratings\n",
        "adjusted_ratings = pd.merge(booksNewUser,rating_mean_books,on = 'user_id', how = 'left', sort = False)\n",
        "adjusted_ratings['rating_adjusted']=adjusted_ratings['rating']-adjusted_ratings['rating_mean']\n",
        "#Pivoteo para dejar la matriz usuarios-items con los mean centered ratings\n",
        "adjusted_ratings = adjusted_ratings.pivot(index = 'user_id', columns ='ISBN', values = 'rating_adjusted')"
      ],
      "execution_count": null,
      "outputs": []
    },
    {
      "cell_type": "code",
      "metadata": {
        "id": "4O6VfONpSfsG"
      },
      "source": [
        "#Dado que no se encuentran valores NaN, se puede calcular de forma más rápida la similaridad de coseno entre usuarios\n",
        "booksSimMatrix = cosine_similarity(user_item_matrix_new)\n",
        " \n",
        "#En caso de obtener valores nan, debido a, por ejemplo, división por cero, se reemplaza la similaridad por cero\n",
        "booksSimMatrix[np.isnan(booksSimMatrix)] = 0"
      ],
      "execution_count": null,
      "outputs": []
    },
    {
      "cell_type": "code",
      "metadata": {
        "colab": {
          "base_uri": "https://localhost:8080/",
          "height": 296
        },
        "id": "Ea7mqH6ISfyP",
        "outputId": "86426e4a-9a60-4e7c-bd2d-e876925886ce"
      },
      "source": [
        "cosenoDic = getCosSimDicc(user_item_matrix_new,booksSimMatrix, 359263)\n",
        "cosenoDicSorted = sorted(cosenoDic.items(), key=operator.itemgetter(1), reverse=True)\n",
        "\n",
        "#Grafico para visualizar la distancia coseno a este\n",
        "plt.plot([ (1- x[1]) for x in cosenoDicSorted])\n",
        "plt.xlabel(\"Usuarios ordenados de mayor a menor similaridad\")\n",
        "plt.ylabel(\"Distancia coseno a usuario objetivo\")\n",
        "plt.show()\n",
        "\n",
        "\n",
        "print(\"Cantidad de usuarios con similitud mayor a 0.35: \", len([ (1- x[1]) for x in cosenoDicSorted if x[1] > 0.35]))"
      ],
      "execution_count": null,
      "outputs": [
        {
          "output_type": "display_data",
          "data": {
            "image/png": "[encoded data removed]",
            "text/plain": [
              "<Figure size 432x288 with 1 Axes>"
            ]
          },
          "metadata": {
            "tags": [],
            "needs_background": "light"
          }
        },
        {
          "output_type": "stream",
          "text": [
            "Cantidad de usuarios con similitud mayor a 0.35:  20\n"
          ],
          "name": "stdout"
        }
      ]
    },
    {
      "cell_type": "code",
      "metadata": {
        "id": "djfqk2zQTXWv"
      },
      "source": [
        "#En base a 5 usuarios \n",
        "ratingsEstimadosK5 = estimateRating(adjusted_ratings, rating_mean_books, cosenoDicSorted[:5], 359263)\n",
        "#En base a 20 usuarios\n",
        "ratingsEstimadosK20 = estimateRating(adjusted_ratings, rating_mean_books, cosenoDicSorted[:20], 359263)\n",
        "#En base a 50 usuarios \n",
        "ratingsEstimadosK50 = estimateRating(adjusted_ratings, rating_mean_books, cosenoDicSorted[:50], 359263)\n",
        "#En base a 103 usuarios \n",
        "ratingsEstimadosK103 = estimateRating(adjusted_ratings, rating_mean_books, cosenoDicSorted[:103], 359263)\n",
        "#En base a 244 usuarios \n",
        "ratingsEstimadosK244 = estimateRating(adjusted_ratings, rating_mean_books, cosenoDicSorted[:244], 359263)\n",
        "#En base a 260 usuarios\n",
        "ratingsEstimadosK260 = estimateRating(adjusted_ratings, rating_mean_books, cosenoDicSorted[:260], 359263)\n",
        "\n",
        "ratingsTotales = [ratingsEstimadosK5, ratingsEstimadosK20, ratingsEstimadosK50, ratingsEstimadosK103, ratingsEstimadosK244, ratingsEstimadosK260]\n",
        "for i in range(len(ratingsTotales)):\n",
        "  ratingsTotales[i] = sorted(ratingsTotales[i].items(), key=operator.itemgetter(1), reverse=True)[:5]"
      ],
      "execution_count": null,
      "outputs": []
    },
    {
      "cell_type": "code",
      "metadata": {
        "colab": {
          "base_uri": "https://localhost:8080/"
        },
        "id": "MslMgTtBTafg",
        "outputId": "2bb54da7-68a9-489d-b071-00632cb05aae"
      },
      "source": [
        "kPrueba = [5, 20, 50, 103, 343, 380]\n",
        "\n",
        "for rating in range(len(ratingsTotales)):\n",
        "  print(\"------------ \\n K = \", kPrueba[rating])\n",
        "  print(\"Vecinos más cercanos: \\n\")\n",
        "  print(cosenoDicSorted[:kPrueba[rating]])\n",
        "  for ISBN, sim in ratingsTotales[rating]:\n",
        "    print(booksIds[booksIds[\"ISBN\"] == ISBN].to_string())"
      ],
      "execution_count": null,
      "outputs": [
        {
          "output_type": "stream",
          "text": [
            "------------ \n",
            " K =  5\n",
            "Vecinos más cercanos: \n",
            "\n",
            "[(231081, 0.6455288501107681), (161872, 0.488091287030554), (6431, 0.4813180812410763), (79475, 0.4629238275861726), (160434, 0.45889995856888266)]\n",
            "             ISBN                                                                        title\n",
            "23342  0060924799  More Tales of the City (Maupin, Armistead. Tales of the City Series, V. 2.)\n",
            "             ISBN                                  title\n",
            "13873  0345336275  Foundation (Foundation Series ; Bk 1)\n",
            "            ISBN               title\n",
            "7686  0743436210  Hearts in Atlantis\n",
            "             ISBN                         title\n",
            "33804  0312863551  The Moon Is a Harsh Mistress\n",
            "            ISBN                                                    title\n",
            "7188  0060193395  Body for Life: 12 Weeks to Mental and Physical Strength\n",
            "------------ \n",
            " K =  20\n",
            "Vecinos más cercanos: \n",
            "\n",
            "[(231081, 0.6455288501107681), (161872, 0.488091287030554), (6431, 0.4813180812410763), (79475, 0.4629238275861726), (160434, 0.45889995856888266), (105221, 0.44725368438351837), (108243, 0.4362408087144306), (169192, 0.43375187013131833), (253482, 0.4238120590404857), (175003, 0.42110643684499427), (182847, 0.4136038583290035), (193469, 0.405265614603985), (273089, 0.395229970318331), (271176, 0.39518785961869435), (275401, 0.3885367183512936), (84479, 0.3780261966110119), (208141, 0.3650609455643944), (233526, 0.3598379842447839), (152468, 0.35734243061109117), (212088, 0.35170169242545923)]\n",
            "             ISBN                             title\n",
            "33563  0517707918  The 9 Steps to Financial Freedom\n",
            "            ISBN                                                                                                                                                         title\n",
            "3046  0786881852  Don't Sweat the Small Stuff and It's All Small Stuff : Simple Ways to Keep the Little Things from Taking Over Your Life (Don't Sweat the Small Stuff Series)\n",
            "           ISBN                                                  title\n",
            "244  155874262X  Chicken Soup for the Soul (Chicken Soup for the Soul)\n",
            "             ISBN                                                                                                                                      title\n",
            "17420  1558746099  Chicken Soup for the Kid's Soul : 101 Stories of Courage, Hope and Laughter (Chicken Soup for the Soul (Paperback Health Communications))\n",
            "            ISBN                                   title\n",
            "5528  0553210823  The Canterbury Tales (Bantam Classics)\n",
            "------------ \n",
            " K =  50\n",
            "Vecinos más cercanos: \n",
            "\n",
            "[(231081, 0.6455288501107681), (161872, 0.488091287030554), (6431, 0.4813180812410763), (79475, 0.4629238275861726), (160434, 0.45889995856888266), (105221, 0.44725368438351837), (108243, 0.4362408087144306), (169192, 0.43375187013131833), (253482, 0.4238120590404857), (175003, 0.42110643684499427), (182847, 0.4136038583290035), (193469, 0.405265614603985), (273089, 0.395229970318331), (271176, 0.39518785961869435), (275401, 0.3885367183512936), (84479, 0.3780261966110119), (208141, 0.3650609455643944), (233526, 0.3598379842447839), (152468, 0.35734243061109117), (212088, 0.35170169242545923), (22252, 0.34019934709003957), (133957, 0.3385104800649453), (116904, 0.3379436491379751), (183088, 0.3373007746866985), (144114, 0.33464895174961823), (50615, 0.32654406778788875), (52350, 0.32596896864893693), (117652, 0.31923475378704885), (240528, 0.31923475378704885), (215986, 0.3188575276589043), (195374, 0.31868789198317554), (232964, 0.3036437430105176), (100227, 0.3002105919077652), (228579, 0.2982648580229572), (85367, 0.2935622072461219), (175254, 0.2926821704963577), (173343, 0.2915534688639556), (170634, 0.29021439150106465), (67198, 0.2888217220752407), (54898, 0.2865529166805476), (229768, 0.282943643161247), (225078, 0.28138757871962067), (276165, 0.28113547138141004), (36003, 0.27899581522169725), (115572, 0.27190839994175525), (201783, 0.27102582561212574), (104880, 0.2700143448931187), (142672, 0.2683605482371877), (149483, 0.2678958542985247), (179978, 0.26725594359638255)]\n",
            "             ISBN                             title\n",
            "33563  0517707918  The 9 Steps to Financial Freedom\n",
            "            ISBN                                   title\n",
            "5528  0553210823  The Canterbury Tales (Bantam Classics)\n",
            "             ISBN                title\n",
            "19721  0836211499  Beyond The Far Side\n",
            "             ISBN                                 title\n",
            "19547  0836217012  Cows Of Our Planet (Far Side Series)\n",
            "             ISBN                  title\n",
            "24905  0836220668  Bride Of The Far Side\n",
            "------------ \n",
            " K =  103\n",
            "Vecinos más cercanos: \n",
            "\n",
            "[(231081, 0.6455288501107681), (161872, 0.488091287030554), (6431, 0.4813180812410763), (79475, 0.4629238275861726), (160434, 0.45889995856888266), (105221, 0.44725368438351837), (108243, 0.4362408087144306), (169192, 0.43375187013131833), (253482, 0.4238120590404857), (175003, 0.42110643684499427), (182847, 0.4136038583290035), (193469, 0.405265614603985), (273089, 0.395229970318331), (271176, 0.39518785961869435), (275401, 0.3885367183512936), (84479, 0.3780261966110119), (208141, 0.3650609455643944), (233526, 0.3598379842447839), (152468, 0.35734243061109117), (212088, 0.35170169242545923), (22252, 0.34019934709003957), (133957, 0.3385104800649453), (116904, 0.3379436491379751), (183088, 0.3373007746866985), (144114, 0.33464895174961823), (50615, 0.32654406778788875), (52350, 0.32596896864893693), (117652, 0.31923475378704885), (240528, 0.31923475378704885), (215986, 0.3188575276589043), (195374, 0.31868789198317554), (232964, 0.3036437430105176), (100227, 0.3002105919077652), (228579, 0.2982648580229572), (85367, 0.2935622072461219), (175254, 0.2926821704963577), (173343, 0.2915534688639556), (170634, 0.29021439150106465), (67198, 0.2888217220752407), (54898, 0.2865529166805476), (229768, 0.282943643161247), (225078, 0.28138757871962067), (276165, 0.28113547138141004), (36003, 0.27899581522169725), (115572, 0.27190839994175525), (201783, 0.27102582561212574), (104880, 0.2700143448931187), (142672, 0.2683605482371877), (149483, 0.2678958542985247), (179978, 0.26725594359638255), (254, 0.2661431362588782), (265498, 0.2593517743352984), (74056, 0.25903645663451197), (169600, 0.25694095718161614), (203075, 0.2543031360106093), (68811, 0.2539496915923951), (88122, 0.2521352435160057), (248775, 0.25087139975024403), (128434, 0.25052829020795875), (35148, 0.2473791686935955), (227161, 0.2460780552143899), (131238, 0.24464652442189871), (174791, 0.24131879096270464), (100004, 0.24082664759706277), (105881, 0.2394260653402866), (155495, 0.2361285328504313), (249958, 0.2356628817995162), (86140, 0.23372462685594536), (254859, 0.2314451964956104), (88320, 0.22883638788621366), (248477, 0.22521727861426766), (217566, 0.22299679977799472), (55955, 0.22103483521538267), (222488, 0.21948151424681905), (224303, 0.21923414208966968), (118533, 0.21726141426821377), (96744, 0.2165444187408128), (185176, 0.21643052549977185), (232106, 0.2158283853817204), (256874, 0.21483776743367686), (101635, 0.2135567913917119), (159506, 0.21099053130398504), (276050, 0.20999055063782718), (227397, 0.2097557556032215), (137742, 0.20963454699569967), (28481, 0.20929603711036224), (66942, 0.20790007088771983), (179734, 0.20760332715832497), (2033, 0.20653575326058132), (136491, 0.2054091237150331), (164581, 0.20351180658239842), (240144, 0.20230713670919706), (4600, 0.2019017860500275), (30735, 0.19816107817060963), (268657, 0.19768214403456535), (43642, 0.19751642679408507), (245346, 0.1950575829961261), (250494, 0.19391688559503048), (213628, 0.19391087413935335), (126388, 0.19266154875493005), (32110, 0.1922427516563288), (238961, 0.1922427516563288), (133935, 0.19092087061357477)]\n",
            "             ISBN                             title\n",
            "33563  0517707918  The 9 Steps to Financial Freedom\n",
            "            ISBN                                   title\n",
            "5528  0553210823  The Canterbury Tales (Bantam Classics)\n",
            "             ISBN                title\n",
            "19721  0836211499  Beyond The Far Side\n",
            "            ISBN          title\n",
            "1175  0380789035  American Gods\n",
            "             ISBN                              title\n",
            "98964  0140315977  The B. F. G.: Dahl (Puffin Books)\n",
            "------------ \n",
            " K =  343\n",
            "Vecinos más cercanos: \n",
            "\n",
            "[(231081, 0.6455288501107681), (161872, 0.488091287030554), (6431, 0.4813180812410763), (79475, 0.4629238275861726), (160434, 0.45889995856888266), (105221, 0.44725368438351837), (108243, 0.4362408087144306), (169192, 0.43375187013131833), (253482, 0.4238120590404857), (175003, 0.42110643684499427), (182847, 0.4136038583290035), (193469, 0.405265614603985), (273089, 0.395229970318331), (271176, 0.39518785961869435), (275401, 0.3885367183512936), (84479, 0.3780261966110119), (208141, 0.3650609455643944), (233526, 0.3598379842447839), (152468, 0.35734243061109117), (212088, 0.35170169242545923), (22252, 0.34019934709003957), (133957, 0.3385104800649453), (116904, 0.3379436491379751), (183088, 0.3373007746866985), (144114, 0.33464895174961823), (50615, 0.32654406778788875), (52350, 0.32596896864893693), (117652, 0.31923475378704885), (240528, 0.31923475378704885), (215986, 0.3188575276589043), (195374, 0.31868789198317554), (232964, 0.3036437430105176), (100227, 0.3002105919077652), (228579, 0.2982648580229572), (85367, 0.2935622072461219), (175254, 0.2926821704963577), (173343, 0.2915534688639556), (170634, 0.29021439150106465), (67198, 0.2888217220752407), (54898, 0.2865529166805476), (229768, 0.282943643161247), (225078, 0.28138757871962067), (276165, 0.28113547138141004), (36003, 0.27899581522169725), (115572, 0.27190839994175525), (201783, 0.27102582561212574), (104880, 0.2700143448931187), (142672, 0.2683605482371877), (149483, 0.2678958542985247), (179978, 0.26725594359638255), (254, 0.2661431362588782), (265498, 0.2593517743352984), (74056, 0.25903645663451197), (169600, 0.25694095718161614), (203075, 0.2543031360106093), (68811, 0.2539496915923951), (88122, 0.2521352435160057), (248775, 0.25087139975024403), (128434, 0.25052829020795875), (35148, 0.2473791686935955), (227161, 0.2460780552143899), (131238, 0.24464652442189871), (174791, 0.24131879096270464), (100004, 0.24082664759706277), (105881, 0.2394260653402866), (155495, 0.2361285328504313), (249958, 0.2356628817995162), (86140, 0.23372462685594536), (254859, 0.2314451964956104), (88320, 0.22883638788621366), (248477, 0.22521727861426766), (217566, 0.22299679977799472), (55955, 0.22103483521538267), (222488, 0.21948151424681905), (224303, 0.21923414208966968), (118533, 0.21726141426821377), (96744, 0.2165444187408128), (185176, 0.21643052549977185), (232106, 0.2158283853817204), (256874, 0.21483776743367686), (101635, 0.2135567913917119), (159506, 0.21099053130398504), (276050, 0.20999055063782718), (227397, 0.2097557556032215), (137742, 0.20963454699569967), (28481, 0.20929603711036224), (66942, 0.20790007088771983), (179734, 0.20760332715832497), (2033, 0.20653575326058132), (136491, 0.2054091237150331), (164581, 0.20351180658239842), (240144, 0.20230713670919706), (4600, 0.2019017860500275), (30735, 0.19816107817060963), (268657, 0.19768214403456535), (43642, 0.19751642679408507), (245346, 0.1950575829961261), (250494, 0.19391688559503048), (213628, 0.19391087413935335), (126388, 0.19266154875493005), (32110, 0.1922427516563288), (238961, 0.1922427516563288), (133935, 0.19092087061357477), (183284, 0.19090555747976765), (101851, 0.19066144857789047), (65487, 0.19043948798917532), (12272, 0.188147054353063), (102505, 0.18738053519016554), (182838, 0.18721331630975785), (240700, 0.18682278787379822), (124717, 0.1843102710336366), (168639, 0.1843102710336366), (85993, 0.18364474660068505), (209486, 0.18098270946479242), (120579, 0.17956954900521496), (88435, 0.17928278867171216), (177284, 0.17827269035735047), (199209, 0.17787599137241925), (111166, 0.17599981696028555), (226965, 0.174350100815228), (242106, 0.1741625244861783), (195904, 0.1738504914376419), (57398, 0.17364506062406265), (115536, 0.17191598294529764), (278356, 0.17179242701652722), (23699, 0.1709488572904084), (124876, 0.17078212231805756), (4896, 0.16929979439493006), (194534, 0.16929979439493006), (261768, 0.16929979439493006), (276077, 0.16732447587480914), (170837, 0.167025080464525), (194803, 0.1666345519905284), (138995, 0.16463395505621253), (68256, 0.16461689625398393), (170513, 0.16354239435811926), (69389, 0.16346575791048326), (75819, 0.16288236546197582), (258614, 0.16263245210274396), (219590, 0.16061188730585615), (28523, 0.15994412723936674), (55492, 0.1581180292729778), (225887, 0.1563680203935625), (29526, 0.15375993836226373), (60707, 0.1517748526599404), (163676, 0.1517639683614383), (78553, 0.15163096278932045), (4802, 0.15159831726419792), (105869, 0.1514263395375206), (208406, 0.1502586193052033), (205735, 0.15019693990980124), (239609, 0.1485214489046462), (132901, 0.14695916666765263), (239423, 0.14692716883883306), (52021, 0.14661792280149177), (183725, 0.14661792280149175), (42798, 0.14555851858884503), (138543, 0.1454913170531354), (93241, 0.14480782498912767), (183061, 0.14472883944923987), (182459, 0.14407421200806253), (166130, 0.14397092081069776), (99025, 0.1435659385153108), (137118, 0.1433406359284151), (38762, 0.14282961599188146), (247918, 0.14278897011285926), (179501, 0.14276612204964992), (198711, 0.14276612204964992), (48213, 0.14233974143975642), (46690, 0.14180853007783661), (162738, 0.14142115981916836), (131154, 0.14122114067129085), (240107, 0.13988123771030522), (264525, 0.13864411103989419), (141070, 0.13847248264585335), (166828, 0.1384589435301689), (48355, 0.1382806003179265), (16777, 0.1379514563851431), (28150, 0.1365057078827408), (14456, 0.13569296420932514), (229334, 0.13567477035949577), (106768, 0.13546222781757938), (201475, 0.13342692973678455), (208815, 0.13301448074460367), (161755, 0.13271388266377576), (171295, 0.13245042638742455), (225379, 0.13135832188713595), (36256, 0.13039413492322538), (97945, 0.1292779237300203), (13082, 0.12841505070217063), (168047, 0.1280100262797476), (123257, 0.12769516270783984), (216099, 0.12766627363874922), (23872, 0.12762203052541155), (92693, 0.1273637037652394), (120090, 0.12653624398199836), (259901, 0.12641101879330094), (6251, 0.12633040439159743), (49225, 0.1261614370549876), (99720, 0.12299925991484287), (51856, 0.12282297998202982), (68760, 0.12256521898442048), (175287, 0.12225499413047188), (18095, 0.12188994806297203), (147141, 0.12169541470916274), (262118, 0.12065939548135232), (138602, 0.12025939422039891), (68436, 0.11965805538473179), (156243, 0.11924812593260635), (169682, 0.11888499260662655), (270326, 0.11853356516062873), (227327, 0.1179098023165984), (243294, 0.11789194404442213), (201829, 0.11781386472991348), (271000, 0.11669195266268992), (119858, 0.11611684558278175), (77526, 0.1159257974260009), (30806, 0.11557074055093346), (177375, 0.11504421963245809), (151263, 0.11466428937500171), (151503, 0.11300787784185894), (229741, 0.11268327484090959), (267830, 0.11209080542433142), (147752, 0.10860586874184575), (263163, 0.10803542792484874), (150896, 0.10795252179580285), (76576, 0.10785942780903288), (45064, 0.10737026688532954), (63360, 0.10735539737339873), (50612, 0.10700773259126341), (45340, 0.10688281079110466), (177374, 0.10649104239078648), (30445, 0.10588348414188091), (109461, 0.10562914647365584), (2179, 0.10451276635275235), (240401, 0.1041783246428785), (211176, 0.10415786120688884), (24186, 0.10360709686232344), (160393, 0.10237928091205557), (100578, 0.10209161728950861), (76223, 0.10126531753775402), (32122, 0.10044989294479885), (73681, 0.10038147981076088), (184532, 0.10037538442203964), (224997, 0.10025944041472643), (230374, 0.10023745021221905), (74185, 0.10005441938983947), (149084, 0.09990792054558675), (238540, 0.09971218484901267), (69721, 0.09884978338741197), (81274, 0.09877965228004708), (234399, 0.0987779709671906), (174179, 0.09808617320742379), (167800, 0.09780643000117886), (274618, 0.09774528186766118), (196052, 0.09750751629569565), (175070, 0.09646968593536857), (126697, 0.09569390161240005), (44727, 0.09541329465184915), (144478, 0.09409629060120721), (91184, 0.09376985465224506), (60050, 0.09344901694640781), (88733, 0.09321830758642845), (82825, 0.09215513551681827), (113944, 0.09199626679909438), (110112, 0.09194255129938772), (25919, 0.09147165165382638), (211426, 0.09050617939351605), (187624, 0.09046583185648806), (131046, 0.09012337321964668), (162639, 0.08994624904508043), (43806, 0.08979178976022671), (43436, 0.08901539635503361), (102702, 0.08838211246125932), (33580, 0.08823488862736265), (164728, 0.08800335355367642), (243058, 0.08798899308584623), (19336, 0.08703294928282017), (33816, 0.08699964687289827), (10560, 0.08693070224848443), (70014, 0.08679188087972345), (57105, 0.0864313975864409), (259057, 0.08626744686926748), (90174, 0.0852569587477622), (26057, 0.0842721772734194), (25409, 0.0829506827936133), (141511, 0.08285874469386262), (242409, 0.08284130625429376), (103541, 0.08259618520228397), (172119, 0.082538432680602), (103577, 0.08172283784212724), (180591, 0.08148905563221559), (276313, 0.08089951838565342), (151991, 0.08058184218618317), (223190, 0.08042223787001627), (155913, 0.08002854750917779), (97290, 0.07953575260215474), (100906, 0.07941359592969899), (94787, 0.07929034573119158), (48579, 0.0789364361536844), (123608, 0.07840476548846503), (244657, 0.07696734267202716), (273976, 0.07682861844003662), (86392, 0.0767584756854176), (110265, 0.07673796517136734), (74665, 0.07632815719520938), (274393, 0.07563294877496421), (69697, 0.07532913313103365), (105054, 0.07530713518052094), (22818, 0.0751932186017869), (205980, 0.07513878991669468), (220688, 0.07507091998150392), (223431, 0.07505694467113132), (276463, 0.07493278090593122), (272786, 0.07455717562886435), (90653, 0.07445796443970237), (96054, 0.07438605909754095), (98783, 0.07410082884845068), (110934, 0.07370471794592398), (179019, 0.07367827840512756), (102647, 0.07347241525227496), (213638, 0.07334478303073641), (266650, 0.07318201938100273), (114446, 0.0730837763536832), (104362, 0.0728655742357662), (168954, 0.07270372293852831), (131594, 0.07255335313342016), (142623, 0.07224181622704123), (54335, 0.07212618261601282), (25850, 0.0718677572307499), (175636, 0.07186376046978521), (28016, 0.07138306102482496), (9613, 0.07113437308813317), (207494, 0.07110619807123178), (126814, 0.07091188055529693), (240403, 0.0694481076809009), (39616, 0.06923665869408903), (81492, 0.06918376579812877), (232131, 0.06877277801047163), (201290, 0.06854748310258577), (260067, 0.06763542624938985), (169249, 0.06725485929623887), (151370, 0.06702643045582676)]\n",
            "             ISBN                                             title\n",
            "61373  0373226314  In His Wife'S Name (Harlequin Intrigue, No. 631)\n",
            "            ISBN                       title\n",
            "2443  0553348973  Still Life with Woodpecker\n",
            "            ISBN                                       title\n",
            "6218  0821221817  The National Parks : A Postcard Folio Book\n",
            "             ISBN                title\n",
            "19721  0836211499  Beyond The Far Side\n",
            "           ISBN                      title\n",
            "204  0316602906  The Big Bad Wolf: A Novel\n",
            "------------ \n",
            " K =  380\n",
            "Vecinos más cercanos: \n",
            "\n",
            "[(231081, 0.6455288501107681), (161872, 0.488091287030554), (6431, 0.4813180812410763), (79475, 0.4629238275861726), (160434, 0.45889995856888266), (105221, 0.44725368438351837), (108243, 0.4362408087144306), (169192, 0.43375187013131833), (253482, 0.4238120590404857), (175003, 0.42110643684499427), (182847, 0.4136038583290035), (193469, 0.405265614603985), (273089, 0.395229970318331), (271176, 0.39518785961869435), (275401, 0.3885367183512936), (84479, 0.3780261966110119), (208141, 0.3650609455643944), (233526, 0.3598379842447839), (152468, 0.35734243061109117), (212088, 0.35170169242545923), (22252, 0.34019934709003957), (133957, 0.3385104800649453), (116904, 0.3379436491379751), (183088, 0.3373007746866985), (144114, 0.33464895174961823), (50615, 0.32654406778788875), (52350, 0.32596896864893693), (117652, 0.31923475378704885), (240528, 0.31923475378704885), (215986, 0.3188575276589043), (195374, 0.31868789198317554), (232964, 0.3036437430105176), (100227, 0.3002105919077652), (228579, 0.2982648580229572), (85367, 0.2935622072461219), (175254, 0.2926821704963577), (173343, 0.2915534688639556), (170634, 0.29021439150106465), (67198, 0.2888217220752407), (54898, 0.2865529166805476), (229768, 0.282943643161247), (225078, 0.28138757871962067), (276165, 0.28113547138141004), (36003, 0.27899581522169725), (115572, 0.27190839994175525), (201783, 0.27102582561212574), (104880, 0.2700143448931187), (142672, 0.2683605482371877), (149483, 0.2678958542985247), (179978, 0.26725594359638255), (254, 0.2661431362588782), (265498, 0.2593517743352984), (74056, 0.25903645663451197), (169600, 0.25694095718161614), (203075, 0.2543031360106093), (68811, 0.2539496915923951), (88122, 0.2521352435160057), (248775, 0.25087139975024403), (128434, 0.25052829020795875), (35148, 0.2473791686935955), (227161, 0.2460780552143899), (131238, 0.24464652442189871), (174791, 0.24131879096270464), (100004, 0.24082664759706277), (105881, 0.2394260653402866), (155495, 0.2361285328504313), (249958, 0.2356628817995162), (86140, 0.23372462685594536), (254859, 0.2314451964956104), (88320, 0.22883638788621366), (248477, 0.22521727861426766), (217566, 0.22299679977799472), (55955, 0.22103483521538267), (222488, 0.21948151424681905), (224303, 0.21923414208966968), (118533, 0.21726141426821377), (96744, 0.2165444187408128), (185176, 0.21643052549977185), (232106, 0.2158283853817204), (256874, 0.21483776743367686), (101635, 0.2135567913917119), (159506, 0.21099053130398504), (276050, 0.20999055063782718), (227397, 0.2097557556032215), (137742, 0.20963454699569967), (28481, 0.20929603711036224), (66942, 0.20790007088771983), (179734, 0.20760332715832497), (2033, 0.20653575326058132), (136491, 0.2054091237150331), (164581, 0.20351180658239842), (240144, 0.20230713670919706), (4600, 0.2019017860500275), (30735, 0.19816107817060963), (268657, 0.19768214403456535), (43642, 0.19751642679408507), (245346, 0.1950575829961261), (250494, 0.19391688559503048), (213628, 0.19391087413935335), (126388, 0.19266154875493005), (32110, 0.1922427516563288), (238961, 0.1922427516563288), (133935, 0.19092087061357477), (183284, 0.19090555747976765), (101851, 0.19066144857789047), (65487, 0.19043948798917532), (12272, 0.188147054353063), (102505, 0.18738053519016554), (182838, 0.18721331630975785), (240700, 0.18682278787379822), (124717, 0.1843102710336366), (168639, 0.1843102710336366), (85993, 0.18364474660068505), (209486, 0.18098270946479242), (120579, 0.17956954900521496), (88435, 0.17928278867171216), (177284, 0.17827269035735047), (199209, 0.17787599137241925), (111166, 0.17599981696028555), (226965, 0.174350100815228), (242106, 0.1741625244861783), (195904, 0.1738504914376419), (57398, 0.17364506062406265), (115536, 0.17191598294529764), (278356, 0.17179242701652722), (23699, 0.1709488572904084), (124876, 0.17078212231805756), (4896, 0.16929979439493006), (194534, 0.16929979439493006), (261768, 0.16929979439493006), (276077, 0.16732447587480914), (170837, 0.167025080464525), (194803, 0.1666345519905284), (138995, 0.16463395505621253), (68256, 0.16461689625398393), (170513, 0.16354239435811926), (69389, 0.16346575791048326), (75819, 0.16288236546197582), (258614, 0.16263245210274396), (219590, 0.16061188730585615), (28523, 0.15994412723936674), (55492, 0.1581180292729778), (225887, 0.1563680203935625), (29526, 0.15375993836226373), (60707, 0.1517748526599404), (163676, 0.1517639683614383), (78553, 0.15163096278932045), (4802, 0.15159831726419792), (105869, 0.1514263395375206), (208406, 0.1502586193052033), (205735, 0.15019693990980124), (239609, 0.1485214489046462), (132901, 0.14695916666765263), (239423, 0.14692716883883306), (52021, 0.14661792280149177), (183725, 0.14661792280149175), (42798, 0.14555851858884503), (138543, 0.1454913170531354), (93241, 0.14480782498912767), (183061, 0.14472883944923987), (182459, 0.14407421200806253), (166130, 0.14397092081069776), (99025, 0.1435659385153108), (137118, 0.1433406359284151), (38762, 0.14282961599188146), (247918, 0.14278897011285926), (179501, 0.14276612204964992), (198711, 0.14276612204964992), (48213, 0.14233974143975642), (46690, 0.14180853007783661), (162738, 0.14142115981916836), (131154, 0.14122114067129085), (240107, 0.13988123771030522), (264525, 0.13864411103989419), (141070, 0.13847248264585335), (166828, 0.1384589435301689), (48355, 0.1382806003179265), (16777, 0.1379514563851431), (28150, 0.1365057078827408), (14456, 0.13569296420932514), (229334, 0.13567477035949577), (106768, 0.13546222781757938), (201475, 0.13342692973678455), (208815, 0.13301448074460367), (161755, 0.13271388266377576), (171295, 0.13245042638742455), (225379, 0.13135832188713595), (36256, 0.13039413492322538), (97945, 0.1292779237300203), (13082, 0.12841505070217063), (168047, 0.1280100262797476), (123257, 0.12769516270783984), (216099, 0.12766627363874922), (23872, 0.12762203052541155), (92693, 0.1273637037652394), (120090, 0.12653624398199836), (259901, 0.12641101879330094), (6251, 0.12633040439159743), (49225, 0.1261614370549876), (99720, 0.12299925991484287), (51856, 0.12282297998202982), (68760, 0.12256521898442048), (175287, 0.12225499413047188), (18095, 0.12188994806297203), (147141, 0.12169541470916274), (262118, 0.12065939548135232), (138602, 0.12025939422039891), (68436, 0.11965805538473179), (156243, 0.11924812593260635), (169682, 0.11888499260662655), (270326, 0.11853356516062873), (227327, 0.1179098023165984), (243294, 0.11789194404442213), (201829, 0.11781386472991348), (271000, 0.11669195266268992), (119858, 0.11611684558278175), (77526, 0.1159257974260009), (30806, 0.11557074055093346), (177375, 0.11504421963245809), (151263, 0.11466428937500171), (151503, 0.11300787784185894), (229741, 0.11268327484090959), (267830, 0.11209080542433142), (147752, 0.10860586874184575), (263163, 0.10803542792484874), (150896, 0.10795252179580285), (76576, 0.10785942780903288), (45064, 0.10737026688532954), (63360, 0.10735539737339873), (50612, 0.10700773259126341), (45340, 0.10688281079110466), (177374, 0.10649104239078648), (30445, 0.10588348414188091), (109461, 0.10562914647365584), (2179, 0.10451276635275235), (240401, 0.1041783246428785), (211176, 0.10415786120688884), (24186, 0.10360709686232344), (160393, 0.10237928091205557), (100578, 0.10209161728950861), (76223, 0.10126531753775402), (32122, 0.10044989294479885), (73681, 0.10038147981076088), (184532, 0.10037538442203964), (224997, 0.10025944041472643), (230374, 0.10023745021221905), (74185, 0.10005441938983947), (149084, 0.09990792054558675), (238540, 0.09971218484901267), (69721, 0.09884978338741197), (81274, 0.09877965228004708), (234399, 0.0987779709671906), (174179, 0.09808617320742379), (167800, 0.09780643000117886), (274618, 0.09774528186766118), (196052, 0.09750751629569565), (175070, 0.09646968593536857), (126697, 0.09569390161240005), (44727, 0.09541329465184915), (144478, 0.09409629060120721), (91184, 0.09376985465224506), (60050, 0.09344901694640781), (88733, 0.09321830758642845), (82825, 0.09215513551681827), (113944, 0.09199626679909438), (110112, 0.09194255129938772), (25919, 0.09147165165382638), (211426, 0.09050617939351605), (187624, 0.09046583185648806), (131046, 0.09012337321964668), (162639, 0.08994624904508043), (43806, 0.08979178976022671), (43436, 0.08901539635503361), (102702, 0.08838211246125932), (33580, 0.08823488862736265), (164728, 0.08800335355367642), (243058, 0.08798899308584623), (19336, 0.08703294928282017), (33816, 0.08699964687289827), (10560, 0.08693070224848443), (70014, 0.08679188087972345), (57105, 0.0864313975864409), (259057, 0.08626744686926748), (90174, 0.0852569587477622), (26057, 0.0842721772734194), (25409, 0.0829506827936133), (141511, 0.08285874469386262), (242409, 0.08284130625429376), (103541, 0.08259618520228397), (172119, 0.082538432680602), (103577, 0.08172283784212724), (180591, 0.08148905563221559), (276313, 0.08089951838565342), (151991, 0.08058184218618317), (223190, 0.08042223787001627), (155913, 0.08002854750917779), (97290, 0.07953575260215474), (100906, 0.07941359592969899), (94787, 0.07929034573119158), (48579, 0.0789364361536844), (123608, 0.07840476548846503), (244657, 0.07696734267202716), (273976, 0.07682861844003662), (86392, 0.0767584756854176), (110265, 0.07673796517136734), (74665, 0.07632815719520938), (274393, 0.07563294877496421), (69697, 0.07532913313103365), (105054, 0.07530713518052094), (22818, 0.0751932186017869), (205980, 0.07513878991669468), (220688, 0.07507091998150392), (223431, 0.07505694467113132), (276463, 0.07493278090593122), (272786, 0.07455717562886435), (90653, 0.07445796443970237), (96054, 0.07438605909754095), (98783, 0.07410082884845068), (110934, 0.07370471794592398), (179019, 0.07367827840512756), (102647, 0.07347241525227496), (213638, 0.07334478303073641), (266650, 0.07318201938100273), (114446, 0.0730837763536832), (104362, 0.0728655742357662), (168954, 0.07270372293852831), (131594, 0.07255335313342016), (142623, 0.07224181622704123), (54335, 0.07212618261601282), (25850, 0.0718677572307499), (175636, 0.07186376046978521), (28016, 0.07138306102482496), (9613, 0.07113437308813317), (207494, 0.07110619807123178), (126814, 0.07091188055529693), (240403, 0.0694481076809009), (39616, 0.06923665869408903), (81492, 0.06918376579812877), (232131, 0.06877277801047163), (201290, 0.06854748310258577), (260067, 0.06763542624938985), (169249, 0.06725485929623887), (151370, 0.06702643045582676), (151589, 0.06692979034992365), (40415, 0.06638856023149052), (126693, 0.06624895885144798), (247429, 0.0661890668613963), (271306, 0.06610046444405943), (69156, 0.06589693054419798), (245655, 0.06558626174463579), (124597, 0.06533388368287983), (153054, 0.0648970026589374), (189835, 0.06470316208044283), (87712, 0.06422051625164335), (246247, 0.06419662549499335), (148028, 0.06408279090241341), (219301, 0.0637077421646525), (206202, 0.06367041344769228), (153662, 0.06221913343036838), (104812, 0.062209576786902206), (155014, 0.06180409515449992), (231354, 0.06143675701121217), (207246, 0.06135294011238012), (130554, 0.06122453959984488), (254201, 0.06063809210619412), (156150, 0.06041057470849514), (249862, 0.06035125561084453), (21576, 0.05997376721401108), (182202, 0.0599127108550385), (190708, 0.05953758857276716), (72990, 0.05950884727803276), (205473, 0.059121063734361406), (13273, 0.05853022549651742), (204359, 0.05845265061087443), (76483, 0.058154935347485996), (260897, 0.05806935040729633), (6563, 0.05759695969801143), (61901, 0.056964215849763036), (143163, 0.05674443915673646), (87555, 0.05623919256860504)]\n",
            "            ISBN                                               title\n",
            "5872  0312099045  Route 66 Postcards: Greetings from the Mother Road\n",
            "            ISBN                 title\n",
            "1308  0345368940  The Dolphins of Pern\n",
            "            ISBN         title\n",
            "6232  0345384911  Crystal Line\n",
            "             ISBN                                     title\n",
            "69788  0345388216  Dragonseye (Dragonriders of Pern Series)\n",
            "             ISBN                title\n",
            "49696  0671737619  A Kingdom of Dreams\n"
          ],
          "name": "stdout"
        }
      ]
    },
    {
      "cell_type": "markdown",
      "metadata": {
        "id": "ArH-5ehgQ27F"
      },
      "source": [
        "### Conclusiones\n",
        "\n",
        "\n",
        "\n",
        "a.   Para el dataset de películas se obtuvieron las siguientes recomendaciones :\n",
        "      \n",
        "* Midnight Cowboy (1969)\n",
        "* Dune (1984)\n",
        "* Dune (2000)\n",
        "* Once (2006)\n",
        "* Shadow of the Vampire (2000)\n",
        "\n",
        "Por otro lado, para el dataset de libros se obtuvieron las siguientes recomendaciones:\n",
        "* The Pilgrimage\n",
        "* My Uncle Oswald\n",
        "* Brave New World\n",
        "* One Flew over the Cuckoo's Nest\n",
        "* The Autobiography of Malcolm X\n",
        "\n",
        "Respecto a las recomendaciones de peliculas, no se obtuvo el resultado esperado, ya que ninguna película de super-héroes aparece en la recomendación. Luego de investigar un poco, las recomendaciones que más sentido podrían tener serían las de Dune, que están relacionadas por el género de ciencia ficción. Tal vez se debió calificar películas con un caracter un poco más acotado y enfocarse sólo en películas de Batman actuales por ejemplo, ya que muchas de las películas recomendadas son muy antiguas. Para las recomendaciones de libros, sólo *The Pilgrimage* guarda cierta relación con la temática de los libros seleccionados. Sin embargo, estos resultados pueden no ser del todo malos, ya que un buen sistema de recomendación buscaría diversificar los ítems que le ofrece a sus usuarios, ofreciendo cosas que no le podrían llamar la atención en primera instancia. \n",
        "\n",
        "Considerando la experimentación adicional, para el dataset de películas se obtuvo:\n",
        "\n",
        "* Thing, The (1982)  \n",
        "* Princess Mononoke (Mononoke-hime)\n",
        "* Donnie Darko (2001)  \n",
        "* My Neighbor Totoro (Tonari no Totoro) (1988)  \n",
        "* Howl's Moving Castle (Hauru no ugoku shiro)\n",
        "\n",
        "Por otro lado, para el dataset de libros se encontraron las siguientes recomendaciones:\n",
        "\n",
        "* The 9 Steps to Financial Freedom\n",
        "* Don't Sweat the Small Stuff and It's All Small Stuff : Simple Ways to Keep the Little Things from Taking Over Your Life (Don't Sweat the Small Stuff Series)\n",
        "* Chicken Soup for the Soul (Chicken Soup for the Soul)\n",
        "* Chicken Soup for the Kid's Soul : 101 Stories of Courage, Hope and Laughter (Chicken Soup for the Soul (Paperback Health Communications))\n",
        "* The Canterbury Tales (Bantam Classics)\n",
        "\n",
        "En este caso se puede observar una tendencia respecto a películas del estudio Ghibli, mientras que para los libros no se puede evidenciar ningún patrón. A pesar de haber procesado de manera distinta la matriz de usuarios-ítems, usada para obtener las similaridades entre estos, se tienen resultados que no son muy buenos.\n",
        "\n",
        "b.   Se escogieron 24 vecinos cercanos para la recomendación de películas y los 103 vecinos más cercanos para la recomendación de libros, básandonos en la regla de que un buen valor para knn corresponde a $\\sqrt(n)$, siendo $n$ la cantidad de usuarios. Lamentablemente, al ser una matriz demasiado *sparse* y un usuario demasiado nuevo, ocurrió en múltiples ocasiones que el valor para la similaridad del coseno corresponde a un valor igual a 1, debido a que podría ocurrir que la intersección entre las películas que vieron los usuarios serían pocas (por ejemplo 1) y se diese la coincidencia de que las calificasen con el mismo valor, dando como resultado dicho valor para la similaridad, siendo poco informativo para el uso que le queremos dar. Lo anterior está relacionado con el problema del *cold start*, ya que el usuario al tener una baja interacción con los ítems es difícil que genere una buena inferencia y pueda comparar efectivamente la similitud respecto a otros usuarios. Sería bueno tratar de agregar data temporal a este usuario para poder realizar una mejor recomendación, en base a, por ejemplo, los ítems más vistos, o en base a los usuarios que han visto todos los ítems que este vió, intentando esquivar el problema de la similaridad igual a uno. Otra alternativa, pero que complejizaría el problema, sería el hecho de agregar nuevas características del usuario, para ayudar a la inferencia, como geolocalización, lengua prefente, etc. para ayudar a mitigar el problema de *cold start*. \n",
        "\n",
        "A medida que se aumenta el parámetro para **k**, naturalmente varíaban los ratings para los ítems y las recomendaciones finales, pero al tener el problema de que una gran cantidad de usuarios tenía el valor de la similaridad de coseno igual a uno, no es del todo correcto confiar en las recomendaciones dadas para los **k** que son menores al número de usuarios con este valor. Lo anterior viene dado  a que uno podría elegir otro conjunto de los 10 primeros usuarios, ignorando el orden dado por la ejecución de python, que también tendrían la similaridad de coseno igual a uno y obtener un resultado completamente distinto. Para los dos últimos valores de **k** en cada dataset se encontró cierta repetición de las recomendaciones, lo que puede estar dado por el hecho de que, al tener tantos usuarios a considerar, se comiencen a recomendar los ítems más polulares y mejor calificados, ignorando lo que ha visto el usuario objetivo. Cabe destacar que para *k = 20* y *k = 50* con el dataset de libros, se recomendó un libro de Harry Potter.\n",
        "\n",
        "En la experimentación adicional las distancias coseno a los vecinos más cercanos cambiaron radicalmente, siendo mayor a 80 en el caso de las películas y teniendo sólo 10 usuarios con similaridad mayor a 0.1 respecto al usuario objetivo. Mientras que para el dataset de películas, si bien se presenta una reducción en los valores de las similaridades, se presentan valores mayores, siendo 20 la cantidad de usuarios con similaridad mayor a 0.35. Por esta reducción en los valores de la similaridad se decidió escoger valores más pequeños para **k** en ambos casos, ya que ahora esta sería una medida más informativa. Para el dataset de películas se escogió  *K = 5* y para el de libros *K = 20*, intentando mantener valores \"altos\" (en comparación a todos los demás) para la similaridad. Para el primer dataset, al escoger valores mayores nuevamente ocurre cierta repetición entre las recomendaciones, sin embargo, para el dataset de libros esto no es así, lo que puede estar dado porque la proporción de usuarios tomados es menor, teniendo que considerar más usuarios aún para evidenciar dicho efecto. \n",
        "\n",
        "c. El porcentaje de *sparsity* para la matriz usuarios-ítems para el caso del dataset de películas es de 98.300% si no contamos al usuario nuevo y 98.302% en el caso de contarlo. Para el dataset de libros es 99.690% en ambos casos, debido a que la cantidad de usuarios y libros es considerablemente mayor a las que el dataset de películas posee, por lo que la adición del nuevo usuario no se refleja en el porcentaje a pesar de dar 3 decimales de precisión. Las desventajas de UBCF al tener una matriz con una gran cantidad de *missing values* corresponden a que, por un lado, la función de similaridad entre usuarios usada se ve afectada negativamente por el porcentaje de *sparsity* de la matriz (lo que, sin embargo, puede ser mitigado al seleccionar un valor de k grande), además, es injusto el considerar a dos usuarios similares cuando uno ha visto un número reducido de ítems y el otro ha visto una gran cantidad, por lo que ha ocurrido una intersección entre estos y se ha calculado la similaridad en base a lo que ha visto el usuario con poca data. Además, si esta intersección coincide en los ratings dados, provocaría que la similaridad de coseno sea igual a uno lo que no tiene mucho sentido, ya que el primer usuario sólo ha puntuado una porción de lo que el otro ha puntuado.\n",
        "\n",
        "En la experimentación adicional, el porcentaje de *sparsity* de la matriz también juega en contra, ya que las similaridades de coseno son bastante bajas si lo que uno desea es recuperar usuarios que sean similares entre sí, descartándo prácticamente a la totalidad de los usuarios en el caso de que se busque considerar usuarios con una similaridad mayor a 0.5. En este caso, la similaridad de coseno se ve afectada por la gran cantidad de ceros al momento de obtener los vectores, ya que la intersección entre estos será muy pequeña y como en esta métrica se divide el producto punto entre ambos vectores por la multiplicación de la norma de ambos, estas normas podrían llegar a ser demasiado grandes en comparación al producto punto.\n",
        "\n",
        "Como comentario adicional, se pudo pensar en construir otro usuario en base a los ítems que han sido mas calificados por los usuarios, ya que tal vez, para estos datasets en específico, los ítems que hemos elegido no han sido lo suficientemente calificados y al utilizar ítems más vistos tendríamos más información de ratings. También, se pensó en evitar incluir usuarios que coinciden con menos de un número determinado de ítems vistos con el usuario objetivo, intentando así, calcular similaridades con más ítems como input."
      ]
    },
    {
      "cell_type": "markdown",
      "metadata": {
        "id": "UG3_n5bAvbp9"
      },
      "source": [
        "## 2. Item based Collaborative Filtering (40 puntos) "
      ]
    },
    {
      "cell_type": "markdown",
      "metadata": {
        "id": "mc-zyC_Jvbp9"
      },
      "source": [
        "La segunda parte de la tarea constará de las siguientes secciones: \n",
        "1. Implementación de un sistema de recomendación de filtro colaborativo basado en ítems utilizando los k ítems más cercanos. Para esta parte, se debe utilizar <b> similaridad coseno </b> como medida de similaridad entre los ítems. Además, el parámetro k debe ser escogido por ustedes. \n",
        "\n",
        "2. Se ingresa nuevo usuario al sistema, se le pide que califique 10 productos (a elección) y a partir de eso se le realiza la recomendación de 5 productos que no ha calificado. Para poder llevar a cabo la recomendación recordar los siguientes pasos:\n",
        "    >a. Se debe generar la matriz de similaridad entre productos basada en la similaridad coseno.\n",
        "    \n",
        "    >b. Para realizar la recomendación, se debe predecir el rating de todos los productos que el usuario nuevo del sistema no haya calificado aún. Para esto, se deben obtener los k ítems más cercanos al ítem a predecir y se debe predecir su rating en base a la <i> weighted sum </i> de los ratings de dichos k ítems. \n",
        "    \n",
        "    >c. Una vez predecidos los ratings para todos los productos sin calificación, se deben recomendar al usuario los 5 productos con mayor rating predecido. \n",
        "\n",
        "3. Concluir y responder las siguientes preguntas: \n",
        "\n",
        "   >a. ¿Cuáles fueron las 5 recomendaciones obtenidas? Analice y concluya respecto a estos resultados.  \n",
        "    \n",
        "   >b. ¿Qué cantidad de vecinos cercanos (k) se escogió para la recomendación? ¿En qué influye la elección de este parámetro? ¿Qué sucede a medida que aumento este parámetro?\n",
        "    \n",
        "   >c. ¿Cuáles son las ventajas de este enfoque respecto al anterior? \n",
        "\n",
        "\n",
        "<i>Importante: Esto debe ser realizado para ambos datasets escogidos</i>"
      ]
    },
    {
      "cell_type": "code",
      "metadata": {
        "id": "cbGpFIMK9O8V"
      },
      "source": [
        "#Obtención de similaridad coseno para un item con los demás\n",
        "def getCosSimItems(matrix, item, otherItems):\n",
        "  item1 = matrix[matrix.index == item].to_numpy()[0]\n",
        "  dicSims = dict()\n",
        "  \n",
        "  for index, row in otherItems.iterrows():\n",
        "    item2 = matrix[matrix.index == index].to_numpy()[0]\n",
        "    item1NotNan = np.array([])\n",
        "    item2NotNan = np.array([])\n",
        "    for i in range(len(item1)):\n",
        "      if not np.isnan(item1[i]) and not np.isnan(item2[i]):\n",
        "        item1NotNan = np.append(item1NotNan, item1[i])\n",
        "        item2NotNan = np.append(item2NotNan, item2[i])\n",
        "    #Solo si la intersección entre estos no es vacia se calcula el coseno\n",
        "    if item1NotNan.size > 0:\n",
        "      norma = np.linalg.norm(item1NotNan) * np.linalg.norm(item2NotNan)\n",
        "      #Evitar que el denominador de la similaridad sea cero\n",
        "      if norma > 0:\n",
        "        cosineSim = np.sum(item1NotNan*item2NotNan) / norma\n",
        "        dicSims[index] = cosineSim\n",
        "  return dicSims\n",
        "\n",
        "\n",
        "#Obtencion de los ratings para peliculas/libros no vistas/os por un usuario dado\n",
        "def estimateRatingItems(matrix, matrixAdjusted, moviesToCheck, user, otherItems, kneighs):\n",
        "  listDicRating = []\n",
        "  for i in kneighs:\n",
        "    listDicRating.append({})\n",
        "  for movieId in moviesToCheck:\n",
        "    #Dicionario con los valores de similaridad que son utiles para posteriormente\n",
        "    #calcular el rating\n",
        "    cosenoDic = getCosSimItems(matrixAdjusted, movieId, otherItems)\n",
        "    cosenoDic = sorted(cosenoDic.items(), key=operator.itemgetter(1), reverse=True)\n",
        "    for i in range(len(kneighs)):\n",
        "      neighbor = kneighs[i]\n",
        "      cosenoDicNeighbor = cosenoDic[:neighbor]\n",
        "      numerador = 0\n",
        "      denominador = 0\n",
        "      for itemId, similitud in cosenoDicNeighbor:\n",
        "        value = matrix.loc[itemId, user]\n",
        "        if not np.isnan(value):\n",
        "          numerador += similitud * value\n",
        "          denominador += abs(similitud)\n",
        "      if denominador != 0:\n",
        "        ratingEstimado = numerador/denominador  \n",
        "        listDicRating[i][movieId] = ratingEstimado\n",
        "  return listDicRating"
      ],
      "execution_count": null,
      "outputs": []
    },
    {
      "cell_type": "markdown",
      "metadata": {
        "id": "c1kurTWaXlgZ"
      },
      "source": [
        "### Movies Dataset"
      ]
    },
    {
      "cell_type": "code",
      "metadata": {
        "id": "TQRr1R-B-pK2"
      },
      "source": [
        "user_item_matrix_og = movies.pivot(index = 'user_id', columns ='movie_id', values = 'rating')\n",
        "user_item_matrix_new = moviesNewUser.pivot(index = 'user_id', columns ='movie_id', values = 'rating')\n",
        "#Matrices pivot a usar, se cambia la orientación\n",
        "#Ahora las filas corresponden a las películas\n",
        "item_user_matrix_og = movies.pivot(index = 'movie_id', columns ='user_id', values = 'rating')\n",
        "item_user_matrix_new = moviesNewUser.pivot(index = 'movie_id', columns ='user_id', values = 'rating')"
      ],
      "execution_count": null,
      "outputs": []
    },
    {
      "cell_type": "code",
      "metadata": {
        "id": "8GSnR7t7EdRR"
      },
      "source": [
        "#Rating promedio\n",
        "rating_mean= moviesNewUser.groupby(['movie_id'], as_index = False, sort = False).mean().rename(columns = {'rating': 'rating_mean'})[['movie_id','rating_mean']]\n",
        "#Mean centered ratings\n",
        "adjusted_ratings = pd.merge(moviesNewUser,rating_mean,on = 'movie_id', how = 'left', sort = False)\n",
        "adjusted_ratings['rating_adjusted']=adjusted_ratings['rating']-adjusted_ratings['rating_mean']\n",
        "#Pivoteo para dejar la matriz usuarios-items con los mean centered ratings\n",
        "adjusted_ratings = adjusted_ratings.pivot(index = 'movie_id', columns ='user_id', values = 'rating_adjusted')\n"
      ],
      "execution_count": null,
      "outputs": []
    },
    {
      "cell_type": "code",
      "metadata": {
        "id": "3oAbWnEfBfJG"
      },
      "source": [
        "item1 = user_item_matrix_new[user_item_matrix_new.index == 777]\n",
        "moviesToCheck = list(item1.columns[np.isnan(item1.iloc[0])])\n",
        "\n",
        "#Dado que el usuario solo tiene 10 ratings, solo ciertos valores nos\n",
        "#serviran para estimar el rating\n",
        "moviesQualified = item_user_matrix_new.loc[userMovies]"
      ],
      "execution_count": null,
      "outputs": []
    },
    {
      "cell_type": "code",
      "metadata": {
        "id": "QdC05BbZ1qh0"
      },
      "source": [
        "ratingsTotales = estimateRatingItems(item_user_matrix_new, adjusted_ratings, moviesToCheck, 777, moviesQualified, [3, 6, 10])\n",
        "\n",
        "for i in range(len(ratingsTotales)):\n",
        "  ratingsTotales[i] = sorted(ratingsTotales[i].items(), key=operator.itemgetter(1), reverse=True)[:5]"
      ],
      "execution_count": null,
      "outputs": []
    },
    {
      "cell_type": "code",
      "metadata": {
        "colab": {
          "base_uri": "https://localhost:8080/"
        },
        "id": "91TxVht9VBWz",
        "outputId": "4b4f87f9-adee-4993-dbec-6c16667bd1eb"
      },
      "source": [
        "kPrueba = [3, 6, 10]\n",
        "for rating in range(len(ratingsTotales)):\n",
        "  print(\"------------ \\n K = \", kPrueba[rating])\n",
        "  for movieId, sim in ratingsTotales[rating]:\n",
        "    print(moviesIds[moviesIds[\"movie_id\"] == movieId].to_string())"
      ],
      "execution_count": null,
      "outputs": [
        {
          "output_type": "stream",
          "text": [
            "------------ \n",
            " K =  3\n",
            "      movie_id                 title           genres\n",
            "9566    173925  Seven Sisters (2017)  Sci-Fi|Thriller\n",
            "      movie_id             title genres\n",
            "1221      1621  Soul Food (1997)  Drama\n",
            "      movie_id                  title genres\n",
            "1690      2272  One True Thing (1998)  Drama\n",
            "      movie_id                                title         genres\n",
            "1977      2624  After Life (Wandafuru raifu) (1998)  Drama|Fantasy\n",
            "      movie_id                                title         genres\n",
            "2053      2732  Jules and Jim (Jules et Jim) (1961)  Drama|Romance\n",
            "------------ \n",
            " K =  6\n",
            "      movie_id             title genres\n",
            "1221      1621  Soul Food (1997)  Drama\n",
            "      movie_id                  title genres\n",
            "1690      2272  One True Thing (1998)  Drama\n",
            "      movie_id                                title         genres\n",
            "1977      2624  After Life (Wandafuru raifu) (1998)  Drama|Fantasy\n",
            "      movie_id                                title         genres\n",
            "2053      2732  Jules and Jim (Jules et Jim) (1961)  Drama|Romance\n",
            "      movie_id                 title          genres\n",
            "2374      3150  War Zone, The (1999)  Drama|Thriller\n",
            "------------ \n",
            " K =  10\n",
            "      movie_id             title genres\n",
            "1221      1621  Soul Food (1997)  Drama\n",
            "      movie_id                  title genres\n",
            "1690      2272  One True Thing (1998)  Drama\n",
            "      movie_id                                title         genres\n",
            "1977      2624  After Life (Wandafuru raifu) (1998)  Drama|Fantasy\n",
            "      movie_id                                title         genres\n",
            "2053      2732  Jules and Jim (Jules et Jim) (1961)  Drama|Romance\n",
            "      movie_id                 title          genres\n",
            "2374      3150  War Zone, The (1999)  Drama|Thriller\n"
          ],
          "name": "stdout"
        }
      ]
    },
    {
      "cell_type": "markdown",
      "metadata": {
        "id": "ESXoGzV4XOhm"
      },
      "source": [
        "### Books Dataset"
      ]
    },
    {
      "cell_type": "code",
      "metadata": {
        "id": "SYUv9zytXvSO"
      },
      "source": [
        "user_item_matrix_og = books.pivot(index = 'user_id', columns ='ISBN', values = 'rating')\n",
        "user_item_matrix_new = booksNewUser.pivot(index = 'user_id', columns ='ISBN', values = 'rating')\n",
        "#Matrices pivot a usar, se cambia la orientación\n",
        "#Ahora las filas corresponden a las películas\n",
        "item_user_matrix_og = books.pivot(index = 'ISBN', columns ='user_id', values = 'rating')\n",
        "item_user_matrix_new = booksNewUser.pivot(index = 'ISBN', columns ='user_id', values = 'rating')"
      ],
      "execution_count": null,
      "outputs": []
    },
    {
      "cell_type": "code",
      "metadata": {
        "id": "7zQT117v3DSP"
      },
      "source": [
        "#Rating promedio\n",
        "rating_mean= booksNewUser.groupby(['ISBN'], as_index = False, sort = False).mean().rename(columns = {'rating': 'rating_mean'})[['ISBN','rating_mean']]\n",
        "#Mean centered ratings\n",
        "adjusted_ratings = pd.merge(booksNewUser,rating_mean,on = 'ISBN', how = 'left', sort = False)\n",
        "adjusted_ratings['rating_adjusted']=adjusted_ratings['rating']-adjusted_ratings['rating_mean']\n",
        "#Pivoteo para dejar la matriz usuarios-items con los mean centered ratings\n",
        "adjusted_ratings = adjusted_ratings.pivot(index = 'ISBN', columns ='user_id', values = 'rating_adjusted')"
      ],
      "execution_count": null,
      "outputs": []
    },
    {
      "cell_type": "code",
      "metadata": {
        "id": "eUoozc9p3Dhm"
      },
      "source": [
        "item1 = user_item_matrix_new[user_item_matrix_new.index == 359263]\n",
        "booksToCheck = list(item1.columns[np.isnan(item1.iloc[0])])\n",
        "\n",
        "#Dado que el usuario solo tiene 10 ratings, solo ciertos valores nos\n",
        "#serviran para estimar el rating\n",
        "booksQualified = item_user_matrix_new.loc[userBooks]"
      ],
      "execution_count": null,
      "outputs": []
    },
    {
      "cell_type": "code",
      "metadata": {
        "id": "EnEoUjQ83Dm0"
      },
      "source": [
        "ratingsTotales = estimateRatingItems(item_user_matrix_new, adjusted_ratings, booksToCheck, 359263, booksQualified, [3, 6, 10])\n",
        "\n",
        "for i in range(len(ratingsTotales)):\n",
        "  ratingsTotales[i] = sorted(ratingsTotales[i].items(), key=operator.itemgetter(1), reverse=True)[:5]"
      ],
      "execution_count": null,
      "outputs": []
    },
    {
      "cell_type": "code",
      "metadata": {
        "colab": {
          "base_uri": "https://localhost:8080/"
        },
        "id": "OSLHNwA64qrG",
        "outputId": "a1af0c8f-02b3-47ea-8574-edb636e67307"
      },
      "source": [
        "kPrueba = [3, 6, 10]\n",
        "\n",
        "for rating in range(len(ratingsTotales)):\n",
        "  print(\"------------ \\n K = \", kPrueba[rating])\n",
        "  for ISBN, sim in ratingsTotales[rating]:\n",
        "    print(booksIds[booksIds[\"ISBN\"] == ISBN].to_string())\n"
      ],
      "execution_count": null,
      "outputs": [
        {
          "output_type": "stream",
          "text": [
            "------------ \n",
            " K =  3\n",
            "             ISBN         title\n",
            "37603  0060191813  Orchid Beach\n",
            "             ISBN               title\n",
            "28679  0385315066  The Return Journey\n",
            "             ISBN                       title\n",
            "19709  0836218515  Prehistory of the Far Side\n",
            "            ISBN                                                     title\n",
            "5397  0684848066  In the Meantime : Finding Yourself and the Love You Want\n",
            "             ISBN                      title\n",
            "11242  0140441654  Utopia (Penguin Classics)\n",
            "------------ \n",
            " K =  6\n",
            "             ISBN         title\n",
            "37603  0060191813  Orchid Beach\n",
            "             ISBN               title\n",
            "28679  0385315066  The Return Journey\n",
            "             ISBN                         title\n",
            "24426  0151731527  Possessing the Secret of Joy\n",
            "             ISBN                                                                       title\n",
            "55748  0312289871  Robert Ludlum's The Paris Option : A Covert-One Novel (A Covert-One Novel)\n",
            "             ISBN                                    title\n",
            "98101  0451526570  Heart of Darkness and the Secret Sharer\n",
            "------------ \n",
            " K =  10\n",
            "             ISBN         title\n",
            "37603  0060191813  Orchid Beach\n",
            "             ISBN               title\n",
            "28679  0385315066  The Return Journey\n",
            "             ISBN                         title\n",
            "24426  0151731527  Possessing the Secret of Joy\n",
            "             ISBN                                                                       title\n",
            "55748  0312289871  Robert Ludlum's The Paris Option : A Covert-One Novel (A Covert-One Novel)\n",
            "             ISBN                                    title\n",
            "98101  0451526570  Heart of Darkness and the Secret Sharer\n"
          ],
          "name": "stdout"
        }
      ]
    },
    {
      "cell_type": "markdown",
      "metadata": {
        "id": "iQDC2F0vfLnB"
      },
      "source": [
        "### Experimentos adicionales"
      ]
    },
    {
      "cell_type": "markdown",
      "metadata": {
        "id": "Ra4oVz1Ox1Dp"
      },
      "source": [
        "Cabe destacar, que a pesar de rellenar la matriz con ceros (y estandarizándola) para calcular la similaridad de coseno entre ítems, al momento de calcular los ratings estimados, se considerarán para la predicción sólo los ítems que el usuario calificó, ignorando los ítems a los que se les ingresó un cero, ya que eso sólo aportaría ruido, multiplicando las similaridades por cero en el numerador y aumentando el denominador al sumar todas las similaridades."
      ]
    },
    {
      "cell_type": "code",
      "metadata": {
        "id": "n1PUNWDNioJb"
      },
      "source": [
        "#Funcion para recuperar las similaridades con esta nueva implementacion\n",
        "def getCosSimDiccItems(simMatrix, itemPos, otherItems,otherItemsPos):\n",
        "  diccSims = {}\n",
        "  #Se recuperan las similaridades de todos los items a los 10 evaluados por el usuario\n",
        "  for i in range(len(otherItems)):\n",
        "    diccSims[otherItems[i]] = simMatrix[itemPos][otherItemsPos[i]]\n",
        "  return diccSims\n",
        "\n",
        "#Obtencion de los ratings para peliculas/libros no vistas/os por un usuario dado\n",
        "def estimateRatingItems(matrix, matrixAdjusted, moviesToCheck, user, otherItems,otherItemsPos, kneighs, simMatrix):\n",
        "  listDicRating = []\n",
        "  moviePos = 0\n",
        "  for i in kneighs:\n",
        "    listDicRating.append({})\n",
        "  for movieId in moviesToCheck:\n",
        "    #Dicionario con los valores de similaridad que son utiles para posteriormente\n",
        "    #calcular el rating\n",
        "    cosenoDic = getCosSimDiccItems(simMatrix, moviePos, otherItems,otherItemsPos)\n",
        "    cosenoDic = sorted(cosenoDic.items(), key=operator.itemgetter(1), reverse=True)\n",
        "    for i in range(len(kneighs)):\n",
        "      neighbor = kneighs[i]\n",
        "      cosenoDicNeighbor = cosenoDic[:neighbor]\n",
        "      numerador = 0\n",
        "      denominador = 0\n",
        "      for itemId, similitud in cosenoDicNeighbor:\n",
        "        value = matrix.loc[itemId, user]\n",
        "        if not np.isnan(value):\n",
        "          numerador += similitud * value\n",
        "          denominador += abs(similitud)\n",
        "      if denominador != 0:\n",
        "        ratingEstimado = numerador/denominador  \n",
        "        listDicRating[i][movieId] = ratingEstimado\n",
        "    moviePos += 1\n",
        "  return listDicRating\n",
        "\n",
        "  return diccSims"
      ],
      "execution_count": null,
      "outputs": []
    },
    {
      "cell_type": "markdown",
      "metadata": {
        "id": "ybQw4ju6fNsq"
      },
      "source": [
        "#### Movies Dataset"
      ]
    },
    {
      "cell_type": "code",
      "metadata": {
        "id": "hrFHn5fkfQ4c"
      },
      "source": [
        "item_user_matrix_new = moviesNewUser.pivot(index = 'movie_id', columns ='user_id', values = 'rating').fillna(0)\n",
        "#Matriz estandarizada a [0, 1]\n",
        "for index, row in item_user_matrix_new.iterrows():\n",
        "  row= (row-row.min())/(row.max()-row.min())\n",
        "  item_user_matrix_new.loc[index] = row\n",
        "#En algunos casos luego de estandarizar existen valores NaN\n",
        "item_user_matrix_new = moviesNewUser.pivot(index = 'movie_id', columns ='user_id', values = 'rating').fillna(0)\n",
        "\n",
        "#Rating promedio\n",
        "rating_mean= moviesNewUser.groupby(['movie_id'], as_index = False, sort = False).mean().rename(columns = {'rating': 'rating_mean'})[['movie_id','rating_mean']]\n",
        "#Mean centered ratings\n",
        "adjusted_ratings = pd.merge(moviesNewUser,rating_mean,on = 'movie_id', how = 'left', sort = False)\n",
        "adjusted_ratings['rating_adjusted']=adjusted_ratings['rating']-adjusted_ratings['rating_mean']\n",
        "#Pivoteo para dejar la matriz usuarios-items con los mean centered ratings\n",
        "adjusted_ratings = adjusted_ratings.pivot(index = 'movie_id', columns ='user_id', values = 'rating_adjusted')"
      ],
      "execution_count": null,
      "outputs": []
    },
    {
      "cell_type": "code",
      "metadata": {
        "id": "siR9-Strfz9o"
      },
      "source": [
        "#Dado que no se encuentran valores NaN, se puede calcular de forma más rápida la similaridad de coseno entre usuarios\n",
        "moviesSimMatrix = cosine_similarity(item_user_matrix_new)\n",
        "\n",
        "#En caso de obtener valores nan, debido a, por ejemplo, división por cero, se reemplaza la similaridad por cero\n",
        "moviesSimMatrix[np.isnan(moviesSimMatrix)] = 0\n",
        "\n",
        "#Se necesita saber la posición de las películas ya vistas\n",
        "itemsRatedPos = []\n",
        "for movieRated in userMovies:\n",
        "  moviePos = 0\n",
        "  for index, row in item_user_matrix_new.iterrows():\n",
        "    if movieRated == index:\n",
        "      itemsRatedPos.append(moviePos)\n",
        "      break\n",
        "    moviePos += 1"
      ],
      "execution_count": null,
      "outputs": []
    },
    {
      "cell_type": "code",
      "metadata": {
        "id": "uF1fZpmGmsh9"
      },
      "source": [
        "ratingsTotales = estimateRatingItems(item_user_matrix_new, adjusted_ratings, moviesToCheck, 777, userMovies, itemsRatedPos, [3, 6, 10], moviesSimMatrix)\n",
        "for i in range(len(ratingsTotales)):\n",
        "  ratingsTotales[i] = sorted(ratingsTotales[i].items(), key=operator.itemgetter(1), reverse=True)[:5]"
      ],
      "execution_count": null,
      "outputs": []
    },
    {
      "cell_type": "code",
      "metadata": {
        "colab": {
          "base_uri": "https://localhost:8080/"
        },
        "id": "QQpM_kJ5xt_D",
        "outputId": "9900b182-2ee0-4ed4-e372-a3411c1b9ae4"
      },
      "source": [
        "kPrueba = [3, 6, 10]\n",
        "for rating in range(len(ratingsTotales)):\n",
        "  print(\"------------ \\n K = \", kPrueba[rating])\n",
        "  for movieId, sim in ratingsTotales[rating]:\n",
        "    print(moviesIds[moviesIds[\"movie_id\"] == movieId].to_string())"
      ],
      "execution_count": null,
      "outputs": [
        {
          "output_type": "stream",
          "text": [
            "------------ \n",
            " K =  3\n",
            "      movie_id                          title                genres\n",
            "6441     51903  I Think I Love My Wife (2007)  Comedy|Drama|Romance\n",
            "      movie_id                      title  genres\n",
            "6467     52694  Mr. Bean's Holiday (2007)  Comedy\n",
            "      movie_id            title                   genres\n",
            "6743     59315  Iron Man (2008)  Action|Adventure|Sci-Fi\n",
            "      movie_id                   title         genres\n",
            "8110    100714  Before Midnight (2013)  Drama|Romance\n",
            "      movie_id                           title                         genres\n",
            "1009      1320  Alien³ (a.k.a. Alien 3) (1992)  Action|Horror|Sci-Fi|Thriller\n",
            "------------ \n",
            " K =  6\n",
            "      movie_id                          title                genres\n",
            "6441     51903  I Think I Love My Wife (2007)  Comedy|Drama|Romance\n",
            "      movie_id                      title  genres\n",
            "6467     52694  Mr. Bean's Holiday (2007)  Comedy\n",
            "      movie_id            title                   genres\n",
            "6743     59315  Iron Man (2008)  Action|Adventure|Sci-Fi\n",
            "      movie_id                   title         genres\n",
            "8110    100714  Before Midnight (2013)  Drama|Romance\n",
            "      movie_id                           title                         genres\n",
            "1009      1320  Alien³ (a.k.a. Alien 3) (1992)  Action|Horror|Sci-Fi|Thriller\n",
            "------------ \n",
            " K =  10\n",
            "      movie_id                          title                genres\n",
            "6441     51903  I Think I Love My Wife (2007)  Comedy|Drama|Romance\n",
            "      movie_id                      title  genres\n",
            "6467     52694  Mr. Bean's Holiday (2007)  Comedy\n",
            "      movie_id            title                   genres\n",
            "6743     59315  Iron Man (2008)  Action|Adventure|Sci-Fi\n",
            "      movie_id                   title         genres\n",
            "8110    100714  Before Midnight (2013)  Drama|Romance\n",
            "      movie_id                           title                         genres\n",
            "1009      1320  Alien³ (a.k.a. Alien 3) (1992)  Action|Horror|Sci-Fi|Thriller\n"
          ],
          "name": "stdout"
        }
      ]
    },
    {
      "cell_type": "markdown",
      "metadata": {
        "id": "PnMCN85gfRB4"
      },
      "source": [
        "#### Books Dataset"
      ]
    },
    {
      "cell_type": "code",
      "metadata": {
        "id": "tZ96e0wzfS79"
      },
      "source": [
        "item_user_matrix_new = booksNewUser.pivot(index = 'ISBN', columns ='user_id', values = 'rating').fillna(0)\n",
        "#Matriz estandarizada a [0, 1]\n",
        "for index, row in item_user_matrix_new.iterrows():\n",
        "  row= (row-row.min())/(row.max()-row.min())\n",
        "  item_user_matrix_new.loc[index] = row\n",
        "#En algunos casos luego de estandarizar existen valores NaN\n",
        "item_user_matrix_new = booksNewUser.pivot(index = 'ISBN', columns ='user_id', values = 'rating').fillna(0)\n",
        "\n",
        "#Rating promedio\n",
        "rating_mean= booksNewUser.groupby(['ISBN'], as_index = False, sort = False).mean().rename(columns = {'rating': 'rating_mean'})[['ISBN','rating_mean']]\n",
        "#Mean centered ratings\n",
        "adjusted_ratings = pd.merge(booksNewUser,rating_mean,on = 'ISBN', how = 'left', sort = False)\n",
        "adjusted_ratings['rating_adjusted']=adjusted_ratings['rating']-adjusted_ratings['rating_mean']\n",
        "#Pivoteo para dejar la matriz usuarios-items con los mean centered ratings\n",
        "adjusted_ratings = adjusted_ratings.pivot(index = 'ISBN', columns ='user_id', values = 'rating_adjusted')"
      ],
      "execution_count": null,
      "outputs": []
    },
    {
      "cell_type": "code",
      "metadata": {
        "id": "_6iU_NUgy-9T"
      },
      "source": [
        "#Dado que no se encuentran valores NaN, se puede calcular de forma más rápida la similaridad de coseno entre usuarios\n",
        "booksSimMatrix = cosine_similarity(item_user_matrix_new)\n",
        "\n",
        "#En caso de obtener valores nan, debido a, por ejemplo, división por cero, se reemplaza la similaridad por cero\n",
        "booksSimMatrix[np.isnan(booksSimMatrix)] = 0\n",
        "\n",
        "#Se necesita saber la posición de las películas ya vistas\n",
        "itemsRatedPos = []\n",
        "for bookRated in userBooks:\n",
        "  bookPos = 0\n",
        "  for index, row in item_user_matrix_new.iterrows():\n",
        "    if bookRated == index:\n",
        "      itemsRatedPos.append(bookPos)\n",
        "      break\n",
        "    bookPos += 1"
      ],
      "execution_count": null,
      "outputs": []
    },
    {
      "cell_type": "code",
      "metadata": {
        "id": "K55i3jMH5Bxv"
      },
      "source": [
        "ratingsTotales = estimateRatingItems(item_user_matrix_new, adjusted_ratings, booksToCheck, 359263, userBooks, itemsRatedPos, [3, 6, 10], booksSimMatrix)\n",
        "for i in range(len(ratingsTotales)):\n",
        "  ratingsTotales[i] = sorted(ratingsTotales[i].items(), key=operator.itemgetter(1), reverse=True)[:5]"
      ],
      "execution_count": null,
      "outputs": []
    },
    {
      "cell_type": "code",
      "metadata": {
        "colab": {
          "base_uri": "https://localhost:8080/"
        },
        "id": "dA3ZzL-j5CCo",
        "outputId": "0393e647-6b40-4b5a-8613-85907c7a7383"
      },
      "source": [
        "kPrueba = [3, 6, 10]\n",
        "\n",
        "for rating in range(len(ratingsTotales)):\n",
        "  print(\"------------ \\n K = \", kPrueba[rating])\n",
        "  for ISBN, sim in ratingsTotales[rating]:\n",
        "    print(booksIds[booksIds[\"ISBN\"] == ISBN].to_string())"
      ],
      "execution_count": null,
      "outputs": [
        {
          "output_type": "stream",
          "text": [
            "------------ \n",
            " K =  3\n",
            "             ISBN           title\n",
            "25957  0061098752  In Her Defense\n",
            "             ISBN                            title\n",
            "11451  0156008661  Ladies' Night at Finbar's Hotel\n",
            "             ISBN           title\n",
            "12151  0515133973  Midnight Bayou\n",
            "            ISBN                     title\n",
            "2376  0671023373  Man's Search For Meaning\n",
            "            ISBN            title\n",
            "5547  0671721135  THROUGH THE ICE\n",
            "------------ \n",
            " K =  6\n",
            "             ISBN           title\n",
            "25957  0061098752  In Her Defense\n",
            "             ISBN                            title\n",
            "11451  0156008661  Ladies' Night at Finbar's Hotel\n",
            "             ISBN           title\n",
            "12151  0515133973  Midnight Bayou\n",
            "            ISBN                     title\n",
            "2376  0671023373  Man's Search For Meaning\n",
            "            ISBN            title\n",
            "5547  0671721135  THROUGH THE ICE\n",
            "------------ \n",
            " K =  10\n",
            "             ISBN           title\n",
            "25957  0061098752  In Her Defense\n",
            "             ISBN                            title\n",
            "11451  0156008661  Ladies' Night at Finbar's Hotel\n",
            "             ISBN           title\n",
            "12151  0515133973  Midnight Bayou\n",
            "            ISBN                     title\n",
            "2376  0671023373  Man's Search For Meaning\n",
            "            ISBN            title\n",
            "5547  0671721135  THROUGH THE ICE\n"
          ],
          "name": "stdout"
        }
      ]
    },
    {
      "cell_type": "markdown",
      "metadata": {
        "id": "TDdk9fTdXwDr"
      },
      "source": [
        "### Conclusiones\n",
        "\n",
        "a.   Para el dataset de películas se obtuvieron las siguientes recomendaciones:\n",
        "      \n",
        "*  Soul Food (1997)\n",
        "*  One Tre Thing(1998)\n",
        "* After Life (Wandafuru raifu (1998)\n",
        "* Jules and Jum (Jules et Jim) (1961)\n",
        "* War Zone, The (1999)\n",
        "\n",
        "Por otro lado, para el dataset de libros se obtuvieron las siguientes recomendaciones:\n",
        "* Orchid Beach\n",
        "* The Return Journey\n",
        "* Possessing the Secret of Joy\n",
        "* Robert Ludlum's The Paris Option : A covert-One Novel (A Cover-One Novel)\n",
        "* Heart of Darkness and the Secret Sharer\n",
        "\n",
        "En comparación a los resultados obtenidos con UBCF, los obtenidos con el enfoque actual, de todas maneras, son bastante malos. Por un lado, para el dataset de películas se han recomendando nuevamente sólo películas antiguas y con el género correspondiente a drama, por lo que realmente no tienen relación entre sí. Para el dataset de libros, las recomendaciones son un poco más diversas, sin embargo, ninguna guarda relación con la temática de lo que ha visto el usuario objetivo. Se podría llegar a la conclusión de que los ítems dados son similares a los que el usuario calificó porque los vectores para cada ítem tienen ratings similares entre sí (es decir los usuarios los vieron y los calificaron de manera similar).\n",
        "\n",
        "Considerando la experimentación adicional, para el dataset de películas se obtuvo:\n",
        "\n",
        "* I Think I Love My Wife (2007)\n",
        "* Mr. Bean's Holiday (2007)  \n",
        "* Iron Man (2008)  \n",
        "* Before Midnight (2013)  \n",
        "* Alien³ (a.k.a. Alien 3) (1992\n",
        "\n",
        "Por otro lado, para el dataset de libros se encontraron las siguientes recomendaciones:\n",
        "\n",
        "* In Her Defense\n",
        "* Ladies' Night at Finbar's Hotel\n",
        "* Midnight Bayou\n",
        "* Man's Search For Meaning\n",
        "* THROUGH THE ICE\n",
        "\n",
        "En estos casos se pueden destacar dos películas y un libro. Primero se puede ver que una recomendación es claramente acertada ya que corresponde a otra película de super-héroes, mientras que Alien 3 también puede ser considerada una buena recomendación, ya que coincide con ciertos géneros de las películas calificadas. El resto de películas no eran esperables. Para los libros se dio una recomendación más variada y sólo se puede rescatar THROUGH THE ICE, que coincide con ser un libro de fantasía. Tal vez, si se ampliase la selección de ítems a recomendar podrían recuperarse ítems que fuesen más esperados, ya que este dataset contiene una mayor cantidad de calificaciones que el primero.\n",
        "\n",
        "b. Se escogieron los 10 vecinos más cercanos para dar la recomendación en ambos datasets. Seleccionamos el valor máximo posible a utilizar para calcular los ratings de los ítems, intentando mitigar el problema del *cold start* al proveer toda la información del usuario. La elección de **k** influye al momento de calcular el rating para el ítem dado, ya que las similaridades de coseno deben ser multiplicadas por los ratings dados por el usuario a los ítems que ya ha clasificado, pudiendo ser como máximo 10. Al aumentar este parámetro, nuevamente se presenta una repetición de los ítems recomendados, variando un poco más si se compara con el valor más pequeño para **k**. Cabe destacar que para este enfoque se calcularon sólo 10 similaridades de coseno para cada ítem, debido a que finalmente los valores que se utilizan son los calculados entre todos los ítems (excluyendo los del nuevo usuario) y los ítems que el usuario nuevo evaluó.\n",
        "\n",
        "Para los experimentos adicionales no es relevante el uso de **k**, ya que independiente de este, se obtienen las mismas recomendaciones, lo anterior puede estar dado por el hecho de que el cálculo del rating estimado final sólo tomo en consideración los ratings de los ítems efectivamente calificados por el usuario y las similaridades de estos ítems con los demás. No se puede evidenciar ningún efecto al momento de modificar este parámetro. \n",
        "\n",
        "c. Las ventajas de este enfoque respecto al anterior son que la similaridad de coseno es más \"consistente\", ya que al comparar qué tanto se parecen los ítems entre sí se puede llegar a tener mucha más información disponible, desligándose de los ratings dados por el usuario. Será de mayor utilidad siempre y cuando los ítems que el nuevo usuario vio hayan tenido una cantidad considerable de calificaciones, lo que puede ser mucho más probable que esperar una intersección entre usuarios con un usuario que ha calificado pocas cosas. Sin embargo, no se debe pensar que se está excento del problema de *cold start* ya que el nuevo usuario podría llegar a revisar ítems poco vistos y que la similaridad entre los ítems presente los mismos problemas que la de los usuarios evidenciada en el enfoque anterior. \n",
        "\n",
        "El hecho de rellenar la matriz con ceros realizada en la experimentación adicional puede impactar de forma negativa en menor medida respecto a UBCF, en dónde los valores para las similaridades se reducían demasiado, ya que en este enfoque es menos probable que las calificaciones rellenadas con cero tengan un impacto grande, ya que (seguramente) existirán más intersecciones entre los ítems a evaluar."
      ]
    },
    {
      "cell_type": "markdown",
      "metadata": {
        "id": "uTwaqP1Uvbp-"
      },
      "source": [
        "## 3. Conclusiones finales (20 puntos)"
      ]
    },
    {
      "cell_type": "markdown",
      "metadata": {
        "id": "a_8XFalpvbp-"
      },
      "source": [
        "1. Analice los resultados obtenidos y contraste ambos enfoques (ubcf y ibcf). \n",
        "\n",
        "En rasgos generales, ambas técnicas dieron resultados inesperados para ambos datasets, a pesar de la caracterización del usuario que hicimos para ambos datasets, intentando presentar ítems que coincidían en género, temática o pertenecían a una misma saga. Lo más destacable es la recomendación de un libro de Harry Potter para ciertos valores de  **k** probados. Se cree que se podría haber obtenido mejores resultados si los ítems calificados por el usuario nuevo hubiesen sido seleccionados en base a la cantidad de calificaciones que estos tienen, evitando un poco el problema del *cold start*, sin embargo, estos resultados podrían haber sido demasiado condicionados o muy ideales. También, se podría haber trabajado con un subconjunto de la matriz para intentar reducir el porcentaje de *sparsity* o cambiar la medida de similaridad por la de *Pearson*, que se ve afectada en menor medida por este problema. \n",
        "\n",
        "El principal problema para el enfoque UBCF, en este caso, fue el porcentaje de *sparsity* de la matriz, siendo una medida poco informativa la similaridad de coseno, agravado, además, por el hecho de que el nuevo usuario tiene muy pocas calificaciones ingresadas en el sistema, presentando el problema de *cold start*. Para intentar mitigar lo anterior y que la similaridad de coseno sea una medida más informativa, se pensó en calcular la similaridad tomando en consideración que la intersección entre los usuarios sea mayor a cierto número, sin embargo, esto no evitaría que los usuarios con los que se compare tengan una cantidad de calificaciones lo suficientemente grande y variada para que, a pesar de coincidir en los ítems calificados, el segundo usuario esté caracterizado como, por ejemplo, \"amante de películas románticas\" con más de 100 películas de esta índole vistas y por su pareja haya visto las películas de Batman, tomándolo como un usuario similar al primero, ignorando toda la información en la que no coinciden que es considerablemente menor. \n",
        "\n",
        "Por otro lado, el enfoque IBCF es más robusto al momento de calcular la similaridad del coseno, debido a que esta se calcula entre ítems, siendo menos probable que los ítems vistos por el usuario tengan pocas calificaciones, sin embargo, este enfoque se ve más limitado al momento de calcular el rating para el ítem en sí, ya que la predicción se calculará utilizando, los pocos ratings proporcionados por el nuevo usuario.\n",
        "\n",
        "Con la experimentación adicional se lograron obtener algunos resultados que tenian cierto sentido al ocupar IBCF, destacando en especial los resultados obtenidos para el dataset de películas. Además, en esta implementación no se evidenció una diferencia de tiempo lo suficientemente grande en comparación a los experimentos adicionales de UBCF.\n",
        "\n",
        "2. Analice ventajas y desventajas de ambos enfoques. \n",
        "\n",
        "Para UBCF la principal ventaja que podemos destacar es que es mucho más rápido de utilizar, dando resultados en menos de 5 minutos en ambos datasets. Otra ventaja que no se pudo evidenciar en las pruebas realizadas es el hecho de poder elegir entre una amplia cantidad de usuarios a considerar para calcular los ratings de los ítems, pudiendo elegir desde un usuario hasta la totalidad de estos. Por otro lado, las desventajas corresponden al problema del *cold start* cuyas implicaciones se han mencionado a lo largo del informe, entre las que se encuentra que la medida de similaridad sea poco informativa debido a cómo se utiliza para determinar si los usuarios se parecen entre sí. El porcentaje de *sparsity* es otra desventaja a tener en cuenta, ya que además de que la medida de similaridad sea poco informativa, si un usuario cambia drásticamente su calificación a un ítem, también cambiará drásticamente el valor para la similaridad con este usuario nuevo, en el caso de ocupar la matriz sin modificar los *missing values*.\n",
        "\n",
        "Para IBCF se tiene la fortaleza de que la medida de similaridad es menos dependiente del usuario nuevo, descansando más en la cantidad de calificaciones que tienen los ítems al momento de ser comparados y probablemente, teniendo una mayor intersección entre las calificaciones de los ítems, evitando el problema del *cold start* y de la similaridad de coseno presentada en UBCF. Además, si un usuario llega a cambiar drásticamente su opinión, es menos probable que la similaridad entre los ítems varíe drásticamente, ya que sería un valor entre los cientos (por decir un valor) utilizados para calcular la similaridad. También se podría considerar que no es necesario actualizar los valores de similaridad para generar recomendaciones a un usuario nuevo, ya que su valoración tendría poco impacto en esta medida pero si sería considerada al momento de calcular la estimación de rating. La principal desventaja evidenciada en los experimentos es el tiempo que demora en calcular las similitudes requeridas para el nuevo usuario, ya que a pesar de intentar optimizar lo más posible el código, para el dataset de libros la ejecución de las pruebas con la matriz con *missing values* tomó aproximadamente 40 minutos con los tres valores de **k** dados.\n",
        "\n",
        "Como comentario general, se cree que sería buena idea fragmentar los datasets según algún criterio, como el género de la película o libro. Sumado a lo anterior, debido a que se presenta el problema de la *long tail*, se podría trabajar sólo con los ítems con un número de rating superior a cierto *threshold* en base al número total de usuarios y también, trabajar con sólo ciertos usuarios que hayan dado su rating a una cantidad superior a otro *threshold*, intentando reducir así el porcentaje de *sparsity* de la matriz. Sin embargo, esta idea podría dar problemas debido a que se tendería a recomendar ítems populares e ítems que tengan pocas reviews o sean nuevos sufrirían el problema de *cold start*, no apareciendo en ninguna recomendación.\n",
        "\n",
        "Por último, se piensa que quizás, no sea suficiente trabajar sólo con las calificaciones otorgadas por los usuarios. Se podría intentar incluir información, ya sea de los usuarios (geolocalización, edad, género) o de los ítems (año de lanzamiento, duración en el caso de las peliculas, cantidad de páginas en el caso de los libros, género, sector al que estan destinados), de tal manera que ayude a generar predicciones más útiles para los usuarios nuevos.\n"
      ]
    }
  ]
}