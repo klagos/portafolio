{
  "nbformat": 4,
  "nbformat_minor": 0,
  "metadata": {
    "colab": {
      "name": "Taller2_KevinLagos_SonnyMuñoz_MaríaRetamal.ipynb",
      "provenance": [],
      "collapsed_sections": []
    },
    "kernelspec": {
      "name": "python3",
      "display_name": "Python 3"
    },
    "accelerator": "TPU"
  },
  "cells": [
    {
      "cell_type": "markdown",
      "metadata": {
        "id": "HU03rSPyFJYS"
      },
      "source": [
        "# Clustering techniques on \"Cervical Cancer Risk Classification\" dataset.\n",
        "Authors: Kevin Lagos, Sonny Muñoz, María Retamal"
      ]
    },
    {
      "cell_type": "markdown",
      "metadata": {
        "id": "Pfm20jIaFN1O"
      },
      "source": [
        "#### Lectura de los paquetes que se utilizarán"
      ]
    },
    {
      "cell_type": "code",
      "metadata": {
        "id": "JgTlcdKnFGne"
      },
      "source": [
        "import numpy as np\n",
        "import matplotlib.pyplot as plt\n",
        "import pandas as pd\n",
        "import seaborn as sns\n",
        "import io \n",
        "from google.colab import files\n",
        "from sklearn.preprocessing import StandardScaler\n",
        "from sklearn.model_selection import train_test_split\n",
        "%matplotlib inline"
      ],
      "execution_count": null,
      "outputs": []
    },
    {
      "cell_type": "markdown",
      "metadata": {
        "id": "TfZNl4sXFRbe"
      },
      "source": [
        "### Carga y Manipulación de datos"
      ]
    },
    {
      "cell_type": "code",
      "metadata": {
        "colab": {
          "resources": {
            "http://localhost:8080/nbextensions/google.colab/files.js": {
              "data": "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",
              "ok": true,
              "headers": [
                [
                  "content-type",
                  "application/javascript"
                ]
              ],
              "status": 200,
              "status_text": ""
            }
          },
          "base_uri": "https://localhost:8080/",
          "height": 73
        },
        "id": "w_optjDTFSOa",
        "outputId": "6b00364d-56ba-4fc5-f0f7-7c96f1c138e4"
      },
      "source": [
        "# Fijamos la semilla que genera numeros aleatorios\n",
        "np.random.seed(0)\n",
        "\n",
        "#Carga de los datos\n",
        "uploaded = files.upload()\n",
        "df = pd.read_csv(io.StringIO(uploaded['kag_risk_factors_cervical_cancer.csv'].decode('utf-8')))\n",
        "\n",
        "#Cambio de \"?\" por NaN y paso a tipo float\n",
        "for col in df.columns: \n",
        "    df.loc[df[col]=='?', col]=np.nan\n",
        "    if df.dtypes[col] == object:\n",
        "      df = df.astype({col: float})\n",
        "\n",
        "#Cambio en las variables target para dejarlo como 1 variable target binaria\n",
        "df[\"target\"] = df[[\"Biopsy\",\"Hinselmann\",\"Citology\",\"Schiller\"]].max(axis=1)\n",
        "df[\"target\"] = df[\"target\"].astype(np.int64)\n",
        "del df[\"Biopsy\"]\n",
        "del df[\"Hinselmann\"] \n",
        "del df[\"Citology\"] \n",
        "del df[\"Schiller\"]\n",
        "\n",
        "X = df.dropna()\n",
        "df = df.dropna() # Borramos filas que son NaN"
      ],
      "execution_count": null,
      "outputs": [
        {
          "output_type": "display_data",
          "data": {
            "text/html": [
              "\n",
              "     <input type=\"file\" id=\"files-7ddcd01e-4e07-415b-a30d-ca799d893ac9\" name=\"files[]\" multiple disabled\n",
              "        style=\"border:none\" />\n",
              "     <output id=\"result-7ddcd01e-4e07-415b-a30d-ca799d893ac9\">\n",
              "      Upload widget is only available when the cell has been executed in the\n",
              "      current browser session. Please rerun this cell to enable.\n",
              "      </output>\n",
              "      <script src=\"/nbextensions/google.colab/files.js\"></script> "
            ],
            "text/plain": [
              "<IPython.core.display.HTML object>"
            ]
          },
          "metadata": {
            "tags": []
          }
        },
        {
          "output_type": "stream",
          "text": [
            "Saving kag_risk_factors_cervical_cancer.csv to kag_risk_factors_cervical_cancer (1).csv\n"
          ],
          "name": "stdout"
        }
      ]
    },
    {
      "cell_type": "markdown",
      "metadata": {
        "id": "qg8EBPbgH4LA"
      },
      "source": [
        "### Separación de conjuntos de training y test"
      ]
    },
    {
      "cell_type": "code",
      "metadata": {
        "colab": {
          "base_uri": "https://localhost:8080/"
        },
        "id": "yyZdSIJEFb2B",
        "outputId": "16785f74-8699-4758-a475-a97aab4a0d08"
      },
      "source": [
        "y = df.target\n",
        "print('Class labels:', np.unique(y))\n",
        "X = X.iloc[:, :-1]"
      ],
      "execution_count": null,
      "outputs": [
        {
          "output_type": "stream",
          "text": [
            "Class labels: [0 1]\n"
          ],
          "name": "stdout"
        }
      ]
    },
    {
      "cell_type": "code",
      "metadata": {
        "id": "g4feQn3NFlEq"
      },
      "source": [
        "X_train, X_test, y_train, y_test = train_test_split(X, y, \n",
        "                test_size=0.3, random_state=1, stratify=y)"
      ],
      "execution_count": null,
      "outputs": []
    },
    {
      "cell_type": "markdown",
      "metadata": {
        "id": "SW791Z6ZaM5d"
      },
      "source": [
        "## Estandarización de los datos\n",
        "\n"
      ]
    },
    {
      "cell_type": "markdown",
      "metadata": {
        "id": "cAo3xCt2bpTw"
      },
      "source": [
        "Ajustar los siguientes modelos: LDA, QDA, Árbol de Decisión, Random Forest, Regresión Logística, SVC (lineal y radio basal), Perceptron, Perceptrón Multicapa, K-Neighbors Classifier. Explicar brevemente en qué consiste cada clasificador"
      ]
    },
    {
      "cell_type": "code",
      "metadata": {
        "id": "nhwhnPdgG8_6"
      },
      "source": [
        "sc = StandardScaler()\n",
        "sc.fit(X_train)\n",
        "X_train_std = sc.transform(X_train)\n",
        "X_test_std = sc.transform(X_test)"
      ],
      "execution_count": null,
      "outputs": []
    },
    {
      "cell_type": "code",
      "metadata": {
        "id": "A11KGlSwaeA2"
      },
      "source": [
        "from sklearn.metrics import accuracy_score\n",
        "from sklearn.metrics import recall_score\n",
        "from sklearn.metrics import precision_score\n",
        "from sklearn.metrics import f1_score\n",
        "metricas = []"
      ],
      "execution_count": null,
      "outputs": []
    },
    {
      "cell_type": "markdown",
      "metadata": {
        "id": "PSsGD-T2b0w9"
      },
      "source": [
        "### Perceptron"
      ]
    },
    {
      "cell_type": "code",
      "metadata": {
        "colab": {
          "base_uri": "https://localhost:8080/"
        },
        "id": "WntJM3zGagYk",
        "outputId": "37d23a07-7776-4763-db97-a4682bca4b57"
      },
      "source": [
        "from sklearn.linear_model import Perceptron\n",
        "ppn = Perceptron(max_iter=40, eta0=0.1)\n",
        "ppn.fit(X_train_std, y_train)\n",
        "y_pred = ppn.predict(X_test_std)\n",
        "print('Accuracy: %.2f' % accuracy_score(y_test, y_pred))\n",
        "print('Recall: %.2f' % recall_score(y_test, y_pred))\n",
        "print('Precisión: %.2f' % precision_score(y_test, y_pred))\n",
        "print('F1: %.2f' % f1_score(y_test, y_pred))\n",
        "metricas.append((accuracy_score(y_test, y_pred),recall_score(y_test, y_pred),precision_score(y_test, y_pred),f1_score(y_test, y_pred)))"
      ],
      "execution_count": null,
      "outputs": [
        {
          "output_type": "stream",
          "text": [
            "Accuracy: 0.67\n",
            "Recall: 0.20\n",
            "Precisión: 0.33\n",
            "F1: 0.25\n"
          ],
          "name": "stdout"
        }
      ]
    },
    {
      "cell_type": "markdown",
      "metadata": {
        "id": "iseTDAVPhj_Q"
      },
      "source": [
        "Un perceptrón es un clasificador binario, es decir que es capaz de discriminar solamente entre dos categorías, y estas categorías deben ser linealmente separables, es decir, que si los datos son graficados en un plano, puedan ser divididos por una recta."
      ]
    },
    {
      "cell_type": "markdown",
      "metadata": {
        "id": "EzJe1mVpjzYC"
      },
      "source": [
        "### Árbol de Decision"
      ]
    },
    {
      "cell_type": "code",
      "metadata": {
        "colab": {
          "base_uri": "https://localhost:8080/"
        },
        "id": "TOuw0dD7j0_b",
        "outputId": "bc13b64e-e3f4-4672-94bb-97c510016061"
      },
      "source": [
        "from sklearn.tree import DecisionTreeClassifier\n",
        "arbol = DecisionTreeClassifier(criterion = 'gini', max_depth=4)\n",
        "arbol.fit(X_train_std, y_train)\n",
        "y_pred = arbol.predict(X_test_std)\n",
        "print('Accuracy: %.2f' % accuracy_score(y_test, y_pred))\n",
        "print('Recall: %.2f' % recall_score(y_test, y_pred))\n",
        "print('Precisión: %.2f' % precision_score(y_test, y_pred))\n",
        "print('F1: %.2f' % f1_score(y_test, y_pred))\n",
        "metricas.append((accuracy_score(y_test, y_pred),recall_score(y_test, y_pred),precision_score(y_test, y_pred),f1_score(y_test, y_pred)))"
      ],
      "execution_count": null,
      "outputs": [
        {
          "output_type": "stream",
          "text": [
            "Accuracy: 0.28\n",
            "Recall: 0.00\n",
            "Precisión: 0.00\n",
            "F1: 0.00\n"
          ],
          "name": "stdout"
        }
      ]
    },
    {
      "cell_type": "markdown",
      "metadata": {
        "id": "ejxAtN17hoVG"
      },
      "source": [
        "Un árbol de decisión es una estructura de árbol similar a un diagrama de flujo donde un nodo interno representa una característica (o atributo), la rama representa una regla de decisión y cada nodo hoja representa el resultado. Estos árboles clasifican los ejemplos desde la raíz hasta algún nodo hoja, con el nodo hoja proporcionando la clasificación final (enfoque top-down)."
      ]
    },
    {
      "cell_type": "markdown",
      "metadata": {
        "id": "ZJ0---Ydj_aC"
      },
      "source": [
        "### Regresión Logística"
      ]
    },
    {
      "cell_type": "code",
      "metadata": {
        "colab": {
          "base_uri": "https://localhost:8080/"
        },
        "id": "NcHeBlQskBXa",
        "outputId": "88a69115-4f89-4928-b5b7-ee148873aace"
      },
      "source": [
        "from sklearn.linear_model import LogisticRegression\n",
        "lr = LogisticRegression(C=100.0)\n",
        "lr.fit(X_train_std, y_train)\n",
        "y_pred = lr.predict(X_test_std)\n",
        "print('Accuracy: %.2f' % accuracy_score(y_test, y_pred))\n",
        "print('Recall: %.2f' % recall_score(y_test, y_pred))\n",
        "print('Precisión: %.2f' % precision_score(y_test, y_pred))\n",
        "print('F1: %.2f' % f1_score(y_test, y_pred))\n",
        "metricas.append((accuracy_score(y_test, y_pred),recall_score(y_test, y_pred),precision_score(y_test, y_pred),f1_score(y_test, y_pred)))"
      ],
      "execution_count": null,
      "outputs": [
        {
          "output_type": "stream",
          "text": [
            "Accuracy: 0.67\n",
            "Recall: 0.20\n",
            "Precisión: 0.33\n",
            "F1: 0.25\n"
          ],
          "name": "stdout"
        },
        {
          "output_type": "stream",
          "text": [
            "/usr/local/lib/python3.6/dist-packages/sklearn/linear_model/_logistic.py:940: ConvergenceWarning: lbfgs failed to converge (status=1):\n",
            "STOP: TOTAL NO. of ITERATIONS REACHED LIMIT.\n",
            "\n",
            "Increase the number of iterations (max_iter) or scale the data as shown in:\n",
            "    https://scikit-learn.org/stable/modules/preprocessing.html\n",
            "Please also refer to the documentation for alternative solver options:\n",
            "    https://scikit-learn.org/stable/modules/linear_model.html#logistic-regression\n",
            "  extra_warning_msg=_LOGISTIC_SOLVER_CONVERGENCE_MSG)\n"
          ],
          "name": "stderr"
        }
      ]
    },
    {
      "cell_type": "markdown",
      "metadata": {
        "id": "hT4daXr7z5Td"
      },
      "source": [
        "Método de regresión útil para resolver problemas de clasificación binaria, donde se estima la relación entre una variable binaria dependiente y las variables independientes haciendo uso de una función logística (Sigmoide, con valores reales entre 0 y 1)."
      ]
    },
    {
      "cell_type": "markdown",
      "metadata": {
        "id": "CnXlPS3RkIUm"
      },
      "source": [
        "### K-Nearest Neighbors"
      ]
    },
    {
      "cell_type": "code",
      "metadata": {
        "colab": {
          "base_uri": "https://localhost:8080/"
        },
        "id": "9ndwsX-MkBoT",
        "outputId": "1546aa71-5a2e-4a81-80c7-10e66ba601b5"
      },
      "source": [
        "from sklearn.neighbors import KNeighborsClassifier\n",
        "knn = KNeighborsClassifier(n_neighbors=5, p=2, metric='minkowski')\n",
        "knn.fit(X_train_std, y_train)\n",
        "y_pred = knn.predict(X_test_std)\n",
        "print('Accuracy: %.2f' % accuracy_score(y_test, y_pred))\n",
        "print('Recall: %.2f' % recall_score(y_test, y_pred))\n",
        "print('Precisión: %.2f' % precision_score(y_test, y_pred))\n",
        "print('F1: %.2f' % f1_score(y_test, y_pred))\n",
        "metricas.append((accuracy_score(y_test, y_pred),recall_score(y_test, y_pred),precision_score(y_test, y_pred),f1_score(y_test, y_pred)))"
      ],
      "execution_count": null,
      "outputs": [
        {
          "output_type": "stream",
          "text": [
            "Accuracy: 0.61\n",
            "Recall: 0.00\n",
            "Precisión: 0.00\n",
            "F1: 0.00\n"
          ],
          "name": "stdout"
        }
      ]
    },
    {
      "cell_type": "markdown",
      "metadata": {
        "id": "V7Oq0ymyyNZV"
      },
      "source": [
        "Corresponde a un algoritmo que se usa a modo de clasificador de objetos, basándose en un entrenamiento mediante ejemplos cercanos en el espacio de los elementos, lo que genera un aprendizaje de tipo *lazy*, donde se estima la probabilidad de que un elemento pertenezca a una clase basándose en una función densidad."
      ]
    },
    {
      "cell_type": "markdown",
      "metadata": {
        "id": "I2wOvxqukP5T"
      },
      "source": [
        "### Random Forest"
      ]
    },
    {
      "cell_type": "code",
      "metadata": {
        "colab": {
          "base_uri": "https://localhost:8080/"
        },
        "id": "PVFmK959kRVy",
        "outputId": "b36c9e7a-99c1-414a-a525-9c9938e4ebca"
      },
      "source": [
        "from sklearn.ensemble import RandomForestClassifier\n",
        "bosque = RandomForestClassifier(criterion = 'gini', \n",
        "                                 n_estimators=25, n_jobs=2)\n",
        "bosque.fit(X_train_std, y_train)\n",
        "y_pred = bosque.predict(X_test_std)\n",
        "print('Accuracy: %.2f' % accuracy_score(y_test, y_pred))\n",
        "print('Recall: %.2f' % recall_score(y_test, y_pred))\n",
        "print('Precisión: %.2f' % precision_score(y_test, y_pred))\n",
        "print('F1: %.2f' % f1_score(y_test, y_pred))\n",
        "metricas.append((accuracy_score(y_test, y_pred),recall_score(y_test, y_pred),precision_score(y_test, y_pred),f1_score(y_test, y_pred)))"
      ],
      "execution_count": null,
      "outputs": [
        {
          "output_type": "stream",
          "text": [
            "Accuracy: 0.56\n",
            "Recall: 0.00\n",
            "Precisión: 0.00\n",
            "F1: 0.00\n"
          ],
          "name": "stdout"
        }
      ]
    },
    {
      "cell_type": "markdown",
      "metadata": {
        "id": "55BLJCMGhXH8"
      },
      "source": [
        "En Random Forest se ejecutan varios algoritmos de árbol de decisiones en lugar de uno solo. Para clasificar un nuevo objeto basado en atributos, cada árbol de decisión da una clasificación y finalmente la decisión con mayor “votos” es la predicción del algoritmo."
      ]
    },
    {
      "cell_type": "markdown",
      "metadata": {
        "id": "Cjje3jXHkXIK"
      },
      "source": [
        "### LDA"
      ]
    },
    {
      "cell_type": "code",
      "metadata": {
        "colab": {
          "base_uri": "https://localhost:8080/"
        },
        "id": "4jR4zHLGkYUC",
        "outputId": "09428baf-5131-449f-979a-75be010092bf"
      },
      "source": [
        "from sklearn.discriminant_analysis import LinearDiscriminantAnalysis\n",
        "lda = LinearDiscriminantAnalysis()\n",
        "lda.fit(X_train_std, y_train)\n",
        "y_pred = lda.predict(X_test_std)\n",
        "print('Accuracy: %.2f' % accuracy_score(y_test, y_pred))\n",
        "print('Recall: %.2f' % recall_score(y_test, y_pred))\n",
        "print('Precisión: %.2f' % precision_score(y_test, y_pred))\n",
        "print('F1: %.2f' % f1_score(y_test, y_pred))\n",
        "metricas.append((accuracy_score(y_test, y_pred),recall_score(y_test, y_pred),precision_score(y_test, y_pred),f1_score(y_test, y_pred)))"
      ],
      "execution_count": null,
      "outputs": [
        {
          "output_type": "stream",
          "text": [
            "Accuracy: 0.61\n",
            "Recall: 0.20\n",
            "Precisión: 0.25\n",
            "F1: 0.22\n"
          ],
          "name": "stdout"
        }
      ]
    },
    {
      "cell_type": "markdown",
      "metadata": {
        "id": "XfNShv1Kgs_Z"
      },
      "source": [
        "LDA es un método de clasificación supervisado de variables cualitativas en el que dos o más grupos son conocidos a priori y nuevas observaciones se clasifican en uno de ellos en función de sus características. Haciendo uso del teorema de Bayes, LDA estima la probabilidad de que una observación, dado un determinado valor de los predictores, pertenezca a cada una de las clases de la variable cualitativa, $P(Y=k|X=x)$. Finalmente se asigna la observación a la clase k para la que la probabilidad predicha es mayor."
      ]
    },
    {
      "cell_type": "markdown",
      "metadata": {
        "id": "4nOQoG5GlYaX"
      },
      "source": [
        "### QDA"
      ]
    },
    {
      "cell_type": "code",
      "metadata": {
        "colab": {
          "base_uri": "https://localhost:8080/"
        },
        "id": "WECn3KtLkqXU",
        "outputId": "d0d9b233-a088-49a7-b1ca-778979e1cd03"
      },
      "source": [
        "from sklearn.discriminant_analysis import QuadraticDiscriminantAnalysis\n",
        "qda = QuadraticDiscriminantAnalysis()\n",
        "qda.fit(X_train_std, y_train)\n",
        "y_pred = qda.predict(X_test_std)\n",
        "print('Accuracy: %.2f' % accuracy_score(y_test, y_pred))\n",
        "print('Recall: %.2f' % recall_score(y_test, y_pred))\n",
        "print('Precisión: %.2f' % precision_score(y_test, y_pred))\n",
        "print('F1: %.2f' % f1_score(y_test, y_pred))\n",
        "metricas.append((accuracy_score(y_test, y_pred),recall_score(y_test, y_pred),precision_score(y_test, y_pred),f1_score(y_test, y_pred)))"
      ],
      "execution_count": null,
      "outputs": [
        {
          "output_type": "stream",
          "text": [
            "Accuracy: 0.72\n",
            "Recall: 0.20\n",
            "Precisión: 0.50\n",
            "F1: 0.29\n"
          ],
          "name": "stdout"
        },
        {
          "output_type": "stream",
          "text": [
            "/usr/local/lib/python3.6/dist-packages/sklearn/discriminant_analysis.py:691: UserWarning: Variables are collinear\n",
            "  warnings.warn(\"Variables are collinear\")\n"
          ],
          "name": "stderr"
        }
      ]
    },
    {
      "cell_type": "markdown",
      "metadata": {
        "id": "se9vuTfBg6KQ"
      },
      "source": [
        "QDA se asemeja en gran medida al LDA, con la única diferencia de que el QDA considera que cada clase k tiene su propia matriz de covarianza ($\\Sigma_k$) y, como consecuencia, la función discriminante toma forma cuadrática."
      ]
    },
    {
      "cell_type": "markdown",
      "metadata": {
        "id": "pzbSI1owlaHd"
      },
      "source": [
        "### SVM (lineal)"
      ]
    },
    {
      "cell_type": "code",
      "metadata": {
        "colab": {
          "base_uri": "https://localhost:8080/"
        },
        "id": "CQfSOr-Ik3hD",
        "outputId": "07911dbb-c0a9-431b-8690-934618eab703"
      },
      "source": [
        "from sklearn.svm import SVC\n",
        "svm = SVC(kernel = 'linear')\n",
        "svm.fit(X_train_std, y_train)\n",
        "y_pred = svm.predict(X_test_std)\n",
        "print('Accuracy: %.2f' % accuracy_score(y_test, y_pred))\n",
        "print('Recall: %.2f' % recall_score(y_test, y_pred))\n",
        "print('Precisión: %.2f' % precision_score(y_test, y_pred))\n",
        "print('F1: %.2f' % f1_score(y_test, y_pred))\n",
        "metricas.append((accuracy_score(y_test, y_pred),recall_score(y_test, y_pred),precision_score(y_test, y_pred),f1_score(y_test, y_pred)))"
      ],
      "execution_count": null,
      "outputs": [
        {
          "output_type": "stream",
          "text": [
            "Accuracy: 0.61\n",
            "Recall: 0.20\n",
            "Precisión: 0.25\n",
            "F1: 0.22\n"
          ],
          "name": "stdout"
        }
      ]
    },
    {
      "cell_type": "markdown",
      "metadata": {
        "id": "H0iaySou2q1N"
      },
      "source": [
        "Se presenta cada dato como un punto que corresponde a un vector de *p*-dimensional, el algoritmo busca un hiperplano que separe de manera óptima a los puntos de una clase de la otra. El hiperplano se define haciendo uso de las características (no de la variable predictora), en el proceso se definen vectores de soporte, que representan la distancia entre un hiperplano y un conjunto de puntos, la cual es la máxima posible."
      ]
    },
    {
      "cell_type": "markdown",
      "metadata": {
        "id": "38Gk_XwHlckT"
      },
      "source": [
        "### SVM (radio basal)"
      ]
    },
    {
      "cell_type": "code",
      "metadata": {
        "colab": {
          "base_uri": "https://localhost:8080/"
        },
        "id": "i2lUuYTRlbyY",
        "outputId": "ed98e28d-760f-45ec-eed9-44d86c4763ed"
      },
      "source": [
        "from sklearn.svm import SVC\n",
        "svm = SVC(kernel = 'rbf')\n",
        "svm.fit(X_train_std, y_train)\n",
        "y_pred = svm.predict(X_test_std)\n",
        "print('Accuracy: %.2f' % accuracy_score(y_test, y_pred))\n",
        "print('Recall: %.2f' % recall_score(y_test, y_pred))\n",
        "print('Precisión: %.2f' % precision_score(y_test, y_pred))\n",
        "print('F1: %.2f' % f1_score(y_test, y_pred))\n",
        "metricas.append((accuracy_score(y_test, y_pred),recall_score(y_test, y_pred),precision_score(y_test, y_pred),f1_score(y_test, y_pred)))"
      ],
      "execution_count": null,
      "outputs": [
        {
          "output_type": "stream",
          "text": [
            "Accuracy: 0.72\n",
            "Recall: 0.00\n",
            "Precisión: 0.00\n",
            "F1: 0.00\n"
          ],
          "name": "stdout"
        },
        {
          "output_type": "stream",
          "text": [
            "/usr/local/lib/python3.6/dist-packages/sklearn/metrics/_classification.py:1272: UndefinedMetricWarning: Precision is ill-defined and being set to 0.0 due to no predicted samples. Use `zero_division` parameter to control this behavior.\n",
            "  _warn_prf(average, modifier, msg_start, len(result))\n"
          ],
          "name": "stderr"
        }
      ]
    },
    {
      "cell_type": "markdown",
      "metadata": {
        "id": "NKR1NGPgJWWn"
      },
      "source": [
        "Posee el mismo comportamiento que SVM lineal, solo que utiliza una función de radio basal para calcular las distancias, la cual se muestra a continuación:\n",
        "\n",
        "$K(\\mathbf {x} ,\\mathbf {x’} )=\\exp \\left(-{\\frac {||\\mathbf {x} -\\mathbf {x’} ||^{2}}{2\\sigma ^{2}}}\\right)$\n",
        "\n",
        "Además hace uso de 2 parámetros *gamma* y *c*, donde *gamma* indica que tanta influencia tiene el set de entrenamiento y *c* condiciona el margen con el que se clasifica en conjuntos un elemento.\n"
      ]
    },
    {
      "cell_type": "markdown",
      "metadata": {
        "id": "08g4eR_gl4L3"
      },
      "source": [
        "### Multi-Layer Perceptron"
      ]
    },
    {
      "cell_type": "code",
      "metadata": {
        "colab": {
          "base_uri": "https://localhost:8080/"
        },
        "id": "m5tTLm6Ulp_K",
        "outputId": "d3c335c5-e11a-454d-9dd4-a6306683400d"
      },
      "source": [
        "from sklearn.neural_network import MLPClassifier\n",
        "mlp = MLPClassifier(random_state=1, max_iter=500)\n",
        "mlp.fit(X_train_std, y_train)\n",
        "y_pred = mlp.predict(X_test_std)\n",
        "print('Accuracy: %.2f' % accuracy_score(y_test, y_pred))\n",
        "print('Recall: %.2f' % recall_score(y_test, y_pred))\n",
        "print('Precisión: %.2f' % precision_score(y_test, y_pred))\n",
        "print('F1: %.2f' % f1_score(y_test, y_pred))\n",
        "metricas.append((accuracy_score(y_test, y_pred),recall_score(y_test, y_pred),precision_score(y_test, y_pred),f1_score(y_test, y_pred)))"
      ],
      "execution_count": null,
      "outputs": [
        {
          "output_type": "stream",
          "text": [
            "Accuracy: 0.56\n",
            "Recall: 0.20\n",
            "Precisión: 0.20\n",
            "F1: 0.20\n"
          ],
          "name": "stdout"
        }
      ]
    },
    {
      "cell_type": "markdown",
      "metadata": {
        "id": "7GBPnNI_5wZX"
      },
      "source": [
        "Corresponde a un método basado en redes neuronales, que consiste en 3 capas de nodos, que corresponden a *input*, *hidden* y *output*, en todas las capas menos la de *input* los nodos corresponden a neuronas con una función de activación no lineal, lo cual lo distingue del simple método de perceptron. "
      ]
    },
    {
      "cell_type": "markdown",
      "metadata": {
        "id": "u4ltSVkJ3dTB"
      },
      "source": [
        "## Métricas\n"
      ]
    },
    {
      "cell_type": "markdown",
      "metadata": {
        "id": "3IKVD7lUUcxf"
      },
      "source": [
        "En la siguiente tabla se muestran las métricas de cada método "
      ]
    },
    {
      "cell_type": "code",
      "metadata": {
        "colab": {
          "base_uri": "https://localhost:8080/",
          "height": 542
        },
        "id": "EikMPZZU3hHr",
        "outputId": "fde5a9f2-fc30-4f69-b993-b5da0c6978e6"
      },
      "source": [
        "import plotly.graph_objects as go\n",
        "metodos = [\"Perceptron\",\"Árboles de decisión\",\"Regresión logística\",\"K-Nearest Neighbors\",\"Random Forest\",\"LDA\",\"QDA\",\"SVM (lineal)\",\"SVM (radio basal)\",\"Multi-layer perceptron\"]\n",
        "accuracy = []\n",
        "recall = []\n",
        "precision = []\n",
        "f1 = []\n",
        "tasa_e = []\n",
        "for i in np.arange(10):\n",
        "  accuracy.append(metricas[i][0])\n",
        "  tasa_e.append(1-metricas[i][0])\n",
        "  recall.append(metricas[i][1])\n",
        "  precision.append(metricas[i][2])\n",
        "  f1.append(metricas[i][3])\n",
        "\n",
        "fig = go.Figure(data=[go.Table(header=dict(values=[\"Métodos\",\"Accuracy\",\"Tasa de error\",\"Recall (Sensibilidad)\",\"Precisión\",\"F1\"]),\n",
        "                 cells=dict(values=[metodos,accuracy,tasa_e,recall,precision,f1,]))\n",
        "                     ])\n",
        "fig.show()\n"
      ],
      "execution_count": null,
      "outputs": [
        {
          "output_type": "display_data",
          "data": {
            "text/html": [
              "<html>\n",
              "<head><meta charset=\"utf-8\" /></head>\n",
              "<body>\n",
              "    <div>\n",
              "            <script src=\"https://cdnjs.cloudflare.com/ajax/libs/mathjax/2.7.5/MathJax.js?config=TeX-AMS-MML_SVG\"></script><script type=\"text/javascript\">if (window.MathJax) {MathJax.Hub.Config({SVG: {font: \"STIX-Web\"}});}</script>\n",
              "                <script type=\"text/javascript\">window.PlotlyConfig = {MathJaxConfig: 'local'};</script>\n",
              "        <script src=\"https://cdn.plot.ly/plotly-latest.min.js\"></script>    \n",
              "            <div id=\"14b79f2d-8ff4-46f2-8f4b-a8b1a4a87be8\" class=\"plotly-graph-div\" style=\"height:525px; width:100%;\"></div>\n",
              "            <script type=\"text/javascript\">\n",
              "                \n",
              "                    window.PLOTLYENV=window.PLOTLYENV || {};\n",
              "                    \n",
              "                if (document.getElementById(\"14b79f2d-8ff4-46f2-8f4b-a8b1a4a87be8\")) {\n",
              "                    Plotly.newPlot(\n",
              "                        '14b79f2d-8ff4-46f2-8f4b-a8b1a4a87be8',\n",
              "                        [{\"cells\": {\"values\": [[\"Perceptron\", \"\\u00c1rboles de decisi\\u00f3n\", \"Regresi\\u00f3n log\\u00edstica\", \"K-Nearest Neighbors\", \"Random Forest\", \"LDA\", \"QDA\", \"SVM (lineal)\", \"SVM (radio basal)\", \"Multi-layer perceptron\"], [0.6666666666666666, 0.2777777777777778, 0.6666666666666666, 0.6111111111111112, 0.5555555555555556, 0.6111111111111112, 0.7222222222222222, 0.6111111111111112, 0.7222222222222222, 0.5555555555555556], [0.33333333333333337, 0.7222222222222222, 0.33333333333333337, 0.38888888888888884, 0.4444444444444444, 0.38888888888888884, 0.2777777777777778, 0.38888888888888884, 0.2777777777777778, 0.4444444444444444], [0.2, 0.0, 0.2, 0.0, 0.0, 0.2, 0.2, 0.2, 0.0, 0.2], [0.3333333333333333, 0.0, 0.3333333333333333, 0.0, 0.0, 0.25, 0.5, 0.25, 0.0, 0.2], [0.25, 0.0, 0.25, 0.0, 0.0, 0.22222222222222224, 0.28571428571428575, 0.22222222222222224, 0.0, 0.20000000000000004]]}, \"header\": {\"values\": [\"M\\u00e9todos\", \"Accuracy\", \"Tasa de error\", \"Recall (Sensibilidad)\", \"Precisi\\u00f3n\", \"F1\"]}, \"type\": \"table\"}],\n",
              "                        {\"template\": {\"data\": {\"bar\": [{\"error_x\": {\"color\": \"#2a3f5f\"}, \"error_y\": {\"color\": \"#2a3f5f\"}, \"marker\": {\"line\": {\"color\": \"#E5ECF6\", \"width\": 0.5}}, \"type\": \"bar\"}], \"barpolar\": [{\"marker\": {\"line\": {\"color\": \"#E5ECF6\", \"width\": 0.5}}, \"type\": \"barpolar\"}], \"carpet\": [{\"aaxis\": {\"endlinecolor\": \"#2a3f5f\", \"gridcolor\": \"white\", \"linecolor\": \"white\", \"minorgridcolor\": \"white\", \"startlinecolor\": \"#2a3f5f\"}, \"baxis\": {\"endlinecolor\": \"#2a3f5f\", \"gridcolor\": \"white\", \"linecolor\": \"white\", \"minorgridcolor\": \"white\", \"startlinecolor\": \"#2a3f5f\"}, \"type\": \"carpet\"}], \"choropleth\": [{\"colorbar\": {\"outlinewidth\": 0, \"ticks\": \"\"}, \"type\": \"choropleth\"}], \"contour\": [{\"colorbar\": {\"outlinewidth\": 0, \"ticks\": \"\"}, \"colorscale\": [[0.0, \"#0d0887\"], [0.1111111111111111, \"#46039f\"], [0.2222222222222222, \"#7201a8\"], [0.3333333333333333, \"#9c179e\"], [0.4444444444444444, \"#bd3786\"], [0.5555555555555556, \"#d8576b\"], [0.6666666666666666, \"#ed7953\"], [0.7777777777777778, \"#fb9f3a\"], [0.8888888888888888, \"#fdca26\"], [1.0, \"#f0f921\"]], \"type\": \"contour\"}], \"contourcarpet\": [{\"colorbar\": {\"outlinewidth\": 0, \"ticks\": \"\"}, \"type\": \"contourcarpet\"}], \"heatmap\": [{\"colorbar\": {\"outlinewidth\": 0, \"ticks\": \"\"}, \"colorscale\": [[0.0, \"#0d0887\"], [0.1111111111111111, \"#46039f\"], [0.2222222222222222, \"#7201a8\"], [0.3333333333333333, \"#9c179e\"], [0.4444444444444444, \"#bd3786\"], [0.5555555555555556, \"#d8576b\"], [0.6666666666666666, \"#ed7953\"], [0.7777777777777778, \"#fb9f3a\"], [0.8888888888888888, \"#fdca26\"], [1.0, \"#f0f921\"]], \"type\": \"heatmap\"}], \"heatmapgl\": [{\"colorbar\": {\"outlinewidth\": 0, \"ticks\": \"\"}, \"colorscale\": [[0.0, \"#0d0887\"], [0.1111111111111111, \"#46039f\"], [0.2222222222222222, \"#7201a8\"], [0.3333333333333333, \"#9c179e\"], [0.4444444444444444, \"#bd3786\"], [0.5555555555555556, \"#d8576b\"], [0.6666666666666666, \"#ed7953\"], [0.7777777777777778, \"#fb9f3a\"], [0.8888888888888888, \"#fdca26\"], [1.0, \"#f0f921\"]], \"type\": \"heatmapgl\"}], \"histogram\": [{\"marker\": {\"colorbar\": {\"outlinewidth\": 0, \"ticks\": \"\"}}, \"type\": \"histogram\"}], \"histogram2d\": [{\"colorbar\": {\"outlinewidth\": 0, \"ticks\": \"\"}, \"colorscale\": [[0.0, \"#0d0887\"], [0.1111111111111111, \"#46039f\"], [0.2222222222222222, \"#7201a8\"], [0.3333333333333333, \"#9c179e\"], [0.4444444444444444, \"#bd3786\"], [0.5555555555555556, \"#d8576b\"], [0.6666666666666666, \"#ed7953\"], [0.7777777777777778, \"#fb9f3a\"], [0.8888888888888888, \"#fdca26\"], [1.0, \"#f0f921\"]], \"type\": \"histogram2d\"}], \"histogram2dcontour\": [{\"colorbar\": {\"outlinewidth\": 0, \"ticks\": \"\"}, \"colorscale\": [[0.0, \"#0d0887\"], [0.1111111111111111, \"#46039f\"], [0.2222222222222222, \"#7201a8\"], [0.3333333333333333, \"#9c179e\"], [0.4444444444444444, \"#bd3786\"], [0.5555555555555556, \"#d8576b\"], [0.6666666666666666, \"#ed7953\"], [0.7777777777777778, \"#fb9f3a\"], [0.8888888888888888, \"#fdca26\"], [1.0, \"#f0f921\"]], \"type\": \"histogram2dcontour\"}], \"mesh3d\": [{\"colorbar\": {\"outlinewidth\": 0, \"ticks\": \"\"}, \"type\": \"mesh3d\"}], \"parcoords\": [{\"line\": {\"colorbar\": {\"outlinewidth\": 0, \"ticks\": \"\"}}, \"type\": \"parcoords\"}], \"pie\": [{\"automargin\": true, \"type\": \"pie\"}], \"scatter\": [{\"marker\": {\"colorbar\": {\"outlinewidth\": 0, \"ticks\": \"\"}}, \"type\": \"scatter\"}], \"scatter3d\": [{\"line\": {\"colorbar\": {\"outlinewidth\": 0, \"ticks\": \"\"}}, \"marker\": {\"colorbar\": {\"outlinewidth\": 0, \"ticks\": \"\"}}, \"type\": \"scatter3d\"}], \"scattercarpet\": [{\"marker\": {\"colorbar\": {\"outlinewidth\": 0, \"ticks\": \"\"}}, \"type\": \"scattercarpet\"}], \"scattergeo\": [{\"marker\": {\"colorbar\": {\"outlinewidth\": 0, \"ticks\": \"\"}}, \"type\": \"scattergeo\"}], \"scattergl\": [{\"marker\": {\"colorbar\": {\"outlinewidth\": 0, \"ticks\": \"\"}}, \"type\": \"scattergl\"}], \"scattermapbox\": [{\"marker\": {\"colorbar\": {\"outlinewidth\": 0, \"ticks\": \"\"}}, \"type\": \"scattermapbox\"}], \"scatterpolar\": [{\"marker\": {\"colorbar\": {\"outlinewidth\": 0, \"ticks\": \"\"}}, \"type\": \"scatterpolar\"}], \"scatterpolargl\": [{\"marker\": {\"colorbar\": {\"outlinewidth\": 0, \"ticks\": \"\"}}, \"type\": \"scatterpolargl\"}], \"scatterternary\": [{\"marker\": {\"colorbar\": {\"outlinewidth\": 0, \"ticks\": \"\"}}, \"type\": \"scatterternary\"}], \"surface\": [{\"colorbar\": {\"outlinewidth\": 0, \"ticks\": \"\"}, \"colorscale\": [[0.0, \"#0d0887\"], [0.1111111111111111, \"#46039f\"], [0.2222222222222222, \"#7201a8\"], [0.3333333333333333, \"#9c179e\"], [0.4444444444444444, \"#bd3786\"], [0.5555555555555556, \"#d8576b\"], [0.6666666666666666, \"#ed7953\"], [0.7777777777777778, \"#fb9f3a\"], [0.8888888888888888, \"#fdca26\"], [1.0, \"#f0f921\"]], \"type\": \"surface\"}], \"table\": [{\"cells\": {\"fill\": {\"color\": \"#EBF0F8\"}, \"line\": {\"color\": \"white\"}}, \"header\": {\"fill\": {\"color\": \"#C8D4E3\"}, \"line\": {\"color\": \"white\"}}, \"type\": \"table\"}]}, \"layout\": {\"annotationdefaults\": {\"arrowcolor\": \"#2a3f5f\", \"arrowhead\": 0, \"arrowwidth\": 1}, \"coloraxis\": {\"colorbar\": {\"outlinewidth\": 0, \"ticks\": \"\"}}, \"colorscale\": {\"diverging\": [[0, \"#8e0152\"], [0.1, \"#c51b7d\"], [0.2, \"#de77ae\"], [0.3, \"#f1b6da\"], [0.4, \"#fde0ef\"], [0.5, \"#f7f7f7\"], [0.6, \"#e6f5d0\"], [0.7, \"#b8e186\"], [0.8, \"#7fbc41\"], [0.9, \"#4d9221\"], [1, \"#276419\"]], \"sequential\": [[0.0, \"#0d0887\"], [0.1111111111111111, \"#46039f\"], [0.2222222222222222, \"#7201a8\"], [0.3333333333333333, \"#9c179e\"], [0.4444444444444444, \"#bd3786\"], [0.5555555555555556, \"#d8576b\"], [0.6666666666666666, \"#ed7953\"], [0.7777777777777778, \"#fb9f3a\"], [0.8888888888888888, \"#fdca26\"], [1.0, \"#f0f921\"]], \"sequentialminus\": [[0.0, \"#0d0887\"], [0.1111111111111111, \"#46039f\"], [0.2222222222222222, \"#7201a8\"], [0.3333333333333333, \"#9c179e\"], [0.4444444444444444, \"#bd3786\"], [0.5555555555555556, \"#d8576b\"], [0.6666666666666666, \"#ed7953\"], [0.7777777777777778, \"#fb9f3a\"], [0.8888888888888888, \"#fdca26\"], [1.0, \"#f0f921\"]]}, \"colorway\": [\"#636efa\", \"#EF553B\", \"#00cc96\", \"#ab63fa\", \"#FFA15A\", \"#19d3f3\", \"#FF6692\", \"#B6E880\", \"#FF97FF\", \"#FECB52\"], \"font\": {\"color\": \"#2a3f5f\"}, \"geo\": {\"bgcolor\": \"white\", \"lakecolor\": \"white\", \"landcolor\": \"#E5ECF6\", \"showlakes\": true, \"showland\": true, \"subunitcolor\": \"white\"}, \"hoverlabel\": {\"align\": \"left\"}, \"hovermode\": \"closest\", \"mapbox\": {\"style\": \"light\"}, \"paper_bgcolor\": \"white\", \"plot_bgcolor\": \"#E5ECF6\", \"polar\": {\"angularaxis\": {\"gridcolor\": \"white\", \"linecolor\": \"white\", \"ticks\": \"\"}, \"bgcolor\": \"#E5ECF6\", \"radialaxis\": {\"gridcolor\": \"white\", \"linecolor\": \"white\", \"ticks\": \"\"}}, \"scene\": {\"xaxis\": {\"backgroundcolor\": \"#E5ECF6\", \"gridcolor\": \"white\", \"gridwidth\": 2, \"linecolor\": \"white\", \"showbackground\": true, \"ticks\": \"\", \"zerolinecolor\": \"white\"}, \"yaxis\": {\"backgroundcolor\": \"#E5ECF6\", \"gridcolor\": \"white\", \"gridwidth\": 2, \"linecolor\": \"white\", \"showbackground\": true, \"ticks\": \"\", \"zerolinecolor\": \"white\"}, \"zaxis\": {\"backgroundcolor\": \"#E5ECF6\", \"gridcolor\": \"white\", \"gridwidth\": 2, \"linecolor\": \"white\", \"showbackground\": true, \"ticks\": \"\", \"zerolinecolor\": \"white\"}}, \"shapedefaults\": {\"line\": {\"color\": \"#2a3f5f\"}}, \"ternary\": {\"aaxis\": {\"gridcolor\": \"white\", \"linecolor\": \"white\", \"ticks\": \"\"}, \"baxis\": {\"gridcolor\": \"white\", \"linecolor\": \"white\", \"ticks\": \"\"}, \"bgcolor\": \"#E5ECF6\", \"caxis\": {\"gridcolor\": \"white\", \"linecolor\": \"white\", \"ticks\": \"\"}}, \"title\": {\"x\": 0.05}, \"xaxis\": {\"automargin\": true, \"gridcolor\": \"white\", \"linecolor\": \"white\", \"ticks\": \"\", \"title\": {\"standoff\": 15}, \"zerolinecolor\": \"white\", \"zerolinewidth\": 2}, \"yaxis\": {\"automargin\": true, \"gridcolor\": \"white\", \"linecolor\": \"white\", \"ticks\": \"\", \"title\": {\"standoff\": 15}, \"zerolinecolor\": \"white\", \"zerolinewidth\": 2}}}},\n",
              "                        {\"responsive\": true}\n",
              "                    ).then(function(){\n",
              "                            \n",
              "var gd = document.getElementById('14b79f2d-8ff4-46f2-8f4b-a8b1a4a87be8');\n",
              "var x = new MutationObserver(function (mutations, observer) {{\n",
              "        var display = window.getComputedStyle(gd).display;\n",
              "        if (!display || display === 'none') {{\n",
              "            console.log([gd, 'removed!']);\n",
              "            Plotly.purge(gd);\n",
              "            observer.disconnect();\n",
              "        }}\n",
              "}});\n",
              "\n",
              "// Listen for the removal of the full notebook cells\n",
              "var notebookContainer = gd.closest('#notebook-container');\n",
              "if (notebookContainer) {{\n",
              "    x.observe(notebookContainer, {childList: true});\n",
              "}}\n",
              "\n",
              "// Listen for the clearing of the current output cell\n",
              "var outputEl = gd.closest('.output');\n",
              "if (outputEl) {{\n",
              "    x.observe(outputEl, {childList: true});\n",
              "}}\n",
              "\n",
              "                        })\n",
              "                };\n",
              "                \n",
              "            </script>\n",
              "        </div>\n",
              "</body>\n",
              "</html>"
            ]
          },
          "metadata": {
            "tags": []
          }
        }
      ]
    },
    {
      "cell_type": "markdown",
      "metadata": {
        "id": "S-9bAC9qUlyh"
      },
      "source": [
        "Podemos saber cuáles métodos poseen un mejor desempeño en base a sus indicadores:\n",
        "\n",
        "\n",
        "*   Los métodos con mejor *Accuracy* son *SVM* (radio basal) y *QDA* , además de muy cerca lo siguen *Perceptron* y *Regresión Logística* (se puede realizar el mismo análisis con la Tasa de error pero buscando las cifras menores).\n",
        "*   Con respecto a la sensibilidad, la mayoría de los métodos comparten la misma, excepto *Árboles de decisión*, *K-Nearest neighbors*, *Random forest* y *SVM* (radio basal) que poseen menor desempeño.\n",
        "*   En cuanto a la precisión, se nota que el mejor desempeño lo posee *QDA*, siguiendo por mucho más abajo *Perceptron* y *Regresión logística*.\n",
        "*   Con respecto al indicador F1 nuevamente *QDA* presenta un mejor desempeño.\n",
        "\n",
        "Por lo que, se puede concluir en base a la tabla que el método *QDA* presenta un mejor desempeño con respecto a los otros métodos, debido a que muestra mejores resultados en sus indicadores, no solo en Accuracy, sino que también en Sensibilidad, lo cuál es importante para detectar casos positivos (lo cual es bastante relevante en el contexto de salud).\n",
        "\n"
      ]
    },
    {
      "cell_type": "markdown",
      "metadata": {
        "id": "KmT5uu4SclHZ"
      },
      "source": [
        "## Clustering"
      ]
    },
    {
      "cell_type": "markdown",
      "metadata": {
        "id": "Si_4GWYNYIsd"
      },
      "source": [
        "Realizar un estudio comparativo del desempeño de las técnicas de clustering: K-Means, Single-Linkage, Ward, DBSCAN. Obtener los indicadores de desempeño más relevantes. "
      ]
    },
    {
      "cell_type": "code",
      "metadata": {
        "id": "S3YWVp77EhQd"
      },
      "source": [
        "from sklearn import cluster # Técnica de Clustering\n",
        "from sklearn import datasets # Conjuntos de Datos Sinteticos\n",
        "from sklearn.neighbors import kneighbors_graph # Técnica de k-Vecino mas cercano\n",
        "from sklearn.preprocessing import StandardScaler # Ténica para reescalar los datos\n",
        "from sklearn import metrics\n",
        "import time   # Calculo de tiempos de ejecución\n",
        "colors = np.array([x for x in 'bgrcmykbgrcmykbgrcmykbgrcmyk'])\n",
        "colors = np.hstack([colors] * 20)\n",
        "metrics_cluster = []"
      ],
      "execution_count": null,
      "outputs": []
    },
    {
      "cell_type": "markdown",
      "metadata": {
        "id": "xtPWlAv0DInj"
      },
      "source": [
        "Las variables ha utilizar en el proceso de clustering son \"Age\" y \"Smoke_years\""
      ]
    },
    {
      "cell_type": "markdown",
      "metadata": {
        "id": "YtMwwbLpYKO6"
      },
      "source": [
        "### K-Means"
      ]
    },
    {
      "cell_type": "code",
      "metadata": {
        "id": "LgyuRC7MTz0g"
      },
      "source": [
        "import seaborn as sb\n",
        "from sklearn.cluster import KMeans\n",
        "from sklearn.metrics import pairwise_distances_argmin_min\n",
        "\n",
        "new_X = np.array(df[[\"Age\",\"Smokes (years)\"]])\n",
        "\n"
      ],
      "execution_count": null,
      "outputs": []
    },
    {
      "cell_type": "code",
      "metadata": {
        "colab": {
          "base_uri": "https://localhost:8080/",
          "height": 399
        },
        "id": "XKxSNIZaZIvh",
        "outputId": "61fdf4f0-eaf3-4f18-8234-c3c0a6ee0788"
      },
      "source": [
        "algoritmo = cluster.KMeans(n_clusters=4)\n",
        "t0 = time.time()\n",
        "algoritmo.fit(new_X)\n",
        "t1 = time.time()\n",
        "tiempo_ajuste = t1 - t0\n",
        "print(\"Tiempo de Ajuste:\", tiempo_ajuste)\n",
        "\n",
        "# Predicting the clusters\n",
        "labels = algoritmo.predict(new_X)\n",
        "# Getting the cluster centers\n",
        "C = algoritmo.cluster_centers_\n",
        "colores=['red','green','blue','cyan']\n",
        "asignar=[]\n",
        "for row in labels:\n",
        "    asignar.append(colores[row])\n",
        "\n",
        "y_pred = algoritmo.labels_.astype(np.int)\n",
        "plt.scatter(new_X[:, 0], new_X[:, 1], c=asignar, s=70)\n",
        "centros = algoritmo.cluster_centers_\n",
        "plt.scatter(centros[:, 0], centros[:, 1], marker='*', s=1000, c=['red','green','blue','cyan'])\n",
        "\n",
        "labels = y_pred\n",
        "labels_true = y\n",
        "# Number of clusters in labels, ignoring noise if present.\n",
        "n_clusters_ = len(set(labels)) - (1 if -1 in labels else 0)\n",
        "\n",
        "print('Estimated number of clusters: %d' % n_clusters_)\n",
        "print(\"Homogeneity: %0.6f\" % metrics.homogeneity_score(labels_true, labels))\n",
        "print(\"Completeness: %0.6f\" % metrics.completeness_score(labels_true, labels))\n",
        "print(\"V-measure: %0.6f\" % metrics.v_measure_score(labels_true, labels))\n",
        "print(\"Adjusted Rand Index: %0.6f\"\n",
        "      % metrics.adjusted_rand_score(labels_true, labels))\n",
        "print(\"Adjusted Mutual Information: %0.6f\"\n",
        "      % metrics.adjusted_mutual_info_score(labels_true, labels))\n",
        "print(\"Silhouette Coefficient: %0.6f\"\n",
        "      % metrics.silhouette_score(X, labels))\n",
        "metrics_cluster.append((tiempo_ajuste,n_clusters_,metrics.homogeneity_score(labels_true, labels),metrics.completeness_score(labels_true, labels),metrics.v_measure_score(labels_true, labels),metrics.adjusted_rand_score(labels_true, labels),metrics.adjusted_mutual_info_score(labels_true, labels),metrics.silhouette_score(X, labels)))"
      ],
      "execution_count": null,
      "outputs": [
        {
          "output_type": "stream",
          "text": [
            "Tiempo de Ajuste: 0.02395153045654297\n",
            "Estimated number of clusters: 4\n",
            "Homogeneity: 0.072662\n",
            "Completeness: 0.030902\n",
            "V-measure: 0.043362\n",
            "Adjusted Rand Index: -0.005911\n",
            "Adjusted Mutual Information: 0.014420\n",
            "Silhouette Coefficient: 0.218290\n"
          ],
          "name": "stdout"
        },
        {
          "output_type": "display_data",
          "data": {
            "image/png": "[encoded data removed]",
            "text/plain": [
              "<Figure size 432x288 with 1 Axes>"
            ]
          },
          "metadata": {
            "tags": [],
            "needs_background": "light"
          }
        }
      ]
    },
    {
      "cell_type": "markdown",
      "metadata": {
        "id": "FtVb-N4sYMM8"
      },
      "source": [
        "### Single-Linkage"
      ]
    },
    {
      "cell_type": "code",
      "metadata": {
        "colab": {
          "base_uri": "https://localhost:8080/",
          "height": 382
        },
        "id": "aKtri7gdYOBL",
        "outputId": "0f923be3-bebc-4bd8-9ab4-f56e698dc85a"
      },
      "source": [
        "algoritmo = cluster.AgglomerativeClustering(linkage=\"single\", \n",
        "                                            affinity=\"euclidean\", \n",
        "                                            n_clusters=4)\n",
        "# Linkage: single, complete, average, ward\n",
        "# Affinity: “euclidean”, “l1”, “l2”, “manhattan”, \"cityblock\", “cosine”, o ‘precomputed’\n",
        "t0 = time.time()\n",
        "algoritmo.fit(new_X)\n",
        "t1 = time.time()\n",
        "\n",
        "y_pred = algoritmo.labels_.astype(np.int)\n",
        "\n",
        "plt.scatter(new_X[:, 0], new_X[:, 1], color=colors[y_pred].tolist(), s=70)\n",
        "\n",
        "labels = y_pred\n",
        "labels_true = y\n",
        "# Number of clusters in labels, ignoring noise if present.\n",
        "n_clusters_ = len(set(labels)) - (1 if -1 in labels else 0)\n",
        "\n",
        "print('Estimated number of clusters: %d' % n_clusters_)\n",
        "print(\"Homogeneity: %0.6f\" % metrics.homogeneity_score(labels_true, labels))\n",
        "print(\"Completeness: %0.6f\" % metrics.completeness_score(labels_true, labels))\n",
        "print(\"V-measure: %0.6f\" % metrics.v_measure_score(labels_true, labels))\n",
        "print(\"Adjusted Rand Index: %0.6f\"\n",
        "      % metrics.adjusted_rand_score(labels_true, labels))\n",
        "print(\"Adjusted Mutual Information: %0.6f\"\n",
        "      % metrics.adjusted_mutual_info_score(labels_true, labels))\n",
        "print(\"Silhouette Coefficient: %0.6f\"\n",
        "      % metrics.silhouette_score(X, labels))\n",
        "metrics_cluster.append((tiempo_ajuste,n_clusters_,metrics.homogeneity_score(labels_true, labels),metrics.completeness_score(labels_true, labels),metrics.v_measure_score(labels_true, labels),metrics.adjusted_rand_score(labels_true, labels),metrics.adjusted_mutual_info_score(labels_true, labels),metrics.silhouette_score(X, labels)))"
      ],
      "execution_count": null,
      "outputs": [
        {
          "output_type": "stream",
          "text": [
            "Estimated number of clusters: 4\n",
            "Homogeneity: 0.021791\n",
            "Completeness: 0.020836\n",
            "V-measure: 0.021303\n",
            "Adjusted Rand Index: -0.002546\n",
            "Adjusted Mutual Information: -0.030327\n",
            "Silhouette Coefficient: 0.187238\n"
          ],
          "name": "stdout"
        },
        {
          "output_type": "display_data",
          "data": {
            "image/png": "[encoded data removed]",
            "text/plain": [
              "<Figure size 432x288 with 1 Axes>"
            ]
          },
          "metadata": {
            "tags": [],
            "needs_background": "light"
          }
        }
      ]
    },
    {
      "cell_type": "markdown",
      "metadata": {
        "id": "IGbOgL5xYOoc"
      },
      "source": [
        "### DBSCAN"
      ]
    },
    {
      "cell_type": "code",
      "metadata": {
        "colab": {
          "base_uri": "https://localhost:8080/",
          "height": 298
        },
        "id": "Nuv--NsHYPQD",
        "outputId": "6d5919b9-900d-49f8-cba9-1bc1778e485f"
      },
      "source": [
        "algoritmo = cluster.DBSCAN(eps=2)\n",
        "\n",
        "t0 = time.time()\n",
        "algoritmo.fit(new_X)\n",
        "t1 = time.time()\n",
        "tiempo_ajuste = t1 - t0\n",
        "print(\"Tiempo de Ajuste:\", tiempo_ajuste)\n",
        "\n",
        "y_pred = algoritmo.labels_.astype(np.int)\n",
        "plt.scatter(new_X[:, 0], new_X[:, 1], color=colors[y_pred].tolist(), s=70)"
      ],
      "execution_count": null,
      "outputs": [
        {
          "output_type": "stream",
          "text": [
            "Tiempo de Ajuste: 0.0018057823181152344\n"
          ],
          "name": "stdout"
        },
        {
          "output_type": "execute_result",
          "data": {
            "text/plain": [
              "<matplotlib.collections.PathCollection at 0x7f53f01ed588>"
            ]
          },
          "metadata": {
            "tags": []
          },
          "execution_count": 29
        },
        {
          "output_type": "display_data",
          "data": {
            "image/png": "[encoded data removed]",
            "text/plain": [
              "<Figure size 432x288 with 1 Axes>"
            ]
          },
          "metadata": {
            "tags": [],
            "needs_background": "light"
          }
        }
      ]
    },
    {
      "cell_type": "code",
      "metadata": {
        "colab": {
          "base_uri": "https://localhost:8080/"
        },
        "id": "WyethQpHa-_-",
        "outputId": "a94b2285-03c5-48c4-8f2a-f6093cda8a4c"
      },
      "source": [
        "labels = algoritmo.labels_\n",
        "labels_true = y\n",
        "# Number of clusters in labels, ignoring noise if present.\n",
        "n_clusters_ = len(set(labels)) - (1 if -1 in labels else 0)\n",
        "\n",
        "print('Estimated number of clusters: %d' % n_clusters_)\n",
        "print(\"Homogeneity: %0.6f\" % metrics.homogeneity_score(labels_true, labels))\n",
        "print(\"Completeness: %0.6f\" % metrics.completeness_score(labels_true, labels))\n",
        "print(\"V-measure: %0.6f\" % metrics.v_measure_score(labels_true, labels))\n",
        "print(\"Adjusted Rand Index: %0.6f\"\n",
        "      % metrics.adjusted_rand_score(labels_true, labels))\n",
        "print(\"Adjusted Mutual Information: %0.6f\"\n",
        "      % metrics.adjusted_mutual_info_score(labels_true, labels))\n",
        "print(\"Silhouette Coefficient: %0.6f\"\n",
        "      % metrics.silhouette_score(X, labels))\n",
        "metrics_cluster.append((tiempo_ajuste,n_clusters_,metrics.homogeneity_score(labels_true, labels),metrics.completeness_score(labels_true, labels),metrics.v_measure_score(labels_true, labels),metrics.adjusted_rand_score(labels_true, labels),metrics.adjusted_mutual_info_score(labels_true, labels),metrics.silhouette_score(X, labels)))"
      ],
      "execution_count": null,
      "outputs": [
        {
          "output_type": "stream",
          "text": [
            "Estimated number of clusters: 4\n",
            "Homogeneity: 0.082062\n",
            "Completeness: 0.030677\n",
            "V-measure: 0.044659\n",
            "Adjusted Rand Index: -0.026555\n",
            "Adjusted Mutual Information: 0.008049\n",
            "Silhouette Coefficient: 0.105917\n"
          ],
          "name": "stdout"
        }
      ]
    },
    {
      "cell_type": "markdown",
      "metadata": {
        "id": "a5hdwMIxbjOP"
      },
      "source": [
        "### WARD"
      ]
    },
    {
      "cell_type": "code",
      "metadata": {
        "colab": {
          "base_uri": "https://localhost:8080/",
          "height": 399
        },
        "id": "pUjNW8qRbjy6",
        "outputId": "48d2cc46-793f-41eb-c0a8-3394b61355ef"
      },
      "source": [
        "connectivity = kneighbors_graph(X, n_neighbors=10, include_self=False)\n",
        "algoritmo = cluster.AgglomerativeClustering(n_clusters=4, linkage='ward',\n",
        "                                           connectivity=connectivity)\n",
        "t0 = time.time()\n",
        "algoritmo.fit(new_X)\n",
        "t1 = time.time()\n",
        "tiempo_ajuste = t1 - t0\n",
        "print(\"Tiempo de Ajuste:\", tiempo_ajuste)\n",
        "\n",
        "y_pred = algoritmo.labels_.astype(np.int)\n",
        "plt.scatter(new_X[:, 0], new_X[:, 1], color=colors[y_pred].tolist(), s=70)\n",
        "\n",
        "labels = y_pred\n",
        "labels_true = y\n",
        "# Number of clusters in labels, ignoring noise if present.\n",
        "n_clusters_ = len(set(labels)) - (1 if -1 in labels else 0)\n",
        "\n",
        "print('Estimated number of clusters: %d' % n_clusters_)\n",
        "print(\"Homogeneity: %0.6f\" % metrics.homogeneity_score(labels_true, labels))\n",
        "print(\"Completeness: %0.6f\" % metrics.completeness_score(labels_true, labels))\n",
        "print(\"V-measure: %0.6f\" % metrics.v_measure_score(labels_true, labels))\n",
        "print(\"Adjusted Rand Index: %0.6f\"\n",
        "      % metrics.adjusted_rand_score(labels_true, labels))\n",
        "print(\"Adjusted Mutual Information: %0.6f\"\n",
        "      % metrics.adjusted_mutual_info_score(labels_true, labels))\n",
        "print(\"Silhouette Coefficient: %0.6f\"\n",
        "      % metrics.silhouette_score(X, labels))\n",
        "metrics_cluster.append((tiempo_ajuste,n_clusters_,metrics.homogeneity_score(labels_true, labels),metrics.completeness_score(labels_true, labels),metrics.v_measure_score(labels_true, labels),metrics.adjusted_rand_score(labels_true, labels),metrics.adjusted_mutual_info_score(labels_true, labels),metrics.silhouette_score(X, labels)))"
      ],
      "execution_count": null,
      "outputs": [
        {
          "output_type": "stream",
          "text": [
            "Tiempo de Ajuste: 0.011034250259399414\n",
            "Estimated number of clusters: 4\n",
            "Homogeneity: 0.067335\n",
            "Completeness: 0.028101\n",
            "V-measure: 0.039653\n",
            "Adjusted Rand Index: -0.001087\n",
            "Adjusted Mutual Information: 0.011251\n",
            "Silhouette Coefficient: 0.209632\n"
          ],
          "name": "stdout"
        },
        {
          "output_type": "display_data",
          "data": {
            "image/png": "[encoded data removed]",
            "text/plain": [
              "<Figure size 432x288 with 1 Axes>"
            ]
          },
          "metadata": {
            "tags": [],
            "needs_background": "light"
          }
        }
      ]
    },
    {
      "cell_type": "code",
      "metadata": {
        "colab": {
          "base_uri": "https://localhost:8080/",
          "height": 542
        },
        "id": "egJoam3b83nd",
        "outputId": "7d2f25f2-73b7-4795-e286-18a6a07bbb3b"
      },
      "source": [
        "metodos = [\"K-means\",\"Single-linkage\",\"DBSCAN\",\"WARD\"]\n",
        "time = []\n",
        "n_clusters = []\n",
        "homogeneity = []\n",
        "completeness = []\n",
        "v = []\n",
        "adj_rand_index = []\n",
        "adj_mut_info = []\n",
        "silhouette = []\n",
        "\n",
        "for i in np.arange(4):\n",
        "  time.append(round(metrics_cluster[i][0],5))\n",
        "  n_clusters.append(metrics_cluster[i][1])\n",
        "  homogeneity.append(round(metrics_cluster[i][2],5))\n",
        "  completeness.append(round(metrics_cluster[i][3],5))\n",
        "  v.append(round(metrics_cluster[i][4],5))\n",
        "  adj_rand_index.append(round(metrics_cluster[i][5],5))\n",
        "  adj_mut_info.append(round(metrics_cluster[i][6],5))\n",
        "  silhouette.append(round(metrics_cluster[i][7],5))\n",
        "\n",
        "fig = go.Figure(data=[go.Table(header=dict(values=[\"Métodos\",\"Tiempo de ajuste\",\"N° clusters\",\"Homogeneidad\",\"Completeness\",\"V-measure\",\"Adjusted Rand Index\",\"Adjusted Mutual Information\",\"Silhouette Coefficient\"]),\n",
        "                 cells=dict(values=[metodos,time,n_clusters,homogeneity,completeness,v,adj_rand_index,adj_mut_info,silhouette]))\n",
        "                     ])\n",
        "fig.show()"
      ],
      "execution_count": null,
      "outputs": [
        {
          "output_type": "display_data",
          "data": {
            "text/html": [
              "<html>\n",
              "<head><meta charset=\"utf-8\" /></head>\n",
              "<body>\n",
              "    <div>\n",
              "            <script src=\"https://cdnjs.cloudflare.com/ajax/libs/mathjax/2.7.5/MathJax.js?config=TeX-AMS-MML_SVG\"></script><script type=\"text/javascript\">if (window.MathJax) {MathJax.Hub.Config({SVG: {font: \"STIX-Web\"}});}</script>\n",
              "                <script type=\"text/javascript\">window.PlotlyConfig = {MathJaxConfig: 'local'};</script>\n",
              "        <script src=\"https://cdn.plot.ly/plotly-latest.min.js\"></script>    \n",
              "            <div id=\"d9a06bd5-7388-417c-9af1-9b2e31f82e21\" class=\"plotly-graph-div\" style=\"height:525px; width:100%;\"></div>\n",
              "            <script type=\"text/javascript\">\n",
              "                \n",
              "                    window.PLOTLYENV=window.PLOTLYENV || {};\n",
              "                    \n",
              "                if (document.getElementById(\"d9a06bd5-7388-417c-9af1-9b2e31f82e21\")) {\n",
              "                    Plotly.newPlot(\n",
              "                        'd9a06bd5-7388-417c-9af1-9b2e31f82e21',\n",
              "                        [{\"cells\": {\"values\": [[\"K-means\", \"Single-linkage\", \"DBSCAN\", \"WARD\"], [0.02395, 0.02395, 0.00181, 0.01103], [4, 4, 4, 4], [0.07266, 0.02179, 0.08206, 0.06733], [0.0309, 0.02084, 0.03068, 0.0281], [0.04336, 0.0213, 0.04466, 0.03965], [-0.00591, -0.00255, -0.02656, -0.00109], [0.01442, -0.03033, 0.00805, 0.01125], [0.21829, 0.18724, 0.10592, 0.20963]]}, \"header\": {\"values\": [\"M\\u00e9todos\", \"Tiempo de ajuste\", \"N\\u00b0 clusters\", \"Homogeneidad\", \"Completeness\", \"V-measure\", \"Adjusted Rand Index\", \"Adjusted Mutual Information\", \"Silhouette Coefficient\"]}, \"type\": \"table\"}],\n",
              "                        {\"template\": {\"data\": {\"bar\": [{\"error_x\": {\"color\": \"#2a3f5f\"}, \"error_y\": {\"color\": \"#2a3f5f\"}, \"marker\": {\"line\": {\"color\": \"#E5ECF6\", \"width\": 0.5}}, \"type\": \"bar\"}], \"barpolar\": [{\"marker\": {\"line\": {\"color\": \"#E5ECF6\", \"width\": 0.5}}, \"type\": \"barpolar\"}], \"carpet\": [{\"aaxis\": {\"endlinecolor\": \"#2a3f5f\", \"gridcolor\": \"white\", \"linecolor\": \"white\", \"minorgridcolor\": \"white\", \"startlinecolor\": \"#2a3f5f\"}, \"baxis\": {\"endlinecolor\": \"#2a3f5f\", \"gridcolor\": \"white\", \"linecolor\": \"white\", \"minorgridcolor\": \"white\", \"startlinecolor\": \"#2a3f5f\"}, \"type\": \"carpet\"}], \"choropleth\": [{\"colorbar\": {\"outlinewidth\": 0, \"ticks\": \"\"}, \"type\": \"choropleth\"}], \"contour\": [{\"colorbar\": {\"outlinewidth\": 0, \"ticks\": \"\"}, \"colorscale\": [[0.0, \"#0d0887\"], [0.1111111111111111, \"#46039f\"], [0.2222222222222222, \"#7201a8\"], [0.3333333333333333, \"#9c179e\"], [0.4444444444444444, \"#bd3786\"], [0.5555555555555556, \"#d8576b\"], [0.6666666666666666, \"#ed7953\"], [0.7777777777777778, \"#fb9f3a\"], [0.8888888888888888, \"#fdca26\"], [1.0, \"#f0f921\"]], \"type\": \"contour\"}], \"contourcarpet\": [{\"colorbar\": {\"outlinewidth\": 0, \"ticks\": \"\"}, \"type\": \"contourcarpet\"}], \"heatmap\": [{\"colorbar\": {\"outlinewidth\": 0, \"ticks\": \"\"}, \"colorscale\": [[0.0, \"#0d0887\"], [0.1111111111111111, \"#46039f\"], [0.2222222222222222, \"#7201a8\"], [0.3333333333333333, \"#9c179e\"], [0.4444444444444444, \"#bd3786\"], [0.5555555555555556, \"#d8576b\"], [0.6666666666666666, \"#ed7953\"], [0.7777777777777778, \"#fb9f3a\"], [0.8888888888888888, \"#fdca26\"], [1.0, \"#f0f921\"]], \"type\": \"heatmap\"}], \"heatmapgl\": [{\"colorbar\": {\"outlinewidth\": 0, \"ticks\": \"\"}, \"colorscale\": [[0.0, \"#0d0887\"], [0.1111111111111111, \"#46039f\"], [0.2222222222222222, \"#7201a8\"], [0.3333333333333333, \"#9c179e\"], [0.4444444444444444, \"#bd3786\"], [0.5555555555555556, \"#d8576b\"], [0.6666666666666666, \"#ed7953\"], [0.7777777777777778, \"#fb9f3a\"], [0.8888888888888888, \"#fdca26\"], [1.0, \"#f0f921\"]], \"type\": \"heatmapgl\"}], \"histogram\": [{\"marker\": {\"colorbar\": {\"outlinewidth\": 0, \"ticks\": \"\"}}, \"type\": \"histogram\"}], \"histogram2d\": [{\"colorbar\": {\"outlinewidth\": 0, \"ticks\": \"\"}, \"colorscale\": [[0.0, \"#0d0887\"], [0.1111111111111111, \"#46039f\"], [0.2222222222222222, \"#7201a8\"], [0.3333333333333333, \"#9c179e\"], [0.4444444444444444, \"#bd3786\"], [0.5555555555555556, \"#d8576b\"], [0.6666666666666666, \"#ed7953\"], [0.7777777777777778, \"#fb9f3a\"], [0.8888888888888888, \"#fdca26\"], [1.0, \"#f0f921\"]], \"type\": \"histogram2d\"}], \"histogram2dcontour\": [{\"colorbar\": {\"outlinewidth\": 0, \"ticks\": \"\"}, \"colorscale\": [[0.0, \"#0d0887\"], [0.1111111111111111, \"#46039f\"], [0.2222222222222222, \"#7201a8\"], [0.3333333333333333, \"#9c179e\"], [0.4444444444444444, \"#bd3786\"], [0.5555555555555556, \"#d8576b\"], [0.6666666666666666, \"#ed7953\"], [0.7777777777777778, \"#fb9f3a\"], [0.8888888888888888, \"#fdca26\"], [1.0, \"#f0f921\"]], \"type\": \"histogram2dcontour\"}], \"mesh3d\": [{\"colorbar\": {\"outlinewidth\": 0, \"ticks\": \"\"}, \"type\": \"mesh3d\"}], \"parcoords\": [{\"line\": {\"colorbar\": {\"outlinewidth\": 0, \"ticks\": \"\"}}, \"type\": \"parcoords\"}], \"pie\": [{\"automargin\": true, \"type\": \"pie\"}], \"scatter\": [{\"marker\": {\"colorbar\": {\"outlinewidth\": 0, \"ticks\": \"\"}}, \"type\": \"scatter\"}], \"scatter3d\": [{\"line\": {\"colorbar\": {\"outlinewidth\": 0, \"ticks\": \"\"}}, \"marker\": {\"colorbar\": {\"outlinewidth\": 0, \"ticks\": \"\"}}, \"type\": \"scatter3d\"}], \"scattercarpet\": [{\"marker\": {\"colorbar\": {\"outlinewidth\": 0, \"ticks\": \"\"}}, \"type\": \"scattercarpet\"}], \"scattergeo\": [{\"marker\": {\"colorbar\": {\"outlinewidth\": 0, \"ticks\": \"\"}}, \"type\": \"scattergeo\"}], \"scattergl\": [{\"marker\": {\"colorbar\": {\"outlinewidth\": 0, \"ticks\": \"\"}}, \"type\": \"scattergl\"}], \"scattermapbox\": [{\"marker\": {\"colorbar\": {\"outlinewidth\": 0, \"ticks\": \"\"}}, \"type\": \"scattermapbox\"}], \"scatterpolar\": [{\"marker\": {\"colorbar\": {\"outlinewidth\": 0, \"ticks\": \"\"}}, \"type\": \"scatterpolar\"}], \"scatterpolargl\": [{\"marker\": {\"colorbar\": {\"outlinewidth\": 0, \"ticks\": \"\"}}, \"type\": \"scatterpolargl\"}], \"scatterternary\": [{\"marker\": {\"colorbar\": {\"outlinewidth\": 0, \"ticks\": \"\"}}, \"type\": \"scatterternary\"}], \"surface\": [{\"colorbar\": {\"outlinewidth\": 0, \"ticks\": \"\"}, \"colorscale\": [[0.0, \"#0d0887\"], [0.1111111111111111, \"#46039f\"], [0.2222222222222222, \"#7201a8\"], [0.3333333333333333, \"#9c179e\"], [0.4444444444444444, \"#bd3786\"], [0.5555555555555556, \"#d8576b\"], [0.6666666666666666, \"#ed7953\"], [0.7777777777777778, \"#fb9f3a\"], [0.8888888888888888, \"#fdca26\"], [1.0, \"#f0f921\"]], \"type\": \"surface\"}], \"table\": [{\"cells\": {\"fill\": {\"color\": \"#EBF0F8\"}, \"line\": {\"color\": \"white\"}}, \"header\": {\"fill\": {\"color\": \"#C8D4E3\"}, \"line\": {\"color\": \"white\"}}, \"type\": \"table\"}]}, \"layout\": {\"annotationdefaults\": {\"arrowcolor\": \"#2a3f5f\", \"arrowhead\": 0, \"arrowwidth\": 1}, \"coloraxis\": {\"colorbar\": {\"outlinewidth\": 0, \"ticks\": \"\"}}, \"colorscale\": {\"diverging\": [[0, \"#8e0152\"], [0.1, \"#c51b7d\"], [0.2, \"#de77ae\"], [0.3, \"#f1b6da\"], [0.4, \"#fde0ef\"], [0.5, \"#f7f7f7\"], [0.6, \"#e6f5d0\"], [0.7, \"#b8e186\"], [0.8, \"#7fbc41\"], [0.9, \"#4d9221\"], [1, \"#276419\"]], \"sequential\": [[0.0, \"#0d0887\"], [0.1111111111111111, \"#46039f\"], [0.2222222222222222, \"#7201a8\"], [0.3333333333333333, \"#9c179e\"], [0.4444444444444444, \"#bd3786\"], [0.5555555555555556, \"#d8576b\"], [0.6666666666666666, \"#ed7953\"], [0.7777777777777778, \"#fb9f3a\"], [0.8888888888888888, \"#fdca26\"], [1.0, \"#f0f921\"]], \"sequentialminus\": [[0.0, \"#0d0887\"], [0.1111111111111111, \"#46039f\"], [0.2222222222222222, \"#7201a8\"], [0.3333333333333333, \"#9c179e\"], [0.4444444444444444, \"#bd3786\"], [0.5555555555555556, \"#d8576b\"], [0.6666666666666666, \"#ed7953\"], [0.7777777777777778, \"#fb9f3a\"], [0.8888888888888888, \"#fdca26\"], [1.0, \"#f0f921\"]]}, \"colorway\": [\"#636efa\", \"#EF553B\", \"#00cc96\", \"#ab63fa\", \"#FFA15A\", \"#19d3f3\", \"#FF6692\", \"#B6E880\", \"#FF97FF\", \"#FECB52\"], \"font\": {\"color\": \"#2a3f5f\"}, \"geo\": {\"bgcolor\": \"white\", \"lakecolor\": \"white\", \"landcolor\": \"#E5ECF6\", \"showlakes\": true, \"showland\": true, \"subunitcolor\": \"white\"}, \"hoverlabel\": {\"align\": \"left\"}, \"hovermode\": \"closest\", \"mapbox\": {\"style\": \"light\"}, \"paper_bgcolor\": \"white\", \"plot_bgcolor\": \"#E5ECF6\", \"polar\": {\"angularaxis\": {\"gridcolor\": \"white\", \"linecolor\": \"white\", \"ticks\": \"\"}, \"bgcolor\": \"#E5ECF6\", \"radialaxis\": {\"gridcolor\": \"white\", \"linecolor\": \"white\", \"ticks\": \"\"}}, \"scene\": {\"xaxis\": {\"backgroundcolor\": \"#E5ECF6\", \"gridcolor\": \"white\", \"gridwidth\": 2, \"linecolor\": \"white\", \"showbackground\": true, \"ticks\": \"\", \"zerolinecolor\": \"white\"}, \"yaxis\": {\"backgroundcolor\": \"#E5ECF6\", \"gridcolor\": \"white\", \"gridwidth\": 2, \"linecolor\": \"white\", \"showbackground\": true, \"ticks\": \"\", \"zerolinecolor\": \"white\"}, \"zaxis\": {\"backgroundcolor\": \"#E5ECF6\", \"gridcolor\": \"white\", \"gridwidth\": 2, \"linecolor\": \"white\", \"showbackground\": true, \"ticks\": \"\", \"zerolinecolor\": \"white\"}}, \"shapedefaults\": {\"line\": {\"color\": \"#2a3f5f\"}}, \"ternary\": {\"aaxis\": {\"gridcolor\": \"white\", \"linecolor\": \"white\", \"ticks\": \"\"}, \"baxis\": {\"gridcolor\": \"white\", \"linecolor\": \"white\", \"ticks\": \"\"}, \"bgcolor\": \"#E5ECF6\", \"caxis\": {\"gridcolor\": \"white\", \"linecolor\": \"white\", \"ticks\": \"\"}}, \"title\": {\"x\": 0.05}, \"xaxis\": {\"automargin\": true, \"gridcolor\": \"white\", \"linecolor\": \"white\", \"ticks\": \"\", \"title\": {\"standoff\": 15}, \"zerolinecolor\": \"white\", \"zerolinewidth\": 2}, \"yaxis\": {\"automargin\": true, \"gridcolor\": \"white\", \"linecolor\": \"white\", \"ticks\": \"\", \"title\": {\"standoff\": 15}, \"zerolinecolor\": \"white\", \"zerolinewidth\": 2}}}},\n",
              "                        {\"responsive\": true}\n",
              "                    ).then(function(){\n",
              "                            \n",
              "var gd = document.getElementById('d9a06bd5-7388-417c-9af1-9b2e31f82e21');\n",
              "var x = new MutationObserver(function (mutations, observer) {{\n",
              "        var display = window.getComputedStyle(gd).display;\n",
              "        if (!display || display === 'none') {{\n",
              "            console.log([gd, 'removed!']);\n",
              "            Plotly.purge(gd);\n",
              "            observer.disconnect();\n",
              "        }}\n",
              "}});\n",
              "\n",
              "// Listen for the removal of the full notebook cells\n",
              "var notebookContainer = gd.closest('#notebook-container');\n",
              "if (notebookContainer) {{\n",
              "    x.observe(notebookContainer, {childList: true});\n",
              "}}\n",
              "\n",
              "// Listen for the clearing of the current output cell\n",
              "var outputEl = gd.closest('.output');\n",
              "if (outputEl) {{\n",
              "    x.observe(outputEl, {childList: true});\n",
              "}}\n",
              "\n",
              "                        })\n",
              "                };\n",
              "                \n",
              "            </script>\n",
              "        </div>\n",
              "</body>\n",
              "</html>"
            ]
          },
          "metadata": {
            "tags": []
          }
        }
      ]
    },
    {
      "cell_type": "markdown",
      "metadata": {
        "id": "qaW-mGm1AO2k"
      },
      "source": [
        "Se puede verificar el desempeño de los distintos métodos de clustering analizando las métricas más interesantes, las cuales se encuentran en la tabla:\n",
        "\n",
        "\n",
        "*   Con respecto al tiempo de ajuste, vemos que DBSCAN toma menor tiempo en formar los clusters.\n",
        "*   Con respecto a la homogeneidad de los clusters, notamos que DBSCAN posee un mayor valor, con K-means siguiendolo por poco, lo que se traduce en que los puntos de cada clusters solo pertenecen a una clase.\n",
        "*   Con respecto a Completeness, ocurre lo mismo que con la homogeneidad, DBSCAN presenta un mejor desempeño.\n",
        "*   Con respecto a V-measure, se presenta nuevamente la misma situación, DBSCAN posee mejor desempeño, siguiendolo por poco K-means.\n",
        "*   Con respecto al Adjusted Rand Index, el método WARD posee un mejor desempeño que los otros métodos.\n",
        "*   Con respecto al Adjusted Mutual Information, posee mejor desempeño el método K-means, siguiendo por poco el método DBSCAN.\n",
        "*    Finalmente, con respecto al coeficiente de Silhouette, los métodos con mejor desempeño corresponden a K-means y WARD, un mal desempeño en esta métrica puede implicar que los elementos de los clusters podrían tener ciertas distribuciones específicas.\n",
        "\n",
        "Según lo visto en los gráficos: \n",
        "*    K-means realiza clusters de buena manera en los datos que se encuentran en la parte inferior, sin embargo, algunos datos pintados de verde deberían haber sido azules. \n",
        "*    Single-linkage, realiza dos buenos clusters debido a que agrupan gran cantidad de datos (verde y azul), pero termina por crear 2 clusters que se componen de 1 solo dato.\n",
        "*    DBSCAN, realiza buenos cluster en la parte inferior, sin embargo, deja muchos outliers en la parte superior sin agrupar.\n",
        "*    WARD, realiza un buen trabajo agrupando clusters, presenta un comportamiento similar a K-means y DBSCAN.\n",
        "\n",
        "Teniendo en cuenta lo antes ya mencionado con respecto al desempeño basado en las diferentes métricas y gráficos, además de tener en cuenta las malas métricas de desempeño debido a la distribución de los datos, se puede destacar el desempeño del método DBSCAN como el de K-means, que fueron superiores en promedio a los otros 2 métodos.\n"
      ]
    }
  ]
}