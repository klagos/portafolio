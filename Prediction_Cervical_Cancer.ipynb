{
  "nbformat": 4,
  "nbformat_minor": 0,
  "metadata": {
    "colab": {
      "name": "Taller3_KevinLagos_SonnyMuñoz_MaríaRetamal.ipynb",
      "provenance": [],
      "collapsed_sections": [
        "TX5cwH8gH2ZC",
        "fX3JmmLfIHSn",
        "wgGFJijm9y7x",
        "qvzy-wFz4asI",
        "E7or9wub9Ouc"
      ]
    },
    "kernelspec": {
      "name": "python3",
      "display_name": "Python 3"
    }
  },
  "cells": [
    {
      "cell_type": "markdown",
      "metadata": {
        "id": "Qlgnm336Hvvx"
      },
      "source": [
        "# Predictions on \"Risk Factors of cervical cancer\" dataset\n",
        "Authors: Kevin Lagos, Sonny Muñoz, María Retamal"
      ]
    },
    {
      "cell_type": "markdown",
      "metadata": {
        "id": "TX5cwH8gH2ZC"
      },
      "source": [
        "#### Lectura de los paquetes que se utilizarán"
      ]
    },
    {
      "cell_type": "code",
      "metadata": {
        "id": "HCl1FKF4H1jB"
      },
      "source": [
        "import numpy as np\n",
        "import matplotlib.pyplot as plt\n",
        "import pandas as pd\n",
        "import seaborn as sns\n",
        "import io \n",
        "from google.colab import files\n",
        "from sklearn.preprocessing import StandardScaler\n",
        "from sklearn.model_selection import train_test_split\n",
        "%matplotlib inline\n",
        "\n",
        "#para métricas\n",
        "from sklearn.metrics import accuracy_score\n",
        "from sklearn.metrics import recall_score\n",
        "from sklearn.metrics import precision_score\n",
        "from sklearn.metrics import f1_score\n",
        "metricas = []"
      ],
      "execution_count": null,
      "outputs": []
    },
    {
      "cell_type": "markdown",
      "metadata": {
        "id": "fX3JmmLfIHSn"
      },
      "source": [
        "### Carga y Manipulación de datos"
      ]
    },
    {
      "cell_type": "code",
      "metadata": {
        "colab": {
          "resources": {
            "http://localhost:8080/nbextensions/google.colab/files.js": {
              "data": "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",
              "ok": true,
              "headers": [
                [
                  "content-type",
                  "application/javascript"
                ]
              ],
              "status": 200,
              "status_text": ""
            }
          },
          "base_uri": "https://localhost:8080/",
          "height": 73
        },
        "id": "DBzzOPMjIICm",
        "outputId": "56827e5f-280b-482a-a022-bea8f091ceeb"
      },
      "source": [
        "# Fijamos la semilla que genera numeros aleatorios\n",
        "np.random.seed(0)\n",
        "\n",
        "#Carga de los datos\n",
        "uploaded = files.upload()\n",
        "df = pd.read_csv(io.StringIO(uploaded['kag_risk_factors_cervical_cancer.csv'].decode('utf-8')))\n",
        "\n",
        "#Cambio de \"?\" por NaN y paso a tipo float\n",
        "for col in df.columns: \n",
        "    df.loc[df[col]=='?', col]=np.nan\n",
        "    if df.dtypes[col] == object:\n",
        "      df = df.astype({col: float})\n",
        "\n",
        "#Cambio en las variables target para dejarlo como 1 variable target binaria\n",
        "df[\"target\"] = df[[\"Biopsy\",\"Hinselmann\",\"Citology\",\"Schiller\"]].max(axis=1)\n",
        "df[\"target\"] = df[\"target\"].astype(np.int64)\n",
        "del df[\"Biopsy\"]\n",
        "del df[\"Hinselmann\"] \n",
        "del df[\"Citology\"] \n",
        "del df[\"Schiller\"]\n",
        "\n",
        "X = df.dropna()\n",
        "df = df.dropna() # Borramos filas que son NaN"
      ],
      "execution_count": null,
      "outputs": [
        {
          "output_type": "display_data",
          "data": {
            "text/html": [
              "\n",
              "     <input type=\"file\" id=\"files-75ca9fda-fcc0-4e1a-83e6-0ddc0def23f3\" name=\"files[]\" multiple disabled\n",
              "        style=\"border:none\" />\n",
              "     <output id=\"result-75ca9fda-fcc0-4e1a-83e6-0ddc0def23f3\">\n",
              "      Upload widget is only available when the cell has been executed in the\n",
              "      current browser session. Please rerun this cell to enable.\n",
              "      </output>\n",
              "      <script src=\"/nbextensions/google.colab/files.js\"></script> "
            ],
            "text/plain": [
              "<IPython.core.display.HTML object>"
            ]
          },
          "metadata": {
            "tags": []
          }
        },
        {
          "output_type": "stream",
          "text": [
            "Saving kag_risk_factors_cervical_cancer.csv to kag_risk_factors_cervical_cancer.csv\n"
          ],
          "name": "stdout"
        }
      ]
    },
    {
      "cell_type": "markdown",
      "metadata": {
        "id": "wgGFJijm9y7x"
      },
      "source": [
        "### **Selección de características**"
      ]
    },
    {
      "cell_type": "markdown",
      "metadata": {
        "id": "y2pOxpbdSTT7"
      },
      "source": [
        "Para abordar el método de Selección de características se desarrollará un modelo basado en RFE (Recursive Feature Elimination), donde se eliminan características de manera recursiva y se construye un modelo con las que quedan. Se utiliza el accuraccy del modelo para identificar que atributos o combinaciones de atributos contribuyen más a predecir el target.\n"
      ]
    },
    {
      "cell_type": "markdown",
      "metadata": {
        "id": "EU043RsQRSwi"
      },
      "source": [
        "Separación de features y target"
      ]
    },
    {
      "cell_type": "code",
      "metadata": {
        "id": "_QbdFjyQRUqi"
      },
      "source": [
        "Y = df.target #target\n",
        "X = df.iloc[:, :-1] #features"
      ],
      "execution_count": null,
      "outputs": []
    },
    {
      "cell_type": "markdown",
      "metadata": {
        "id": "eifpPsI5RwzB"
      },
      "source": [
        "División entre datos de entrenamiento y testeo"
      ]
    },
    {
      "cell_type": "code",
      "metadata": {
        "id": "K1pZf8eoRxLN"
      },
      "source": [
        "seed = 1\n",
        "test_size = 0.3\n",
        "X_train, X_test, y_train, y_test = train_test_split(X, Y, test_size=test_size, random_state=seed)"
      ],
      "execution_count": null,
      "outputs": []
    },
    {
      "cell_type": "markdown",
      "metadata": {
        "id": "sFMtHROmR2BL"
      },
      "source": [
        "Creación del modelo"
      ]
    },
    {
      "cell_type": "code",
      "metadata": {
        "id": "j1oDKg-l96Fa"
      },
      "source": [
        "from sklearn.feature_selection import RFE\n",
        "from sklearn.linear_model import LogisticRegression\n",
        "\n",
        "# crea una base clasificadora usada para evaluar un subconjunto de atributos, con 250 iteraciones como máximo para converger\n",
        "model = LogisticRegression(max_iter=250)\n",
        "\n",
        "#crea el modelo RFE y selecciona 10 atributos\n",
        "rfe = RFE(model, 10)\n",
        "rfe = rfe.fit(X, y)\n"
      ],
      "execution_count": null,
      "outputs": []
    },
    {
      "cell_type": "markdown",
      "metadata": {
        "id": "2lkXPhQYSE48"
      },
      "source": [
        "Predicciones y evaluación con datos de testeo"
      ]
    },
    {
      "cell_type": "code",
      "metadata": {
        "colab": {
          "base_uri": "https://localhost:8080/"
        },
        "id": "pXkRn1WPSEZE",
        "outputId": "f30e1507-9942-495c-d3f6-c1b6c8792e85"
      },
      "source": [
        "y_pred = rfe.predict(X_test)\n",
        "\n",
        "#evaluar predicciones\n",
        "print('Accuracy: %.2f' % accuracy_score(y_test, y_pred))\n",
        "print('Recall: %.2f' % recall_score(y_test, y_pred))\n",
        "print('Precisión: %.2f' % precision_score(y_test, y_pred))\n",
        "print('F1: %.2f' % f1_score(y_test, y_pred))\n",
        "metricas.append((accuracy_score(y_test, y_pred),recall_score(y_test, y_pred),precision_score(y_test, y_pred),f1_score(y_test, y_pred)))"
      ],
      "execution_count": null,
      "outputs": [
        {
          "output_type": "stream",
          "text": [
            "Accuracy: 0.83\n",
            "Recall: 0.25\n",
            "Precisión: 1.00\n",
            "F1: 0.40\n"
          ],
          "name": "stdout"
        }
      ]
    },
    {
      "cell_type": "markdown",
      "metadata": {
        "id": "jnEQTf7QZkR3"
      },
      "source": [
        "Features que fueron seleccionados"
      ]
    },
    {
      "cell_type": "code",
      "metadata": {
        "colab": {
          "base_uri": "https://localhost:8080/"
        },
        "id": "elm4nwUAW5H1",
        "outputId": "6223c571-1f1e-4d9c-ec3b-a68073110187"
      },
      "source": [
        "selected = list()\n",
        "rank = rfe.ranking_\n",
        "for i in range(len(X.columns)):\n",
        "  if (rank[i] == 1):\n",
        "    selected.append(X.columns[i])\n",
        "\n",
        "print(\"Features seleccionados:\")\n",
        "print(selected)"
      ],
      "execution_count": null,
      "outputs": [
        {
          "output_type": "stream",
          "text": [
            "Features seleccionados:\n",
            "['Smokes', 'Smokes (packs/year)', 'IUD', 'STDs (number)', 'STDs:vaginal condylomatosis', 'STDs:vulvo-perineal condylomatosis', 'STDs:syphilis', 'STDs:genital herpes', 'STDs:HIV', 'STDs: Number of diagnosis']\n"
          ],
          "name": "stdout"
        }
      ]
    },
    {
      "cell_type": "markdown",
      "metadata": {
        "id": "qvzy-wFz4asI"
      },
      "source": [
        "### **XGBoost**"
      ]
    },
    {
      "cell_type": "markdown",
      "metadata": {
        "id": "AJei1nK6h7pe"
      },
      "source": [
        "XGBoost (Extreme Gradient Boosting) corresponde a un algoritmo predictivo supervisado que utiliza el principio de \"boosting\". La idea es generar múltiples modelos de predicción \"débiles\" secuencialmente, y que cada uno de estos tome los resultados del modelo anterior para volverse \"fuerte\", por ende con mejor poder predictivo y mayor estabilidad en resultados."
      ]
    },
    {
      "cell_type": "markdown",
      "metadata": {
        "id": "dktvAsbC5WHN"
      },
      "source": [
        "Separación de features y target"
      ]
    },
    {
      "cell_type": "code",
      "metadata": {
        "id": "bhQ2w8T_5PlJ"
      },
      "source": [
        "Y = df.target #target\n",
        "X = df.iloc[:, :-1] #features"
      ],
      "execution_count": null,
      "outputs": []
    },
    {
      "cell_type": "markdown",
      "metadata": {
        "id": "Vus-W8GU6BtN"
      },
      "source": [
        "División entre datos de entrenamiento y testeo"
      ]
    },
    {
      "cell_type": "code",
      "metadata": {
        "id": "iUZh362n6AUK"
      },
      "source": [
        "seed = 1\n",
        "test_size = 0.3\n",
        "X_train, X_test, y_train, y_test = train_test_split(X, Y, test_size=test_size, random_state=seed)"
      ],
      "execution_count": null,
      "outputs": []
    },
    {
      "cell_type": "markdown",
      "metadata": {
        "id": "CxuLsy0g6mOS"
      },
      "source": [
        "Creación del modelo"
      ]
    },
    {
      "cell_type": "code",
      "metadata": {
        "colab": {
          "base_uri": "https://localhost:8080/"
        },
        "id": "xoL9F1wu6OYz",
        "outputId": "c73f8daf-6eda-434b-c62a-d4502c3b6247"
      },
      "source": [
        "from xgboost import XGBClassifier\n",
        "\n",
        "# fit model no training data\n",
        "model = XGBClassifier()\n",
        "model.fit(X_train, y_train)\n"
      ],
      "execution_count": null,
      "outputs": [
        {
          "output_type": "execute_result",
          "data": {
            "text/plain": [
              "XGBClassifier(base_score=0.5, booster='gbtree', colsample_bylevel=1,\n",
              "              colsample_bynode=1, colsample_bytree=1, gamma=0,\n",
              "              learning_rate=0.1, max_delta_step=0, max_depth=3,\n",
              "              min_child_weight=1, missing=None, n_estimators=100, n_jobs=1,\n",
              "              nthread=None, objective='binary:logistic', random_state=0,\n",
              "              reg_alpha=0, reg_lambda=1, scale_pos_weight=1, seed=None,\n",
              "              silent=None, subsample=1, verbosity=1)"
            ]
          },
          "metadata": {
            "tags": []
          },
          "execution_count": 209
        }
      ]
    },
    {
      "cell_type": "markdown",
      "metadata": {
        "id": "jjORu99l6pHr"
      },
      "source": [
        "Predicciones y evaluación con datos de testeo"
      ]
    },
    {
      "cell_type": "code",
      "metadata": {
        "colab": {
          "base_uri": "https://localhost:8080/"
        },
        "id": "PTSv98iH60CC",
        "outputId": "f844a316-1d8b-40a3-c8f4-7272b0e30ebf"
      },
      "source": [
        "y_pred = model.predict(X_test)\n",
        "\n",
        "#evaluar predicciones\n",
        "print('Accuracy: %.2f' % accuracy_score(y_test, y_pred))\n",
        "print('Recall: %.2f' % recall_score(y_test, y_pred))\n",
        "print('Precisión: %.2f' % precision_score(y_test, y_pred))\n",
        "print('F1: %.2f' % f1_score(y_test, y_pred))\n",
        "metricas.append((accuracy_score(y_test, y_pred),recall_score(y_test, y_pred),precision_score(y_test, y_pred),f1_score(y_test, y_pred)))"
      ],
      "execution_count": null,
      "outputs": [
        {
          "output_type": "stream",
          "text": [
            "Accuracy: 0.50\n",
            "Recall: 0.25\n",
            "Precisión: 0.14\n",
            "F1: 0.18\n"
          ],
          "name": "stdout"
        }
      ]
    },
    {
      "cell_type": "markdown",
      "metadata": {
        "id": "E7or9wub9Ouc"
      },
      "source": [
        "\n",
        "### **Deep Learning**"
      ]
    },
    {
      "cell_type": "markdown",
      "metadata": {
        "id": "EOc-SmqYtLyf"
      },
      "source": [
        "Se implementará una red neuronal profunda que contiene capas de nodos conectadas entre sí, para ello se hará uso de Keras."
      ]
    },
    {
      "cell_type": "code",
      "metadata": {
        "id": "N8zwUDzQqmAn"
      },
      "source": [
        "#para métricas\n",
        "\n",
        "from keras import backend as K\n",
        "import tensorflow as tf \n",
        "\n",
        "def f1_m(y_true, y_pred):\n",
        "    precision = precision_m(y_true, y_pred)\n",
        "    recall = recall_m(y_true, y_pred)\n",
        "    return 2*((precision*recall)/(precision+recall+K.epsilon()))\n"
      ],
      "execution_count": null,
      "outputs": []
    },
    {
      "cell_type": "markdown",
      "metadata": {
        "id": "bbIv9rv6k786"
      },
      "source": [
        "Separación de features y target"
      ]
    },
    {
      "cell_type": "code",
      "metadata": {
        "id": "nHcjuU9Ok8nD"
      },
      "source": [
        "Y = df.target #target\n",
        "X = df.iloc[:, :-1] #features"
      ],
      "execution_count": null,
      "outputs": []
    },
    {
      "cell_type": "markdown",
      "metadata": {
        "id": "rWOQScHIlCkM"
      },
      "source": [
        "División entre datos de entrenamiento y testeo"
      ]
    },
    {
      "cell_type": "code",
      "metadata": {
        "id": "ipRq6iC5lDCa"
      },
      "source": [
        "seed = 1\n",
        "test_size = 0.3\n",
        "X_train, X_test, y_train, y_test = train_test_split(X, Y, test_size=test_size, random_state=seed)"
      ],
      "execution_count": null,
      "outputs": []
    },
    {
      "cell_type": "markdown",
      "metadata": {
        "id": "bZWYRHnjlg-H"
      },
      "source": [
        "Definición del modelo"
      ]
    },
    {
      "cell_type": "code",
      "metadata": {
        "id": "up19NQBIlGNS"
      },
      "source": [
        "from keras.models import Sequential\n",
        "from keras.layers import Dense\n",
        "\n",
        "model = Sequential()\n",
        "model.add(Dense(512, input_dim=32, activation='relu'))\n",
        "model.add(Dense(256, activation='relu'))\n",
        "model.add(Dense(128, activation='relu'))\n",
        "model.add(Dense(64, activation='relu'))\n",
        "model.add(Dense(1, activation='sigmoid'))"
      ],
      "execution_count": null,
      "outputs": []
    },
    {
      "cell_type": "markdown",
      "metadata": {
        "id": "hCnAzrEamBOC"
      },
      "source": [
        "Compilación del modelo"
      ]
    },
    {
      "cell_type": "code",
      "metadata": {
        "colab": {
          "base_uri": "https://localhost:8080/"
        },
        "id": "YVnV4fQYmU_o",
        "outputId": "ae9f9b94-0838-45a0-dfa0-f9df34d0bca9"
      },
      "source": [
        "model.compile(loss='binary_crossentropy', optimizer='adam',metrics=['accuracy', tf.keras.metrics.Recall(),tf.keras.metrics.Precision(),f1_m])\n",
        "model.fit(X_train, y_train, epochs=150, batch_size=10)"
      ],
      "execution_count": null,
      "outputs": [
        {
          "output_type": "stream",
          "text": [
            "Epoch 1/150\n",
            "5/5 [==============================] - 1s 4ms/step - loss: 0.7016 - accuracy: 0.6655 - recall_10: 0.0000e+00 - precision_10: 0.0000e+00 - f1_m: 0.0000e+00\n",
            "Epoch 2/150\n",
            "5/5 [==============================] - 0s 3ms/step - loss: 0.7052 - accuracy: 0.7286 - recall_10: 0.0000e+00 - precision_10: 0.0000e+00 - f1_m: 0.0000e+00\n",
            "Epoch 3/150\n",
            "5/5 [==============================] - 0s 4ms/step - loss: 0.5903 - accuracy: 0.7270 - recall_10: 0.1975 - precision_10: 0.4944 - f1_m: 0.2367        \n",
            "Epoch 4/150\n",
            "5/5 [==============================] - 0s 4ms/step - loss: 0.5676 - accuracy: 0.7189 - recall_10: 0.0000e+00 - precision_10: 0.0000e+00 - f1_m: 0.0000e+00\n",
            "Epoch 5/150\n",
            "5/5 [==============================] - 0s 4ms/step - loss: 0.6308 - accuracy: 0.6491 - recall_10: 0.2879 - precision_10: 0.3324 - f1_m: 0.2631        \n",
            "Epoch 6/150\n",
            "5/5 [==============================] - 0s 4ms/step - loss: 0.5963 - accuracy: 0.7770 - recall_10: 0.5537 - precision_10: 0.6042 - f1_m: 0.5227\n",
            "Epoch 7/150\n",
            "5/5 [==============================] - 0s 4ms/step - loss: 0.6092 - accuracy: 0.7008 - recall_10: 0.0000e+00 - precision_10: 0.0000e+00 - f1_m: 0.0000e+00\n",
            "Epoch 8/150\n",
            "5/5 [==============================] - 0s 4ms/step - loss: 0.4824 - accuracy: 0.7856 - recall_10: 0.0000e+00 - precision_10: 0.0000e+00 - f1_m: 0.0000e+00\n",
            "Epoch 9/150\n",
            "5/5 [==============================] - 0s 4ms/step - loss: 0.5732 - accuracy: 0.7526 - recall_10: 0.6452 - precision_10: 0.4392 - f1_m: 0.3356        \n",
            "Epoch 10/150\n",
            "5/5 [==============================] - 0s 4ms/step - loss: 0.5134 - accuracy: 0.7354 - recall_10: 0.1385 - precision_10: 1.0000 - f1_m: 0.2069\n",
            "Epoch 11/150\n",
            "5/5 [==============================] - 0s 4ms/step - loss: 0.6338 - accuracy: 0.7425 - recall_10: 0.0000e+00 - precision_10: 0.0000e+00 - f1_m: 0.0000e+00\n",
            "Epoch 12/150\n",
            "5/5 [==============================] - 0s 4ms/step - loss: 0.5451 - accuracy: 0.7328 - recall_10: 0.0000e+00 - precision_10: 0.0000e+00 - f1_m: 0.0000e+00\n",
            "Epoch 13/150\n",
            "5/5 [==============================] - 0s 5ms/step - loss: 0.5016 - accuracy: 0.7830 - recall_10: 0.5424 - precision_10: 0.5261 - f1_m: 0.3681        \n",
            "Epoch 14/150\n",
            "5/5 [==============================] - 0s 4ms/step - loss: 0.7242 - accuracy: 0.4499 - recall_10: 1.0000 - precision_10: 0.3155 - f1_m: 0.4315\n",
            "Epoch 15/150\n",
            "5/5 [==============================] - 0s 4ms/step - loss: 0.5272 - accuracy: 0.7481 - recall_10: 0.0000e+00 - precision_10: 0.0000e+00 - f1_m: 0.0000e+00\n",
            "Epoch 16/150\n",
            "5/5 [==============================] - 0s 4ms/step - loss: 0.5705 - accuracy: 0.7286 - recall_10: 0.0000e+00 - precision_10: 0.0000e+00 - f1_m: 0.0000e+00\n",
            "Epoch 17/150\n",
            "5/5 [==============================] - 0s 4ms/step - loss: 0.5103 - accuracy: 0.7286 - recall_10: 0.0000e+00 - precision_10: 0.0000e+00 - f1_m: 0.0000e+00\n",
            "Epoch 18/150\n",
            "5/5 [==============================] - 0s 3ms/step - loss: 0.4857 - accuracy: 0.7147 - recall_10: 0.0000e+00 - precision_10: 0.0000e+00 - f1_m: 0.0000e+00\n",
            "Epoch 19/150\n",
            "5/5 [==============================] - 0s 4ms/step - loss: 0.4956 - accuracy: 0.6758 - recall_10: 0.0000e+00 - precision_10: 0.0000e+00 - f1_m: 0.0000e+00\n",
            "Epoch 20/150\n",
            "5/5 [==============================] - 0s 4ms/step - loss: 0.4595 - accuracy: 0.7439 - recall_10: 0.0000e+00 - precision_10: 0.0000e+00 - f1_m: 0.0000e+00\n",
            "Epoch 21/150\n",
            "5/5 [==============================] - 0s 4ms/step - loss: 0.4862 - accuracy: 0.7175 - recall_10: 0.3374 - precision_10: 0.5167 - f1_m: 0.3339        \n",
            "Epoch 22/150\n",
            "5/5 [==============================] - 0s 3ms/step - loss: 0.4602 - accuracy: 0.7409 - recall_10: 0.6115 - precision_10: 0.5085 - f1_m: 0.4538\n",
            "Epoch 23/150\n",
            "5/5 [==============================] - 0s 4ms/step - loss: 0.4555 - accuracy: 0.7548 - recall_10: 0.1413 - precision_10: 1.0000 - f1_m: 0.1656\n",
            "Epoch 24/150\n",
            "5/5 [==============================] - 0s 5ms/step - loss: 0.3936 - accuracy: 0.8151 - recall_10: 0.4283 - precision_10: 0.7381 - f1_m: 0.3435        \n",
            "Epoch 25/150\n",
            "5/5 [==============================] - 0s 4ms/step - loss: 0.3509 - accuracy: 0.8873 - recall_10: 0.6769 - precision_10: 0.8675 - f1_m: 0.7148\n",
            "Epoch 26/150\n",
            "5/5 [==============================] - 0s 4ms/step - loss: 0.2816 - accuracy: 0.8651 - recall_10: 0.4949 - precision_10: 0.8952 - f1_m: 0.4719\n",
            "Epoch 27/150\n",
            "5/5 [==============================] - 0s 4ms/step - loss: 0.2593 - accuracy: 0.8486 - recall_10: 0.5015 - precision_10: 0.8417 - f1_m: 0.5949\n",
            "Epoch 28/150\n",
            "5/5 [==============================] - 0s 6ms/step - loss: 0.3122 - accuracy: 0.8324 - recall_10: 1.0000 - precision_10: 0.6185 - f1_m: 0.7110\n",
            "Epoch 29/150\n",
            "5/5 [==============================] - 0s 5ms/step - loss: 0.3335 - accuracy: 0.8667 - recall_10: 0.6648 - precision_10: 0.8222 - f1_m: 0.4335\n",
            "Epoch 30/150\n",
            "5/5 [==============================] - 0s 5ms/step - loss: 0.4576 - accuracy: 0.7338 - recall_10: 0.3207 - precision_10: 0.8333 - f1_m: 0.3569\n",
            "Epoch 31/150\n",
            "5/5 [==============================] - 0s 4ms/step - loss: 0.2903 - accuracy: 0.8056 - recall_10: 0.5209 - precision_10: 0.7024 - f1_m: 0.5787\n",
            "Epoch 32/150\n",
            "5/5 [==============================] - 0s 4ms/step - loss: 0.2847 - accuracy: 0.8621 - recall_10: 0.3790 - precision_10: 0.8333 - f1_m: 0.3824        \n",
            "Epoch 33/150\n",
            "5/5 [==============================] - 0s 5ms/step - loss: 0.3094 - accuracy: 0.8366 - recall_10: 1.0000 - precision_10: 0.5992 - f1_m: 0.7213\n",
            "Epoch 34/150\n",
            "5/5 [==============================] - 0s 6ms/step - loss: 0.3829 - accuracy: 0.7798 - recall_10: 0.9091 - precision_10: 0.5807 - f1_m: 0.6272\n",
            "Epoch 35/150\n",
            "5/5 [==============================] - 0s 4ms/step - loss: 0.4458 - accuracy: 0.7576 - recall_10: 0.0303 - precision_10: 0.3333 - f1_m: 0.0667        \n",
            "Epoch 36/150\n",
            "5/5 [==============================] - 0s 4ms/step - loss: 0.3435 - accuracy: 0.9052 - recall_10: 1.0000 - precision_10: 0.7292 - f1_m: 0.6983\n",
            "Epoch 37/150\n",
            "5/5 [==============================] - 0s 4ms/step - loss: 0.2402 - accuracy: 0.8748 - recall_10: 0.6985 - precision_10: 0.8214 - f1_m: 0.6250\n",
            "Epoch 38/150\n",
            "5/5 [==============================] - 0s 4ms/step - loss: 0.1557 - accuracy: 0.9821 - recall_10: 1.0000 - precision_10: 0.9306 - f1_m: 0.9006\n",
            "Epoch 39/150\n",
            "5/5 [==============================] - 0s 4ms/step - loss: 0.2297 - accuracy: 0.9203 - recall_10: 1.0000 - precision_10: 0.7981 - f1_m: 0.8409\n",
            "Epoch 40/150\n",
            "5/5 [==============================] - 0s 4ms/step - loss: 0.3021 - accuracy: 0.8621 - recall_10: 0.5199 - precision_10: 1.0000 - f1_m: 0.5491\n",
            "Epoch 41/150\n",
            "5/5 [==============================] - 0s 4ms/step - loss: 0.3541 - accuracy: 0.8363 - recall_10: 1.0000 - precision_10: 0.6282 - f1_m: 0.7088\n",
            "Epoch 42/150\n",
            "5/5 [==============================] - 0s 4ms/step - loss: 0.2600 - accuracy: 0.9381 - recall_10: 0.7898 - precision_10: 1.0000 - f1_m: 0.7690\n",
            "Epoch 43/150\n",
            "5/5 [==============================] - 0s 4ms/step - loss: 0.6470 - accuracy: 0.8213 - recall_10: 0.1643 - precision_10: 0.8333 - f1_m: 0.1480        \n",
            "Epoch 44/150\n",
            "5/5 [==============================] - 0s 4ms/step - loss: 0.3250 - accuracy: 0.9080 - recall_10: 0.8959 - precision_10: 0.7979 - f1_m: 0.8648\n",
            "Epoch 45/150\n",
            "5/5 [==============================] - 0s 5ms/step - loss: 0.6366 - accuracy: 0.6378 - recall_10: 1.0000 - precision_10: 0.4071 - f1_m: 0.5783\n",
            "Epoch 46/150\n",
            "5/5 [==============================] - 0s 4ms/step - loss: 0.4678 - accuracy: 0.7326 - recall_10: 1.0000 - precision_10: 0.5001 - f1_m: 0.6114\n",
            "Epoch 47/150\n",
            "5/5 [==============================] - 0s 4ms/step - loss: 0.4691 - accuracy: 0.8004 - recall_10: 0.2148 - precision_10: 1.0000 - f1_m: 0.3426\n",
            "Epoch 48/150\n",
            "5/5 [==============================] - 0s 4ms/step - loss: 0.4094 - accuracy: 0.7893 - recall_10: 0.6108 - precision_10: 0.7500 - f1_m: 0.6005\n",
            "Epoch 49/150\n",
            "5/5 [==============================] - 0s 5ms/step - loss: 0.3583 - accuracy: 0.8758 - recall_10: 0.9545 - precision_10: 0.6447 - f1_m: 0.6553\n",
            "Epoch 50/150\n",
            "5/5 [==============================] - 0s 4ms/step - loss: 0.2341 - accuracy: 0.9064 - recall_10: 0.7373 - precision_10: 0.9444 - f1_m: 0.7706\n",
            "Epoch 51/150\n",
            "5/5 [==============================] - 0s 4ms/step - loss: 0.2020 - accuracy: 0.8968 - recall_10: 0.6237 - precision_10: 0.9375 - f1_m: 0.7084\n",
            "Epoch 52/150\n",
            "5/5 [==============================] - 0s 4ms/step - loss: 0.1697 - accuracy: 0.9560 - recall_10: 1.0000 - precision_10: 0.8564 - f1_m: 0.8798\n",
            "Epoch 53/150\n",
            "5/5 [==============================] - 0s 5ms/step - loss: 0.1658 - accuracy: 0.9492 - recall_10: 0.9530 - precision_10: 0.8737 - f1_m: 0.8563\n",
            "Epoch 54/150\n",
            "5/5 [==============================] - 0s 4ms/step - loss: 0.1344 - accuracy: 0.9312 - recall_10: 0.8852 - precision_10: 0.9141 - f1_m: 0.7556\n",
            "Epoch 55/150\n",
            "5/5 [==============================] - 0s 5ms/step - loss: 0.2625 - accuracy: 0.8790 - recall_10: 0.5773 - precision_10: 1.0000 - f1_m: 0.4221\n",
            "Epoch 56/150\n",
            "5/5 [==============================] - 0s 5ms/step - loss: 0.2061 - accuracy: 0.9064 - recall_10: 0.6145 - precision_10: 1.0000 - f1_m: 0.6046\n",
            "Epoch 57/150\n",
            "5/5 [==============================] - 0s 4ms/step - loss: 0.1931 - accuracy: 0.9131 - recall_10: 0.8333 - precision_10: 0.6258 - f1_m: 0.5309        \n",
            "Epoch 58/150\n",
            "5/5 [==============================] - 0s 5ms/step - loss: 0.1819 - accuracy: 0.9147 - recall_10: 1.0000 - precision_10: 0.7639 - f1_m: 0.8237\n",
            "Epoch 59/150\n",
            "5/5 [==============================] - 0s 5ms/step - loss: 0.1649 - accuracy: 0.8927 - recall_10: 0.5728 - precision_10: 0.7014 - f1_m: 0.4297        \n",
            "Epoch 60/150\n",
            "5/5 [==============================] - 0s 4ms/step - loss: 0.0836 - accuracy: 0.9821 - recall_10: 0.7670 - precision_10: 0.8333 - f1_m: 0.4867        \n",
            "Epoch 61/150\n",
            "5/5 [==============================] - 0s 5ms/step - loss: 0.1586 - accuracy: 0.9175 - recall_10: 1.0000 - precision_10: 0.7939 - f1_m: 0.7244\n",
            "Epoch 62/150\n",
            "5/5 [==============================] - 0s 4ms/step - loss: 0.1414 - accuracy: 0.9214 - recall_10: 0.9322 - precision_10: 0.7938 - f1_m: 0.8626\n",
            "Epoch 63/150\n",
            "5/5 [==============================] - 0s 4ms/step - loss: 0.1112 - accuracy: 0.9562 - recall_10: 1.0000 - precision_10: 0.8696 - f1_m: 0.8514\n",
            "Epoch 64/150\n",
            "5/5 [==============================] - 0s 4ms/step - loss: 0.2073 - accuracy: 0.8887 - recall_10: 0.7402 - precision_10: 0.8353 - f1_m: 0.6839\n",
            "Epoch 65/150\n",
            "5/5 [==============================] - 0s 4ms/step - loss: 0.3077 - accuracy: 0.8580 - recall_10: 0.4949 - precision_10: 1.0000 - f1_m: 0.6006\n",
            "Epoch 66/150\n",
            "5/5 [==============================] - 0s 5ms/step - loss: 0.1304 - accuracy: 0.9615 - recall_10: 0.8974 - precision_10: 0.9545 - f1_m: 0.8389\n",
            "Epoch 67/150\n",
            "5/5 [==============================] - 0s 4ms/step - loss: 0.2275 - accuracy: 0.9147 - recall_10: 1.0000 - precision_10: 0.7185 - f1_m: 0.7409\n",
            "Epoch 68/150\n",
            "5/5 [==============================] - 0s 5ms/step - loss: 0.0948 - accuracy: 0.9631 - recall_10: 0.9061 - precision_10: 0.9481 - f1_m: 0.9350\n",
            "Epoch 69/150\n",
            "5/5 [==============================] - 0s 5ms/step - loss: 0.1826 - accuracy: 0.9080 - recall_10: 0.6494 - precision_10: 1.0000 - f1_m: 0.7720\n",
            "Epoch 70/150\n",
            "5/5 [==============================] - 0s 4ms/step - loss: 0.1798 - accuracy: 0.8663 - recall_10: 0.6299 - precision_10: 0.8685 - f1_m: 0.6894\n",
            "Epoch 71/150\n",
            "5/5 [==============================] - 0s 4ms/step - loss: 0.1304 - accuracy: 0.9754 - recall_10: 1.0000 - precision_10: 0.9231 - f1_m: 0.8792\n",
            "Epoch 72/150\n",
            "5/5 [==============================] - 0s 4ms/step - loss: 0.1143 - accuracy: 0.9738 - recall_10: 1.0000 - precision_10: 0.9065 - f1_m: 0.8980\n",
            "Epoch 73/150\n",
            "5/5 [==============================] - 0s 5ms/step - loss: 0.0830 - accuracy: 0.9738 - recall_10: 1.0000 - precision_10: 0.9120 - f1_m: 0.8980\n",
            "Epoch 74/150\n",
            "5/5 [==============================] - 0s 4ms/step - loss: 0.0653 - accuracy: 0.9821 - recall_10: 1.0000 - precision_10: 0.9417 - f1_m: 0.9099\n",
            "Epoch 75/150\n",
            "5/5 [==============================] - 0s 4ms/step - loss: 0.0807 - accuracy: 0.9738 - recall_10: 1.0000 - precision_10: 0.9190 - f1_m: 0.8839\n",
            "Epoch 76/150\n",
            "5/5 [==============================] - 0s 5ms/step - loss: 0.0541 - accuracy: 0.9821 - recall_10: 1.0000 - precision_10: 0.9398 - f1_m: 0.8787\n",
            "Epoch 77/150\n",
            "5/5 [==============================] - 0s 5ms/step - loss: 0.0462 - accuracy: 0.9821 - recall_10: 1.0000 - precision_10: 0.9398 - f1_m: 0.9151\n",
            "Epoch 78/150\n",
            "5/5 [==============================] - 0s 4ms/step - loss: 0.0381 - accuracy: 0.9877 - recall_10: 1.0000 - precision_10: 0.9583 - f1_m: 0.9179\n",
            "Epoch 79/150\n",
            "5/5 [==============================] - 0s 4ms/step - loss: 0.0260 - accuracy: 1.0000 - recall_10: 1.0000 - precision_10: 1.0000 - f1_m: 0.9333\n",
            "Epoch 80/150\n",
            "5/5 [==============================] - 0s 5ms/step - loss: 0.0372 - accuracy: 1.0000 - recall_10: 1.0000 - precision_10: 1.0000 - f1_m: 0.8250\n",
            "Epoch 81/150\n",
            "5/5 [==============================] - 0s 5ms/step - loss: 0.0188 - accuracy: 1.0000 - recall_10: 1.0000 - precision_10: 1.0000 - f1_m: 0.9333\n",
            "Epoch 82/150\n",
            "5/5 [==============================] - 0s 4ms/step - loss: 0.0206 - accuracy: 1.0000 - recall_10: 1.0000 - precision_10: 1.0000 - f1_m: 1.0000\n",
            "Epoch 83/150\n",
            "5/5 [==============================] - 0s 4ms/step - loss: 0.0227 - accuracy: 1.0000 - recall_10: 1.0000 - precision_10: 1.0000 - f1_m: 1.0000\n",
            "Epoch 84/150\n",
            "5/5 [==============================] - 0s 4ms/step - loss: 0.0238 - accuracy: 1.0000 - recall_10: 1.0000 - precision_10: 1.0000 - f1_m: 0.9333\n",
            "Epoch 85/150\n",
            "5/5 [==============================] - 0s 6ms/step - loss: 0.1306 - accuracy: 0.9738 - recall_10: 1.0000 - precision_10: 0.9097 - f1_m: 0.8839\n",
            "Epoch 86/150\n",
            "5/5 [==============================] - 0s 4ms/step - loss: 0.0888 - accuracy: 0.9571 - recall_10: 1.0000 - precision_10: 0.8148 - f1_m: 0.7954\n",
            "Epoch 87/150\n",
            "5/5 [==============================] - 0s 4ms/step - loss: 0.0330 - accuracy: 1.0000 - recall_10: 1.0000 - precision_10: 1.0000 - f1_m: 0.9333\n",
            "Epoch 88/150\n",
            "5/5 [==============================] - 0s 5ms/step - loss: 0.0208 - accuracy: 1.0000 - recall_10: 1.0000 - precision_10: 1.0000 - f1_m: 0.9333\n",
            "Epoch 89/150\n",
            "5/5 [==============================] - 0s 4ms/step - loss: 0.0346 - accuracy: 0.9571 - recall_10: 1.0000 - precision_10: 0.8856 - f1_m: 0.8873\n",
            "Epoch 90/150\n",
            "5/5 [==============================] - 0s 4ms/step - loss: 0.0073 - accuracy: 1.0000 - recall_10: 1.0000 - precision_10: 1.0000 - f1_m: 1.0000\n",
            "Epoch 91/150\n",
            "5/5 [==============================] - 0s 4ms/step - loss: 0.0083 - accuracy: 1.0000 - recall_10: 1.0000 - precision_10: 1.0000 - f1_m: 0.9333\n",
            "Epoch 92/150\n",
            "5/5 [==============================] - 0s 4ms/step - loss: 0.0091 - accuracy: 1.0000 - recall_10: 1.0000 - precision_10: 1.0000 - f1_m: 0.9333\n",
            "Epoch 93/150\n",
            "5/5 [==============================] - 0s 4ms/step - loss: 0.0043 - accuracy: 1.0000 - recall_10: 1.0000 - precision_10: 1.0000 - f1_m: 0.9333\n",
            "Epoch 94/150\n",
            "5/5 [==============================] - 0s 4ms/step - loss: 0.0030 - accuracy: 1.0000 - recall_10: 1.0000 - precision_10: 1.0000 - f1_m: 0.9333\n",
            "Epoch 95/150\n",
            "5/5 [==============================] - 0s 4ms/step - loss: 0.0028 - accuracy: 1.0000 - recall_10: 1.0000 - precision_10: 1.0000 - f1_m: 0.9333\n",
            "Epoch 96/150\n",
            "5/5 [==============================] - 0s 4ms/step - loss: 0.0024 - accuracy: 1.0000 - recall_10: 1.0000 - precision_10: 1.0000 - f1_m: 0.9333\n",
            "Epoch 97/150\n",
            "5/5 [==============================] - 0s 7ms/step - loss: 0.0037 - accuracy: 1.0000 - recall_10: 1.0000 - precision_10: 1.0000 - f1_m: 0.9333\n",
            "Epoch 98/150\n",
            "5/5 [==============================] - 0s 5ms/step - loss: 0.0019 - accuracy: 1.0000 - recall_10: 1.0000 - precision_10: 1.0000 - f1_m: 0.9333\n",
            "Epoch 99/150\n",
            "5/5 [==============================] - 0s 5ms/step - loss: 0.0021 - accuracy: 1.0000 - recall_10: 1.0000 - precision_10: 1.0000 - f1_m: 0.9333\n",
            "Epoch 100/150\n",
            "5/5 [==============================] - 0s 4ms/step - loss: 0.0024 - accuracy: 1.0000 - recall_10: 1.0000 - precision_10: 1.0000 - f1_m: 0.7694\n",
            "Epoch 101/150\n",
            "5/5 [==============================] - 0s 4ms/step - loss: 0.0013 - accuracy: 1.0000 - recall_10: 1.0000 - precision_10: 1.0000 - f1_m: 0.9333\n",
            "Epoch 102/150\n",
            "5/5 [==============================] - 0s 4ms/step - loss: 0.0016 - accuracy: 1.0000 - recall_10: 1.0000 - precision_10: 1.0000 - f1_m: 0.9333\n",
            "Epoch 103/150\n",
            "5/5 [==============================] - 0s 4ms/step - loss: 0.0015 - accuracy: 1.0000 - recall_10: 1.0000 - precision_10: 1.0000 - f1_m: 0.9333\n",
            "Epoch 104/150\n",
            "5/5 [==============================] - 0s 4ms/step - loss: 0.0015 - accuracy: 1.0000 - recall_10: 1.0000 - precision_10: 1.0000 - f1_m: 0.9333\n",
            "Epoch 105/150\n",
            "5/5 [==============================] - 0s 4ms/step - loss: 8.2460e-04 - accuracy: 1.0000 - recall_10: 1.0000 - precision_10: 1.0000 - f1_m: 0.9333\n",
            "Epoch 106/150\n",
            "5/5 [==============================] - 0s 4ms/step - loss: 9.1182e-04 - accuracy: 1.0000 - recall_10: 1.0000 - precision_10: 1.0000 - f1_m: 0.9333\n",
            "Epoch 107/150\n",
            "5/5 [==============================] - 0s 4ms/step - loss: 8.9204e-04 - accuracy: 1.0000 - recall_10: 1.0000 - precision_10: 1.0000 - f1_m: 0.9333\n",
            "Epoch 108/150\n",
            "5/5 [==============================] - 0s 4ms/step - loss: 6.6946e-04 - accuracy: 1.0000 - recall_10: 1.0000 - precision_10: 1.0000 - f1_m: 0.9333\n",
            "Epoch 109/150\n",
            "5/5 [==============================] - 0s 4ms/step - loss: 7.9205e-04 - accuracy: 1.0000 - recall_10: 1.0000 - precision_10: 1.0000 - f1_m: 0.7528\n",
            "Epoch 110/150\n",
            "5/5 [==============================] - 0s 4ms/step - loss: 9.2182e-04 - accuracy: 1.0000 - recall_10: 1.0000 - precision_10: 1.0000 - f1_m: 1.0000\n",
            "Epoch 111/150\n",
            "5/5 [==============================] - 0s 5ms/step - loss: 6.1585e-04 - accuracy: 1.0000 - recall_10: 1.0000 - precision_10: 1.0000 - f1_m: 0.9333\n",
            "Epoch 112/150\n",
            "5/5 [==============================] - 0s 4ms/step - loss: 5.2101e-04 - accuracy: 1.0000 - recall_10: 1.0000 - precision_10: 1.0000 - f1_m: 0.9333\n",
            "Epoch 113/150\n",
            "5/5 [==============================] - 0s 5ms/step - loss: 6.6243e-04 - accuracy: 1.0000 - recall_10: 1.0000 - precision_10: 1.0000 - f1_m: 0.9333\n",
            "Epoch 114/150\n",
            "5/5 [==============================] - 0s 4ms/step - loss: 5.9951e-04 - accuracy: 1.0000 - recall_10: 1.0000 - precision_10: 1.0000 - f1_m: 0.9333\n",
            "Epoch 115/150\n",
            "5/5 [==============================] - 0s 5ms/step - loss: 5.1440e-04 - accuracy: 1.0000 - recall_10: 1.0000 - precision_10: 1.0000 - f1_m: 0.9333\n",
            "Epoch 116/150\n",
            "5/5 [==============================] - 0s 4ms/step - loss: 5.7355e-04 - accuracy: 1.0000 - recall_10: 1.0000 - precision_10: 1.0000 - f1_m: 1.0000\n",
            "Epoch 117/150\n",
            "5/5 [==============================] - 0s 6ms/step - loss: 4.7149e-04 - accuracy: 1.0000 - recall_10: 1.0000 - precision_10: 1.0000 - f1_m: 0.9333\n",
            "Epoch 118/150\n",
            "5/5 [==============================] - 0s 4ms/step - loss: 3.4310e-04 - accuracy: 1.0000 - recall_10: 1.0000 - precision_10: 1.0000 - f1_m: 0.9333\n",
            "Epoch 119/150\n",
            "5/5 [==============================] - 0s 5ms/step - loss: 3.3389e-04 - accuracy: 1.0000 - recall_10: 1.0000 - precision_10: 1.0000 - f1_m: 0.8917\n",
            "Epoch 120/150\n",
            "5/5 [==============================] - 0s 5ms/step - loss: 4.2277e-04 - accuracy: 1.0000 - recall_10: 1.0000 - precision_10: 1.0000 - f1_m: 0.9333\n",
            "Epoch 121/150\n",
            "5/5 [==============================] - 0s 4ms/step - loss: 2.5556e-04 - accuracy: 1.0000 - recall_10: 0.8333 - precision_10: 0.8333 - f1_m: 0.5194        \n",
            "Epoch 122/150\n",
            "5/5 [==============================] - 0s 5ms/step - loss: 3.0052e-04 - accuracy: 1.0000 - recall_10: 1.0000 - precision_10: 1.0000 - f1_m: 0.9333\n",
            "Epoch 123/150\n",
            "5/5 [==============================] - 0s 4ms/step - loss: 3.2649e-04 - accuracy: 1.0000 - recall_10: 1.0000 - precision_10: 1.0000 - f1_m: 0.9333\n",
            "Epoch 124/150\n",
            "5/5 [==============================] - 0s 4ms/step - loss: 3.3614e-04 - accuracy: 1.0000 - recall_10: 1.0000 - precision_10: 1.0000 - f1_m: 0.9333\n",
            "Epoch 125/150\n",
            "5/5 [==============================] - 0s 5ms/step - loss: 3.0499e-04 - accuracy: 1.0000 - recall_10: 1.0000 - precision_10: 1.0000 - f1_m: 0.9333\n",
            "Epoch 126/150\n",
            "5/5 [==============================] - 0s 4ms/step - loss: 2.9158e-04 - accuracy: 1.0000 - recall_10: 1.0000 - precision_10: 1.0000 - f1_m: 0.9333\n",
            "Epoch 127/150\n",
            "5/5 [==============================] - 0s 4ms/step - loss: 3.3158e-04 - accuracy: 1.0000 - recall_10: 1.0000 - precision_10: 1.0000 - f1_m: 0.9333\n",
            "Epoch 128/150\n",
            "5/5 [==============================] - 0s 5ms/step - loss: 1.9962e-04 - accuracy: 1.0000 - recall_10: 1.0000 - precision_10: 1.0000 - f1_m: 0.9333\n",
            "Epoch 129/150\n",
            "5/5 [==============================] - 0s 5ms/step - loss: 2.4073e-04 - accuracy: 1.0000 - recall_10: 0.8333 - precision_10: 0.8333 - f1_m: 0.5861        \n",
            "Epoch 130/150\n",
            "5/5 [==============================] - 0s 5ms/step - loss: 2.3987e-04 - accuracy: 1.0000 - recall_10: 1.0000 - precision_10: 1.0000 - f1_m: 0.9333\n",
            "Epoch 131/150\n",
            "5/5 [==============================] - 0s 5ms/step - loss: 2.2917e-04 - accuracy: 1.0000 - recall_10: 1.0000 - precision_10: 1.0000 - f1_m: 1.0000\n",
            "Epoch 132/150\n",
            "5/5 [==============================] - 0s 6ms/step - loss: 1.7663e-04 - accuracy: 1.0000 - recall_10: 1.0000 - precision_10: 1.0000 - f1_m: 0.9333\n",
            "Epoch 133/150\n",
            "5/5 [==============================] - 0s 5ms/step - loss: 2.2473e-04 - accuracy: 1.0000 - recall_10: 1.0000 - precision_10: 1.0000 - f1_m: 0.9333\n",
            "Epoch 134/150\n",
            "5/5 [==============================] - 0s 6ms/step - loss: 1.5058e-04 - accuracy: 1.0000 - recall_10: 1.0000 - precision_10: 1.0000 - f1_m: 0.9333\n",
            "Epoch 135/150\n",
            "5/5 [==============================] - 0s 4ms/step - loss: 2.1404e-04 - accuracy: 1.0000 - recall_10: 1.0000 - precision_10: 1.0000 - f1_m: 0.9333\n",
            "Epoch 136/150\n",
            "5/5 [==============================] - 0s 5ms/step - loss: 2.3740e-04 - accuracy: 1.0000 - recall_10: 1.0000 - precision_10: 1.0000 - f1_m: 0.9333\n",
            "Epoch 137/150\n",
            "5/5 [==============================] - 0s 4ms/step - loss: 2.2258e-04 - accuracy: 1.0000 - recall_10: 1.0000 - precision_10: 1.0000 - f1_m: 0.9333\n",
            "Epoch 138/150\n",
            "5/5 [==============================] - 0s 4ms/step - loss: 2.3164e-04 - accuracy: 1.0000 - recall_10: 1.0000 - precision_10: 1.0000 - f1_m: 1.0000\n",
            "Epoch 139/150\n",
            "5/5 [==============================] - 0s 5ms/step - loss: 1.7448e-04 - accuracy: 1.0000 - recall_10: 1.0000 - precision_10: 1.0000 - f1_m: 0.9333\n",
            "Epoch 140/150\n",
            "5/5 [==============================] - 0s 4ms/step - loss: 1.5460e-04 - accuracy: 1.0000 - recall_10: 1.0000 - precision_10: 1.0000 - f1_m: 0.9333\n",
            "Epoch 141/150\n",
            "5/5 [==============================] - 0s 4ms/step - loss: 1.1188e-04 - accuracy: 1.0000 - recall_10: 0.8333 - precision_10: 0.8333 - f1_m: 0.5194        \n",
            "Epoch 142/150\n",
            "5/5 [==============================] - 0s 6ms/step - loss: 1.5558e-04 - accuracy: 1.0000 - recall_10: 1.0000 - precision_10: 1.0000 - f1_m: 0.9333\n",
            "Epoch 143/150\n",
            "5/5 [==============================] - 0s 4ms/step - loss: 1.7387e-04 - accuracy: 1.0000 - recall_10: 1.0000 - precision_10: 1.0000 - f1_m: 0.9333\n",
            "Epoch 144/150\n",
            "5/5 [==============================] - 0s 4ms/step - loss: 1.5970e-04 - accuracy: 1.0000 - recall_10: 1.0000 - precision_10: 1.0000 - f1_m: 0.9333\n",
            "Epoch 145/150\n",
            "5/5 [==============================] - 0s 5ms/step - loss: 1.2394e-04 - accuracy: 1.0000 - recall_10: 1.0000 - precision_10: 1.0000 - f1_m: 0.9333\n",
            "Epoch 146/150\n",
            "5/5 [==============================] - 0s 5ms/step - loss: 1.4181e-04 - accuracy: 1.0000 - recall_10: 1.0000 - precision_10: 1.0000 - f1_m: 0.9333\n",
            "Epoch 147/150\n",
            "5/5 [==============================] - 0s 5ms/step - loss: 1.1186e-04 - accuracy: 1.0000 - recall_10: 1.0000 - precision_10: 1.0000 - f1_m: 0.9333\n",
            "Epoch 148/150\n",
            "5/5 [==============================] - 0s 5ms/step - loss: 1.2420e-04 - accuracy: 1.0000 - recall_10: 1.0000 - precision_10: 1.0000 - f1_m: 0.8250\n",
            "Epoch 149/150\n",
            "5/5 [==============================] - 0s 4ms/step - loss: 1.4643e-04 - accuracy: 1.0000 - recall_10: 1.0000 - precision_10: 1.0000 - f1_m: 1.0000\n",
            "Epoch 150/150\n",
            "5/5 [==============================] - 0s 4ms/step - loss: 1.2527e-04 - accuracy: 1.0000 - recall_10: 1.0000 - precision_10: 1.0000 - f1_m: 0.9333\n"
          ],
          "name": "stdout"
        },
        {
          "output_type": "execute_result",
          "data": {
            "text/plain": [
              "<tensorflow.python.keras.callbacks.History at 0x7f3ce9e0b0f0>"
            ]
          },
          "metadata": {
            "tags": []
          },
          "execution_count": 237
        }
      ]
    },
    {
      "cell_type": "markdown",
      "metadata": {
        "id": "LPrZUe7Imhol"
      },
      "source": [
        "Evaluación del modelo"
      ]
    },
    {
      "cell_type": "code",
      "metadata": {
        "colab": {
          "base_uri": "https://localhost:8080/"
        },
        "id": "MQbBSpJGmmRN",
        "outputId": "d4a88309-436c-4ee3-d4c0-3937471a4648"
      },
      "source": [
        "_, accuracy,recall,precision,f1_score = model.evaluate(X_test, y_test)\n",
        "print('Accuracy: %.2f' % (accuracy))\n",
        "print('Recall: %.2f' % (recall))\n",
        "print('Precisión: %.2f' % (precision))\n",
        "print('F1: %.2f' % (f1_score))\n",
        "metricas.append((accuracy,recall,precision,f1_score))"
      ],
      "execution_count": null,
      "outputs": [
        {
          "output_type": "stream",
          "text": [
            "1/1 [==============================] - 0s 15ms/step - loss: 4.7606 - accuracy: 0.7222 - recall_10: 0.2500 - precision_10: 0.3333 - f1_m: 0.2857\n",
            "Accuracy: 0.72\n",
            "Recall: 0.25\n",
            "Precisión: 0.33\n",
            "F1: 0.29\n"
          ],
          "name": "stdout"
        }
      ]
    },
    {
      "cell_type": "markdown",
      "metadata": {
        "id": "NCOKvvEItkEU"
      },
      "source": [
        "### **Otra técnica: AdaBoost**"
      ]
    },
    {
      "cell_type": "markdown",
      "metadata": {
        "id": "K3yyIAQ8LzQs"
      },
      "source": [
        "Otro algoritmo basado en el boosting, por lo que también se basa en el principio de generar modelos secuencialmente, con el propósito de que vayan mejorar a través de iteraciones."
      ]
    },
    {
      "cell_type": "markdown",
      "metadata": {
        "id": "ocOot6OxQPaF"
      },
      "source": [
        ""
      ]
    },
    {
      "cell_type": "markdown",
      "metadata": {
        "id": "eod7hrpVQQPs"
      },
      "source": [
        "Separación de features y target"
      ]
    },
    {
      "cell_type": "code",
      "metadata": {
        "id": "QB8TRUg6QQPs"
      },
      "source": [
        "Y = df.target #target\n",
        "X = df.iloc[:, :-1] #features"
      ],
      "execution_count": null,
      "outputs": []
    },
    {
      "cell_type": "markdown",
      "metadata": {
        "id": "mmMGH8gfQQPs"
      },
      "source": [
        "División entre datos de entrenamiento y testeo"
      ]
    },
    {
      "cell_type": "code",
      "metadata": {
        "id": "asXziRdrQQPt"
      },
      "source": [
        "seed = 1\n",
        "test_size = 0.3\n",
        "X_train, X_test, y_train, y_test = train_test_split(X, Y, test_size=test_size, random_state=seed)"
      ],
      "execution_count": null,
      "outputs": []
    },
    {
      "cell_type": "markdown",
      "metadata": {
        "id": "2L3Bc4alQQPt"
      },
      "source": [
        "Creación del modelo"
      ]
    },
    {
      "cell_type": "code",
      "metadata": {
        "colab": {
          "base_uri": "https://localhost:8080/"
        },
        "id": "dI6h6qHJQQPt",
        "outputId": "2f1d0e03-1152-4602-c2f3-bf7599812427"
      },
      "source": [
        "from sklearn.ensemble import AdaBoostClassifier\n",
        "\n",
        "model = AdaBoostClassifier(n_estimators=250, random_state=0)\n",
        "model.fit(X_train, y_train)\n"
      ],
      "execution_count": null,
      "outputs": [
        {
          "output_type": "execute_result",
          "data": {
            "text/plain": [
              "AdaBoostClassifier(algorithm='SAMME.R', base_estimator=None, learning_rate=1.0,\n",
              "                   n_estimators=250, random_state=0)"
            ]
          },
          "metadata": {
            "tags": []
          },
          "execution_count": 242
        }
      ]
    },
    {
      "cell_type": "markdown",
      "metadata": {
        "id": "SppGOE6MQQPu"
      },
      "source": [
        "Predicciones y evaluación con datos de testeo"
      ]
    },
    {
      "cell_type": "code",
      "metadata": {
        "colab": {
          "base_uri": "https://localhost:8080/"
        },
        "id": "sdQCNE4pQQPu",
        "outputId": "3691293d-0e7a-4d22-9ad6-6c96b5e5cca5"
      },
      "source": [
        "y_pred = model.predict(X_test)\n",
        "\n",
        "prec =precision_score(y_test, y_pred)\n",
        "rec = recall_score(y_test, y_pred)\n",
        "f1 = (2*(prec*rec)/(prec+rec)).round(2)\n",
        "\n",
        "#evaluar predicciones\n",
        "print('Accuracy: %.2f' % accuracy_score(y_test, y_pred))\n",
        "print('Recall: %.2f' % rec)\n",
        "print('Precisión: %.2f' % prec)\n",
        "print('F1: %.2f' % f1)\n",
        "metricas.append((accuracy_score(y_test, y_pred),rec,prec,f1))"
      ],
      "execution_count": null,
      "outputs": [
        {
          "output_type": "stream",
          "text": [
            "Accuracy: 0.61\n",
            "Recall: 0.25\n",
            "Precisión: 0.20\n",
            "F1: 0.22\n"
          ],
          "name": "stdout"
        }
      ]
    },
    {
      "cell_type": "markdown",
      "metadata": {
        "id": "GKM9acK9RfPi"
      },
      "source": [
        "### **Tabla comparativa**"
      ]
    },
    {
      "cell_type": "markdown",
      "metadata": {
        "id": "dt7ewKHeVGe1"
      },
      "source": [
        "En la siguiente tabla se muestran las métricas de cada método "
      ]
    },
    {
      "cell_type": "code",
      "metadata": {
        "colab": {
          "base_uri": "https://localhost:8080/",
          "height": 542
        },
        "id": "IhaYSuWoVJkb",
        "outputId": "8d5abede-3851-448a-be7b-f143eee75bc5"
      },
      "source": [
        "import plotly.graph_objects as go\n",
        "metodos = [\"RFE\",\"XGBoost\",\"Deep Learning\",\"Adaboost\"]\n",
        "accuracy = []\n",
        "recall = []\n",
        "precision = []\n",
        "f1 = []\n",
        "tasa_e = []\n",
        "for i in np.arange(4):\n",
        "  accuracy.append(metricas[i][0])\n",
        "  tasa_e.append(1-metricas[i][0])\n",
        "  recall.append(metricas[i][1])\n",
        "  precision.append(metricas[i][2])\n",
        "  f1.append(metricas[i][3])\n",
        "\n",
        "fig = go.Figure(data=[go.Table(header=dict(values=[\"Métodos\",\"Accuracy\",\"Tasa de error\",\"Recall (Sensibilidad)\",\"Precisión\",\"F1\"]),\n",
        "                 cells=dict(values=[metodos,accuracy,tasa_e,recall,precision,f1,]))\n",
        "                     ])\n",
        "fig.show()"
      ],
      "execution_count": null,
      "outputs": [
        {
          "output_type": "display_data",
          "data": {
            "text/html": [
              "<html>\n",
              "<head><meta charset=\"utf-8\" /></head>\n",
              "<body>\n",
              "    <div>\n",
              "            <script src=\"https://cdnjs.cloudflare.com/ajax/libs/mathjax/2.7.5/MathJax.js?config=TeX-AMS-MML_SVG\"></script><script type=\"text/javascript\">if (window.MathJax) {MathJax.Hub.Config({SVG: {font: \"STIX-Web\"}});}</script>\n",
              "                <script type=\"text/javascript\">window.PlotlyConfig = {MathJaxConfig: 'local'};</script>\n",
              "        <script src=\"https://cdn.plot.ly/plotly-latest.min.js\"></script>    \n",
              "            <div id=\"ac724349-7e43-475a-a599-4724cb0f1c6f\" class=\"plotly-graph-div\" style=\"height:525px; width:100%;\"></div>\n",
              "            <script type=\"text/javascript\">\n",
              "                \n",
              "                    window.PLOTLYENV=window.PLOTLYENV || {};\n",
              "                    \n",
              "                if (document.getElementById(\"ac724349-7e43-475a-a599-4724cb0f1c6f\")) {\n",
              "                    Plotly.newPlot(\n",
              "                        'ac724349-7e43-475a-a599-4724cb0f1c6f',\n",
              "                        [{\"cells\": {\"values\": [[\"RFE\", \"XGBoost\", \"Deep Learning\", \"Adaboost\"], [0.8333333333333334, 0.5, 0.7222222089767456, 0.6111111111111112], [0.16666666666666663, 0.5, 0.2777777910232544, 0.38888888888888884], [0.25, 0.25, 0.25, 0.25], [1.0, 0.14285714285714285, 0.3333333432674408, 0.2], [0.4, 0.18181818181818182, 0.2857142388820648, 0.22]]}, \"header\": {\"values\": [\"M\\u00e9todos\", \"Accuracy\", \"Tasa de error\", \"Recall (Sensibilidad)\", \"Precisi\\u00f3n\", \"F1\"]}, \"type\": \"table\"}],\n",
              "                        {\"template\": {\"data\": {\"bar\": [{\"error_x\": {\"color\": \"#2a3f5f\"}, \"error_y\": {\"color\": \"#2a3f5f\"}, \"marker\": {\"line\": {\"color\": \"#E5ECF6\", \"width\": 0.5}}, \"type\": \"bar\"}], \"barpolar\": [{\"marker\": {\"line\": {\"color\": \"#E5ECF6\", \"width\": 0.5}}, \"type\": \"barpolar\"}], \"carpet\": [{\"aaxis\": {\"endlinecolor\": \"#2a3f5f\", \"gridcolor\": \"white\", \"linecolor\": \"white\", \"minorgridcolor\": \"white\", \"startlinecolor\": \"#2a3f5f\"}, \"baxis\": {\"endlinecolor\": \"#2a3f5f\", \"gridcolor\": \"white\", \"linecolor\": \"white\", \"minorgridcolor\": \"white\", \"startlinecolor\": \"#2a3f5f\"}, \"type\": \"carpet\"}], \"choropleth\": [{\"colorbar\": {\"outlinewidth\": 0, \"ticks\": \"\"}, \"type\": \"choropleth\"}], \"contour\": [{\"colorbar\": {\"outlinewidth\": 0, \"ticks\": \"\"}, \"colorscale\": [[0.0, \"#0d0887\"], [0.1111111111111111, \"#46039f\"], [0.2222222222222222, \"#7201a8\"], [0.3333333333333333, \"#9c179e\"], [0.4444444444444444, \"#bd3786\"], [0.5555555555555556, \"#d8576b\"], [0.6666666666666666, \"#ed7953\"], [0.7777777777777778, \"#fb9f3a\"], [0.8888888888888888, \"#fdca26\"], [1.0, \"#f0f921\"]], \"type\": \"contour\"}], \"contourcarpet\": [{\"colorbar\": {\"outlinewidth\": 0, \"ticks\": \"\"}, \"type\": \"contourcarpet\"}], \"heatmap\": [{\"colorbar\": {\"outlinewidth\": 0, \"ticks\": \"\"}, \"colorscale\": [[0.0, \"#0d0887\"], [0.1111111111111111, \"#46039f\"], [0.2222222222222222, \"#7201a8\"], [0.3333333333333333, \"#9c179e\"], [0.4444444444444444, \"#bd3786\"], [0.5555555555555556, \"#d8576b\"], [0.6666666666666666, \"#ed7953\"], [0.7777777777777778, \"#fb9f3a\"], [0.8888888888888888, \"#fdca26\"], [1.0, \"#f0f921\"]], \"type\": \"heatmap\"}], \"heatmapgl\": [{\"colorbar\": {\"outlinewidth\": 0, \"ticks\": \"\"}, \"colorscale\": [[0.0, \"#0d0887\"], [0.1111111111111111, \"#46039f\"], [0.2222222222222222, \"#7201a8\"], [0.3333333333333333, \"#9c179e\"], [0.4444444444444444, \"#bd3786\"], [0.5555555555555556, \"#d8576b\"], [0.6666666666666666, \"#ed7953\"], [0.7777777777777778, \"#fb9f3a\"], [0.8888888888888888, \"#fdca26\"], [1.0, \"#f0f921\"]], \"type\": \"heatmapgl\"}], \"histogram\": [{\"marker\": {\"colorbar\": {\"outlinewidth\": 0, \"ticks\": \"\"}}, \"type\": \"histogram\"}], \"histogram2d\": [{\"colorbar\": {\"outlinewidth\": 0, \"ticks\": \"\"}, \"colorscale\": [[0.0, \"#0d0887\"], [0.1111111111111111, \"#46039f\"], [0.2222222222222222, \"#7201a8\"], [0.3333333333333333, \"#9c179e\"], [0.4444444444444444, \"#bd3786\"], [0.5555555555555556, \"#d8576b\"], [0.6666666666666666, \"#ed7953\"], [0.7777777777777778, \"#fb9f3a\"], [0.8888888888888888, \"#fdca26\"], [1.0, \"#f0f921\"]], \"type\": \"histogram2d\"}], \"histogram2dcontour\": [{\"colorbar\": {\"outlinewidth\": 0, \"ticks\": \"\"}, \"colorscale\": [[0.0, \"#0d0887\"], [0.1111111111111111, \"#46039f\"], [0.2222222222222222, \"#7201a8\"], [0.3333333333333333, \"#9c179e\"], [0.4444444444444444, \"#bd3786\"], [0.5555555555555556, \"#d8576b\"], [0.6666666666666666, \"#ed7953\"], [0.7777777777777778, \"#fb9f3a\"], [0.8888888888888888, \"#fdca26\"], [1.0, \"#f0f921\"]], \"type\": \"histogram2dcontour\"}], \"mesh3d\": [{\"colorbar\": {\"outlinewidth\": 0, \"ticks\": \"\"}, \"type\": \"mesh3d\"}], \"parcoords\": [{\"line\": {\"colorbar\": {\"outlinewidth\": 0, \"ticks\": \"\"}}, \"type\": \"parcoords\"}], \"pie\": [{\"automargin\": true, \"type\": \"pie\"}], \"scatter\": [{\"marker\": {\"colorbar\": {\"outlinewidth\": 0, \"ticks\": \"\"}}, \"type\": \"scatter\"}], \"scatter3d\": [{\"line\": {\"colorbar\": {\"outlinewidth\": 0, \"ticks\": \"\"}}, \"marker\": {\"colorbar\": {\"outlinewidth\": 0, \"ticks\": \"\"}}, \"type\": \"scatter3d\"}], \"scattercarpet\": [{\"marker\": {\"colorbar\": {\"outlinewidth\": 0, \"ticks\": \"\"}}, \"type\": \"scattercarpet\"}], \"scattergeo\": [{\"marker\": {\"colorbar\": {\"outlinewidth\": 0, \"ticks\": \"\"}}, \"type\": \"scattergeo\"}], \"scattergl\": [{\"marker\": {\"colorbar\": {\"outlinewidth\": 0, \"ticks\": \"\"}}, \"type\": \"scattergl\"}], \"scattermapbox\": [{\"marker\": {\"colorbar\": {\"outlinewidth\": 0, \"ticks\": \"\"}}, \"type\": \"scattermapbox\"}], \"scatterpolar\": [{\"marker\": {\"colorbar\": {\"outlinewidth\": 0, \"ticks\": \"\"}}, \"type\": \"scatterpolar\"}], \"scatterpolargl\": [{\"marker\": {\"colorbar\": {\"outlinewidth\": 0, \"ticks\": \"\"}}, \"type\": \"scatterpolargl\"}], \"scatterternary\": [{\"marker\": {\"colorbar\": {\"outlinewidth\": 0, \"ticks\": \"\"}}, \"type\": \"scatterternary\"}], \"surface\": [{\"colorbar\": {\"outlinewidth\": 0, \"ticks\": \"\"}, \"colorscale\": [[0.0, \"#0d0887\"], [0.1111111111111111, \"#46039f\"], [0.2222222222222222, \"#7201a8\"], [0.3333333333333333, \"#9c179e\"], [0.4444444444444444, \"#bd3786\"], [0.5555555555555556, \"#d8576b\"], [0.6666666666666666, \"#ed7953\"], [0.7777777777777778, \"#fb9f3a\"], [0.8888888888888888, \"#fdca26\"], [1.0, \"#f0f921\"]], \"type\": \"surface\"}], \"table\": [{\"cells\": {\"fill\": {\"color\": \"#EBF0F8\"}, \"line\": {\"color\": \"white\"}}, \"header\": {\"fill\": {\"color\": \"#C8D4E3\"}, \"line\": {\"color\": \"white\"}}, \"type\": \"table\"}]}, \"layout\": {\"annotationdefaults\": {\"arrowcolor\": \"#2a3f5f\", \"arrowhead\": 0, \"arrowwidth\": 1}, \"coloraxis\": {\"colorbar\": {\"outlinewidth\": 0, \"ticks\": \"\"}}, \"colorscale\": {\"diverging\": [[0, \"#8e0152\"], [0.1, \"#c51b7d\"], [0.2, \"#de77ae\"], [0.3, \"#f1b6da\"], [0.4, \"#fde0ef\"], [0.5, \"#f7f7f7\"], [0.6, \"#e6f5d0\"], [0.7, \"#b8e186\"], [0.8, \"#7fbc41\"], [0.9, \"#4d9221\"], [1, \"#276419\"]], \"sequential\": [[0.0, \"#0d0887\"], [0.1111111111111111, \"#46039f\"], [0.2222222222222222, \"#7201a8\"], [0.3333333333333333, \"#9c179e\"], [0.4444444444444444, \"#bd3786\"], [0.5555555555555556, \"#d8576b\"], [0.6666666666666666, \"#ed7953\"], [0.7777777777777778, \"#fb9f3a\"], [0.8888888888888888, \"#fdca26\"], [1.0, \"#f0f921\"]], \"sequentialminus\": [[0.0, \"#0d0887\"], [0.1111111111111111, \"#46039f\"], [0.2222222222222222, \"#7201a8\"], [0.3333333333333333, \"#9c179e\"], [0.4444444444444444, \"#bd3786\"], [0.5555555555555556, \"#d8576b\"], [0.6666666666666666, \"#ed7953\"], [0.7777777777777778, \"#fb9f3a\"], [0.8888888888888888, \"#fdca26\"], [1.0, \"#f0f921\"]]}, \"colorway\": [\"#636efa\", \"#EF553B\", \"#00cc96\", \"#ab63fa\", \"#FFA15A\", \"#19d3f3\", \"#FF6692\", \"#B6E880\", \"#FF97FF\", \"#FECB52\"], \"font\": {\"color\": \"#2a3f5f\"}, \"geo\": {\"bgcolor\": \"white\", \"lakecolor\": \"white\", \"landcolor\": \"#E5ECF6\", \"showlakes\": true, \"showland\": true, \"subunitcolor\": \"white\"}, \"hoverlabel\": {\"align\": \"left\"}, \"hovermode\": \"closest\", \"mapbox\": {\"style\": \"light\"}, \"paper_bgcolor\": \"white\", \"plot_bgcolor\": \"#E5ECF6\", \"polar\": {\"angularaxis\": {\"gridcolor\": \"white\", \"linecolor\": \"white\", \"ticks\": \"\"}, \"bgcolor\": \"#E5ECF6\", \"radialaxis\": {\"gridcolor\": \"white\", \"linecolor\": \"white\", \"ticks\": \"\"}}, \"scene\": {\"xaxis\": {\"backgroundcolor\": \"#E5ECF6\", \"gridcolor\": \"white\", \"gridwidth\": 2, \"linecolor\": \"white\", \"showbackground\": true, \"ticks\": \"\", \"zerolinecolor\": \"white\"}, \"yaxis\": {\"backgroundcolor\": \"#E5ECF6\", \"gridcolor\": \"white\", \"gridwidth\": 2, \"linecolor\": \"white\", \"showbackground\": true, \"ticks\": \"\", \"zerolinecolor\": \"white\"}, \"zaxis\": {\"backgroundcolor\": \"#E5ECF6\", \"gridcolor\": \"white\", \"gridwidth\": 2, \"linecolor\": \"white\", \"showbackground\": true, \"ticks\": \"\", \"zerolinecolor\": \"white\"}}, \"shapedefaults\": {\"line\": {\"color\": \"#2a3f5f\"}}, \"ternary\": {\"aaxis\": {\"gridcolor\": \"white\", \"linecolor\": \"white\", \"ticks\": \"\"}, \"baxis\": {\"gridcolor\": \"white\", \"linecolor\": \"white\", \"ticks\": \"\"}, \"bgcolor\": \"#E5ECF6\", \"caxis\": {\"gridcolor\": \"white\", \"linecolor\": \"white\", \"ticks\": \"\"}}, \"title\": {\"x\": 0.05}, \"xaxis\": {\"automargin\": true, \"gridcolor\": \"white\", \"linecolor\": \"white\", \"ticks\": \"\", \"title\": {\"standoff\": 15}, \"zerolinecolor\": \"white\", \"zerolinewidth\": 2}, \"yaxis\": {\"automargin\": true, \"gridcolor\": \"white\", \"linecolor\": \"white\", \"ticks\": \"\", \"title\": {\"standoff\": 15}, \"zerolinecolor\": \"white\", \"zerolinewidth\": 2}}}},\n",
              "                        {\"responsive\": true}\n",
              "                    ).then(function(){\n",
              "                            \n",
              "var gd = document.getElementById('ac724349-7e43-475a-a599-4724cb0f1c6f');\n",
              "var x = new MutationObserver(function (mutations, observer) {{\n",
              "        var display = window.getComputedStyle(gd).display;\n",
              "        if (!display || display === 'none') {{\n",
              "            console.log([gd, 'removed!']);\n",
              "            Plotly.purge(gd);\n",
              "            observer.disconnect();\n",
              "        }}\n",
              "}});\n",
              "\n",
              "// Listen for the removal of the full notebook cells\n",
              "var notebookContainer = gd.closest('#notebook-container');\n",
              "if (notebookContainer) {{\n",
              "    x.observe(notebookContainer, {childList: true});\n",
              "}}\n",
              "\n",
              "// Listen for the clearing of the current output cell\n",
              "var outputEl = gd.closest('.output');\n",
              "if (outputEl) {{\n",
              "    x.observe(outputEl, {childList: true});\n",
              "}}\n",
              "\n",
              "                        })\n",
              "                };\n",
              "                \n",
              "            </script>\n",
              "        </div>\n",
              "</body>\n",
              "</html>"
            ]
          },
          "metadata": {
            "tags": []
          }
        }
      ]
    },
    {
      "cell_type": "markdown",
      "metadata": {
        "id": "zwkq1dfgjHmz"
      },
      "source": [
        "Podemos saber cuáles métodos poseen un mejor desempeño en base a sus indicadores:\n",
        "\n",
        "\n",
        "*   Los métodos con mejor *Accuracy* son *Selección de características* y *Deep Learning* , además de muy cerca lo siguen *Adaboost* (se puede realizar el mismo análisis con la Tasa de error pero buscando las cifras menores).\n",
        "*   Con respecto a la sensibilidad, todos los métodos presentes en este taller poseen la misma cifra *0.25*.\n",
        "*   En cuanto a la precisión, se nota que el mejor desempeño lo posee *RFE (Selección de características)*, siguiendo por mucho más abajo *Deep Learning*.\n",
        "*   Con respecto al indicador F1 nuevamente *Selección de características* presenta un mejor desempeño.\n",
        "\n",
        "Por lo que, se puede concluir en base a la tabla que el método *Selección de características (RFE)* presenta un mejor desempeño con respecto a los otros métodos, debido a que muestra mejores resultados en sus indicadores, no solo en Accuracy y Precisión, además se iguala con los demás métodos en Sensibilidad, lo cual es importante para detectar casos positivos (lo cual es bastante relevante en el contexto de salud). Notar también que, si se compara el método basado en *RFE* con los vistos en el Taller 2, este se muestra como superior con gran ventaja."
      ]
    }
  ]
}